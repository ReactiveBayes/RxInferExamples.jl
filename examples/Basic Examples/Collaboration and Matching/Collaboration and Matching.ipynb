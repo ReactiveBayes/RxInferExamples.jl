{
 "cells": [
  {
   "cell_type": "code",
   "execution_count": 2,
   "metadata": {},
   "outputs": [],
   "source": [
    "using Random\n",
    "using Distributions\n",
    "using RxInfer\n",
    "using DataFrames\n",
    "# using StatsPlots"
   ]
  },
  {
   "cell_type": "code",
   "execution_count": 3,
   "metadata": {},
   "outputs": [],
   "source": [
    "Random.seed!(42)"
   ]
  },
  {
   "cell_type": "markdown",
   "metadata": {},
   "source": [
    "## Simulate synthetic workers"
   ]
  },
  {
   "cell_type": "code",
   "execution_count": 480,
   "metadata": {},
   "outputs": [],
   "source": [
    "# Parameters\n",
    "num_workers = 5\n",
    "num_projects = 30\n",
    "\n",
    "# Define latent traits\n",
    "traits = [:competence, :communication, :reliability, :creativity, :conflict]\n",
    "\n",
    "# Generate true latent traits (hidden ground truth)\n",
    "true_traits = Dict(trait => rand(Normal(0, sqrt(10)), num_workers) for trait in traits)\n",
    "\n",
    "# Create project pairs\n",
    "pairs = [(rand(1:num_workers), rand(1:num_workers)) for _ in 1:num_projects]\n",
    "pairs = [(i != j ? (i, j) : (i, rand(filter(x -> x != i, 1:num_workers)))) for (i, j) in pairs]\n",
    "\n",
    "# Generate observed collaboration scores\n",
    "function generate_collaboration_score(i, j)\n",
    "    combined_score =\n",
    "          0.3 * (true_traits[:competence][i] + true_traits[:competence][j]) / 2\n",
    "        + 0.3 * (true_traits[:communication][i] + true_traits[:communication][j]) / 2\n",
    "        + 0.2 * (true_traits[:reliability][i] + true_traits[:reliability][j]) / 2\n",
    "        + 0.1 * (true_traits[:creativity][i] + true_traits[:creativity][j]) / 2\n",
    "        - 0.2 * (true_traits[:conflict][i] + true_traits[:conflict][j]) / 2\n",
    "    \n",
    "    combined_score += rand(Normal(0, 1.0)) # Add noise\n",
    "    return clamp(combined_score, 0.0, 1.0)\n",
    "end\n",
    "\n",
    "observed_scores = [generate_collaboration_score(i, j) for (i, j) in pairs];"
   ]
  },
  {
   "cell_type": "code",
   "execution_count": 616,
   "metadata": {},
   "outputs": [
    {
     "data": {
      "text/plain": [
       "my_clamp (generic function with 1 method)"
      ]
     },
     "metadata": {},
     "output_type": "display_data"
    }
   ],
   "source": [
    "my_clamp(x₁, x₂, x₃, x₄, x₅) = 1/(1 + exp(-x₁ - x₂ - x₃ - x₄ - x₅))"
   ]
  },
  {
   "cell_type": "markdown",
   "metadata": {},
   "source": [
    "## Define Model"
   ]
  },
  {
   "cell_type": "code",
   "execution_count": 633,
   "metadata": {},
   "outputs": [],
   "source": [
    "@model function CollaborationModel(observed_scores, pairs, num_workers)\n",
    "\n",
    "    local competence, communication, reliability, creativity, conflict\n",
    "    # Latent traits per worker\n",
    "    for i in 1:num_workers\n",
    "        competence[i] ~ Normal(mean=0.0, var=10.0)\n",
    "        communication[i] ~ Normal(mean=0.0, var=10.0)\n",
    "        reliability[i] ~ Normal(mean=0.0, var=10.0)\n",
    "        creativity[i] ~ Normal(mean=0.0, var=10.0)\n",
    "        conflict[i] ~ Normal(mean=0.0, var=10.0)\n",
    "    end\n",
    "\n",
    "    # Observations\n",
    "    for n in 1:length(observed_scores)\n",
    "        wi, wj = pairs[n]\n",
    "\n",
    "        competence_score[n]    := competence[wi] + competence[wj]\n",
    "        communication_score[n] := communication[wi] + communication[wj]\n",
    "        reliability_score[n]   := reliability[wi] + reliability[wj]\n",
    "        creativity_score[n]    := creativity[wi] + creativity[wj]\n",
    "        conflict_score[n]      := conflict[wi] + conflict[wj]\n",
    "\n",
    "\n",
    "        observed_scores[n] ~ Normal(mean=my_clamp(0.15*competence_score[n], 0.15*communication_score[n], 0.1*reliability_score[n],0.05*creativity_score[n], 0.1*conflict_score[n]), var=0.01)\n",
    "    end\n",
    "end"
   ]
  },
  {
   "cell_type": "code",
   "execution_count": 634,
   "metadata": {},
   "outputs": [
    {
     "data": {
      "text/plain": [
       "Initial state: \n",
       "  μ(competence) = NormalMeanVariance{Float64}(μ=0.0, v=1.0e12)\n",
       "  μ(communication) = NormalMeanVariance{Float64}(μ=0.0, v=1.0e12)\n",
       "  μ(reliability) = NormalMeanVariance{Float64}(μ=0.0, v=1.0e12)\n",
       "  μ(creativity) = NormalMeanVariance{Float64}(μ=0.0, v=1.0e12)\n",
       "  μ(conflict) = NormalMeanVariance{Float64}(μ=0.0, v=1.0e12)\n"
      ]
     },
     "metadata": {},
     "output_type": "display_data"
    }
   ],
   "source": [
    "init = @initialization begin \n",
    "    μ(competence) = vague(NormalMeanVariance)\n",
    "    μ(communication) = vague(NormalMeanVariance)\n",
    "    μ(reliability) = vague(NormalMeanVariance)\n",
    "    μ(creativity) = vague(NormalMeanVariance)\n",
    "    μ(conflict) = vague(NormalMeanVariance)\n",
    "end"
   ]
  },
  {
   "cell_type": "code",
   "execution_count": 650,
   "metadata": {},
   "outputs": [
    {
     "data": {
      "text/plain": [
       "Meta: \n",
       "  my_clamp() -> Linearization()\n"
      ]
     },
     "metadata": {},
     "output_type": "display_data"
    }
   ],
   "source": [
    "meta = @meta begin\n",
    "    my_clamp() -> Linearization()\n",
    "end"
   ]
  },
  {
   "cell_type": "code",
   "execution_count": 664,
   "metadata": {},
   "outputs": [],
   "source": [
    "# Run inference\n",
    "result = infer(model=CollaborationModel(pairs=pairs, num_workers=num_workers), data=(observed_scores=observed_scores,), initialization=init, meta=meta, free_energy=true, iterations=5);"
   ]
  },
  {
   "cell_type": "code",
   "execution_count": 665,
   "metadata": {},
   "outputs": [],
   "source": [
    "using Plots"
   ]
  },
  {
   "cell_type": "code",
   "execution_count": 666,
   "metadata": {},
   "outputs": [
    {
     "data": {
      "image/png": "[encoded data removed]",
      "image/svg+xml": [
       "<?xml version=\"1.0\" encoding=\"utf-8\"?>\n",
       "<svg xmlns=\"http://www.w3.org/2000/svg\" xmlns:xlink=\"http://www.w3.org/1999/xlink\" width=\"600\" height=\"400\" viewBox=\"0 0 2400 1600\">\n",
       "<defs>\n",
       "  <clipPath id=\"clip910\">\n",
       "    <rect x=\"0\" y=\"0\" width=\"2400\" height=\"1600\"/>\n",
       "  </clipPath>\n",
       "</defs>\n",
       "<path clip-path=\"url(#clip910)\" d=\"M0 1600 L2400 1600 L2400 8.88178e-14 L0 8.88178e-14  Z\" fill=\"#ffffff\" fill-rule=\"evenodd\" fill-opacity=\"1\"/>\n",
       "<defs>\n",
       "  <clipPath id=\"clip911\">\n",
       "    <rect x=\"480\" y=\"0\" width=\"1681\" height=\"1600\"/>\n",
       "  </clipPath>\n",
       "</defs>\n",
       "<path clip-path=\"url(#clip910)\" d=\"M201.019 1486.45 L2352.76 1486.45 L2352.76 47.2441 L201.019 47.2441  Z\" fill=\"#ffffff\" fill-rule=\"evenodd\" fill-opacity=\"1\"/>\n",
       "<defs>\n",
       "  <clipPath id=\"clip912\">\n",
       "    <rect x=\"201\" y=\"47\" width=\"2153\" height=\"1440\"/>\n",
       "  </clipPath>\n",
       "</defs>\n",
       "<polyline clip-path=\"url(#clip912)\" style=\"stroke:#000000; stroke-linecap:round; stroke-linejoin:round; stroke-width:2; stroke-opacity:0.1; fill:none\" points=\"261.917,1486.45 261.917,47.2441 \"/>\n",
       "<polyline clip-path=\"url(#clip912)\" style=\"stroke:#000000; stroke-linecap:round; stroke-linejoin:round; stroke-width:2; stroke-opacity:0.1; fill:none\" points=\"769.403,1486.45 769.403,47.2441 \"/>\n",
       "<polyline clip-path=\"url(#clip912)\" style=\"stroke:#000000; stroke-linecap:round; stroke-linejoin:round; stroke-width:2; stroke-opacity:0.1; fill:none\" points=\"1276.89,1486.45 1276.89,47.2441 \"/>\n",
       "<polyline clip-path=\"url(#clip912)\" style=\"stroke:#000000; stroke-linecap:round; stroke-linejoin:round; stroke-width:2; stroke-opacity:0.1; fill:none\" points=\"1784.37,1486.45 1784.37,47.2441 \"/>\n",
       "<polyline clip-path=\"url(#clip912)\" style=\"stroke:#000000; stroke-linecap:round; stroke-linejoin:round; stroke-width:2; stroke-opacity:0.1; fill:none\" points=\"2291.86,1486.45 2291.86,47.2441 \"/>\n",
       "<polyline clip-path=\"url(#clip912)\" style=\"stroke:#000000; stroke-linecap:round; stroke-linejoin:round; stroke-width:2; stroke-opacity:0.1; fill:none\" points=\"201.019,1473.83 2352.76,1473.83 \"/>\n",
       "<polyline clip-path=\"url(#clip912)\" style=\"stroke:#000000; stroke-linecap:round; stroke-linejoin:round; stroke-width:2; stroke-opacity:0.1; fill:none\" points=\"201.019,1145 2352.76,1145 \"/>\n",
       "<polyline clip-path=\"url(#clip912)\" style=\"stroke:#000000; stroke-linecap:round; stroke-linejoin:round; stroke-width:2; stroke-opacity:0.1; fill:none\" points=\"201.019,816.174 2352.76,816.174 \"/>\n",
       "<polyline clip-path=\"url(#clip912)\" style=\"stroke:#000000; stroke-linecap:round; stroke-linejoin:round; stroke-width:2; stroke-opacity:0.1; fill:none\" points=\"201.019,487.346 2352.76,487.346 \"/>\n",
       "<polyline clip-path=\"url(#clip912)\" style=\"stroke:#000000; stroke-linecap:round; stroke-linejoin:round; stroke-width:2; stroke-opacity:0.1; fill:none\" points=\"201.019,158.518 2352.76,158.518 \"/>\n",
       "<polyline clip-path=\"url(#clip910)\" style=\"stroke:#000000; stroke-linecap:round; stroke-linejoin:round; stroke-width:4; stroke-opacity:1; fill:none\" points=\"201.019,1486.45 2352.76,1486.45 \"/>\n",
       "<polyline clip-path=\"url(#clip910)\" style=\"stroke:#000000; stroke-linecap:round; stroke-linejoin:round; stroke-width:4; stroke-opacity:1; fill:none\" points=\"261.917,1486.45 261.917,1467.55 \"/>\n",
       "<polyline clip-path=\"url(#clip910)\" style=\"stroke:#000000; stroke-linecap:round; stroke-linejoin:round; stroke-width:4; stroke-opacity:1; fill:none\" points=\"769.403,1486.45 769.403,1467.55 \"/>\n",
       "<polyline clip-path=\"url(#clip910)\" style=\"stroke:#000000; stroke-linecap:round; stroke-linejoin:round; stroke-width:4; stroke-opacity:1; fill:none\" points=\"1276.89,1486.45 1276.89,1467.55 \"/>\n",
       "<polyline clip-path=\"url(#clip910)\" style=\"stroke:#000000; stroke-linecap:round; stroke-linejoin:round; stroke-width:4; stroke-opacity:1; fill:none\" points=\"1784.37,1486.45 1784.37,1467.55 \"/>\n",
       "<polyline clip-path=\"url(#clip910)\" style=\"stroke:#000000; stroke-linecap:round; stroke-linejoin:round; stroke-width:4; stroke-opacity:1; fill:none\" points=\"2291.86,1486.45 2291.86,1467.55 \"/>\n",
       "<path clip-path=\"url(#clip910)\" d=\"M252.299 1544.91 L259.938 1544.91 L259.938 1518.55 L251.628 1520.21 L251.628 1515.95 L259.892 1514.29 L264.568 1514.29 L264.568 1544.91 L272.207 1544.91 L272.207 1548.85 L252.299 1548.85 L252.299 1544.91 Z\" fill=\"#000000\" fill-rule=\"nonzero\" fill-opacity=\"1\" /><path clip-path=\"url(#clip910)\" d=\"M764.055 1544.91 L780.375 1544.91 L780.375 1548.85 L758.43 1548.85 L758.43 1544.91 Q761.092 1542.16 765.676 1537.53 Q770.282 1532.88 771.463 1531.53 Q773.708 1529.01 774.588 1527.27 Q775.49 1525.51 775.49 1523.82 Q775.49 1521.07 773.546 1519.33 Q771.625 1517.6 768.523 1517.6 Q766.324 1517.6 763.87 1518.36 Q761.44 1519.13 758.662 1520.68 L758.662 1515.95 Q761.486 1514.82 763.94 1514.24 Q766.393 1513.66 768.43 1513.66 Q773.801 1513.66 776.995 1516.35 Q780.19 1519.03 780.19 1523.52 Q780.19 1525.65 779.379 1527.57 Q778.592 1529.47 776.486 1532.07 Q775.907 1532.74 772.805 1535.95 Q769.703 1539.15 764.055 1544.91 Z\" fill=\"#000000\" fill-rule=\"nonzero\" fill-opacity=\"1\" /><path clip-path=\"url(#clip910)\" d=\"M1281.14 1530.21 Q1284.49 1530.93 1286.37 1533.2 Q1288.26 1535.47 1288.26 1538.8 Q1288.26 1543.92 1284.75 1546.72 Q1281.23 1549.52 1274.75 1549.52 Q1272.57 1549.52 1270.26 1549.08 Q1267.96 1548.66 1265.51 1547.81 L1265.51 1543.29 Q1267.45 1544.43 1269.77 1545.01 Q1272.08 1545.58 1274.61 1545.58 Q1279.01 1545.58 1281.3 1543.85 Q1283.61 1542.11 1283.61 1538.8 Q1283.61 1535.75 1281.46 1534.03 Q1279.33 1532.3 1275.51 1532.3 L1271.48 1532.3 L1271.48 1528.45 L1275.7 1528.45 Q1279.14 1528.45 1280.97 1527.09 Q1282.8 1525.7 1282.8 1523.11 Q1282.8 1520.45 1280.9 1519.03 Q1279.03 1517.6 1275.51 1517.6 Q1273.59 1517.6 1271.39 1518.01 Q1269.19 1518.43 1266.55 1519.31 L1266.55 1515.14 Q1269.21 1514.4 1271.53 1514.03 Q1273.87 1513.66 1275.93 1513.66 Q1281.25 1513.66 1284.35 1516.09 Q1287.45 1518.5 1287.45 1522.62 Q1287.45 1525.49 1285.81 1527.48 Q1284.17 1529.45 1281.14 1530.21 Z\" fill=\"#000000\" fill-rule=\"nonzero\" fill-opacity=\"1\" /><path clip-path=\"url(#clip910)\" d=\"M1787.38 1518.36 L1775.58 1536.81 L1787.38 1536.81 L1787.38 1518.36 M1786.16 1514.29 L1792.03 1514.29 L1792.03 1536.81 L1796.97 1536.81 L1796.97 1540.7 L1792.03 1540.7 L1792.03 1548.85 L1787.38 1548.85 L1787.38 1540.7 L1771.78 1540.7 L1771.78 1536.19 L1786.16 1514.29 Z\" fill=\"#000000\" fill-rule=\"nonzero\" fill-opacity=\"1\" /><path clip-path=\"url(#clip910)\" d=\"M2282.14 1514.29 L2300.49 1514.29 L2300.49 1518.22 L2286.42 1518.22 L2286.42 1526.7 Q2287.44 1526.35 2288.45 1526.19 Q2289.47 1526 2290.49 1526 Q2296.28 1526 2299.66 1529.17 Q2303.04 1532.34 2303.04 1537.76 Q2303.04 1543.34 2299.57 1546.44 Q2296.09 1549.52 2289.77 1549.52 Q2287.6 1549.52 2285.33 1549.15 Q2283.08 1548.78 2280.68 1548.04 L2280.68 1543.34 Q2282.76 1544.47 2284.98 1545.03 Q2287.2 1545.58 2289.68 1545.58 Q2293.69 1545.58 2296.02 1543.48 Q2298.36 1541.37 2298.36 1537.76 Q2298.36 1534.15 2296.02 1532.04 Q2293.69 1529.94 2289.68 1529.94 Q2287.81 1529.94 2285.93 1530.35 Q2284.08 1530.77 2282.14 1531.65 L2282.14 1514.29 Z\" fill=\"#000000\" fill-rule=\"nonzero\" fill-opacity=\"1\" /><polyline clip-path=\"url(#clip910)\" style=\"stroke:#000000; stroke-linecap:round; stroke-linejoin:round; stroke-width:4; stroke-opacity:1; fill:none\" points=\"201.019,1486.45 201.019,47.2441 \"/>\n",
       "<polyline clip-path=\"url(#clip910)\" style=\"stroke:#000000; stroke-linecap:round; stroke-linejoin:round; stroke-width:4; stroke-opacity:1; fill:none\" points=\"201.019,1473.83 219.917,1473.83 \"/>\n",
       "<polyline clip-path=\"url(#clip910)\" style=\"stroke:#000000; stroke-linecap:round; stroke-linejoin:round; stroke-width:4; stroke-opacity:1; fill:none\" points=\"201.019,1145 219.917,1145 \"/>\n",
       "<polyline clip-path=\"url(#clip910)\" style=\"stroke:#000000; stroke-linecap:round; stroke-linejoin:round; stroke-width:4; stroke-opacity:1; fill:none\" points=\"201.019,816.174 219.917,816.174 \"/>\n",
       "<polyline clip-path=\"url(#clip910)\" style=\"stroke:#000000; stroke-linecap:round; stroke-linejoin:round; stroke-width:4; stroke-opacity:1; fill:none\" points=\"201.019,487.346 219.917,487.346 \"/>\n",
       "<polyline clip-path=\"url(#clip910)\" style=\"stroke:#000000; stroke-linecap:round; stroke-linejoin:round; stroke-width:4; stroke-opacity:1; fill:none\" points=\"201.019,158.518 219.917,158.518 \"/>\n",
       "<path clip-path=\"url(#clip910)\" d=\"M153.075 1459.63 Q149.464 1459.63 147.635 1463.19 Q145.83 1466.73 145.83 1473.86 Q145.83 1480.97 147.635 1484.54 Q149.464 1488.08 153.075 1488.08 Q156.709 1488.08 158.515 1484.54 Q160.343 1480.97 160.343 1473.86 Q160.343 1466.73 158.515 1463.19 Q156.709 1459.63 153.075 1459.63 M153.075 1455.92 Q158.885 1455.92 161.941 1460.53 Q165.019 1465.11 165.019 1473.86 Q165.019 1482.59 161.941 1487.2 Q158.885 1491.78 153.075 1491.78 Q147.265 1491.78 144.186 1487.2 Q141.131 1482.59 141.131 1473.86 Q141.131 1465.11 144.186 1460.53 Q147.265 1455.92 153.075 1455.92 Z\" fill=\"#000000\" fill-rule=\"nonzero\" fill-opacity=\"1\" /><path clip-path=\"url(#clip910)\" d=\"M82.7975 1127.72 L101.154 1127.72 L101.154 1131.66 L87.0799 1131.66 L87.0799 1140.13 Q88.0984 1139.78 89.1169 1139.62 Q90.1354 1139.43 91.1539 1139.43 Q96.941 1139.43 100.321 1142.61 Q103.7 1145.78 103.7 1151.19 Q103.7 1156.77 100.228 1159.87 Q96.7558 1162.95 90.4364 1162.95 Q88.2604 1162.95 85.9919 1162.58 Q83.7466 1162.21 81.3392 1161.47 L81.3392 1156.77 Q83.4225 1157.91 85.6447 1158.46 Q87.8669 1159.02 90.3438 1159.02 Q94.3484 1159.02 96.6863 1156.91 Q99.0243 1154.81 99.0243 1151.19 Q99.0243 1147.58 96.6863 1145.48 Q94.3484 1143.37 90.3438 1143.37 Q88.4688 1143.37 86.5938 1143.79 Q84.7419 1144.2 82.7975 1145.08 L82.7975 1127.72 Z\" fill=\"#000000\" fill-rule=\"nonzero\" fill-opacity=\"1\" /><path clip-path=\"url(#clip910)\" d=\"M122.913 1130.8 Q119.302 1130.8 117.473 1134.37 Q115.668 1137.91 115.668 1145.04 Q115.668 1152.14 117.473 1155.71 Q119.302 1159.25 122.913 1159.25 Q126.547 1159.25 128.353 1155.71 Q130.182 1152.14 130.182 1145.04 Q130.182 1137.91 128.353 1134.37 Q126.547 1130.8 122.913 1130.8 M122.913 1127.1 Q128.723 1127.1 131.779 1131.7 Q134.857 1136.29 134.857 1145.04 Q134.857 1153.76 131.779 1158.37 Q128.723 1162.95 122.913 1162.95 Q117.103 1162.95 114.024 1158.37 Q110.969 1153.76 110.969 1145.04 Q110.969 1136.29 114.024 1131.7 Q117.103 1127.1 122.913 1127.1 Z\" fill=\"#000000\" fill-rule=\"nonzero\" fill-opacity=\"1\" /><path clip-path=\"url(#clip910)\" d=\"M153.075 1130.8 Q149.464 1130.8 147.635 1134.37 Q145.83 1137.91 145.83 1145.04 Q145.83 1152.14 147.635 1155.71 Q149.464 1159.25 153.075 1159.25 Q156.709 1159.25 158.515 1155.71 Q160.343 1152.14 160.343 1145.04 Q160.343 1137.91 158.515 1134.37 Q156.709 1130.8 153.075 1130.8 M153.075 1127.1 Q158.885 1127.1 161.941 1131.7 Q165.019 1136.29 165.019 1145.04 Q165.019 1153.76 161.941 1158.37 Q158.885 1162.95 153.075 1162.95 Q147.265 1162.95 144.186 1158.37 Q141.131 1153.76 141.131 1145.04 Q141.131 1136.29 144.186 1131.7 Q147.265 1127.1 153.075 1127.1 Z\" fill=\"#000000\" fill-rule=\"nonzero\" fill-opacity=\"1\" /><path clip-path=\"url(#clip910)\" d=\"M53.3995 829.519 L61.0384 829.519 L61.0384 803.153 L52.7282 804.82 L52.7282 800.561 L60.9921 798.894 L65.668 798.894 L65.668 829.519 L73.3068 829.519 L73.3068 833.454 L53.3995 833.454 L53.3995 829.519 Z\" fill=\"#000000\" fill-rule=\"nonzero\" fill-opacity=\"1\" /><path clip-path=\"url(#clip910)\" d=\"M92.7512 801.973 Q89.1401 801.973 87.3114 805.538 Q85.5058 809.079 85.5058 816.209 Q85.5058 823.315 87.3114 826.88 Q89.1401 830.422 92.7512 830.422 Q96.3854 830.422 98.1909 826.88 Q100.02 823.315 100.02 816.209 Q100.02 809.079 98.1909 805.538 Q96.3854 801.973 92.7512 801.973 M92.7512 798.269 Q98.5613 798.269 101.617 802.876 Q104.696 807.459 104.696 816.209 Q104.696 824.936 101.617 829.542 Q98.5613 834.125 92.7512 834.125 Q86.941 834.125 83.8623 829.542 Q80.8068 824.936 80.8068 816.209 Q80.8068 807.459 83.8623 802.876 Q86.941 798.269 92.7512 798.269 Z\" fill=\"#000000\" fill-rule=\"nonzero\" fill-opacity=\"1\" /><path clip-path=\"url(#clip910)\" d=\"M122.913 801.973 Q119.302 801.973 117.473 805.538 Q115.668 809.079 115.668 816.209 Q115.668 823.315 117.473 826.88 Q119.302 830.422 122.913 830.422 Q126.547 830.422 128.353 826.88 Q130.182 823.315 130.182 816.209 Q130.182 809.079 128.353 805.538 Q126.547 801.973 122.913 801.973 M122.913 798.269 Q128.723 798.269 131.779 802.876 Q134.857 807.459 134.857 816.209 Q134.857 824.936 131.779 829.542 Q128.723 834.125 122.913 834.125 Q117.103 834.125 114.024 829.542 Q110.969 824.936 110.969 816.209 Q110.969 807.459 114.024 802.876 Q117.103 798.269 122.913 798.269 Z\" fill=\"#000000\" fill-rule=\"nonzero\" fill-opacity=\"1\" /><path clip-path=\"url(#clip910)\" d=\"M153.075 801.973 Q149.464 801.973 147.635 805.538 Q145.83 809.079 145.83 816.209 Q145.83 823.315 147.635 826.88 Q149.464 830.422 153.075 830.422 Q156.709 830.422 158.515 826.88 Q160.343 823.315 160.343 816.209 Q160.343 809.079 158.515 805.538 Q156.709 801.973 153.075 801.973 M153.075 798.269 Q158.885 798.269 161.941 802.876 Q165.019 807.459 165.019 816.209 Q165.019 824.936 161.941 829.542 Q158.885 834.125 153.075 834.125 Q147.265 834.125 144.186 829.542 Q141.131 824.936 141.131 816.209 Q141.131 807.459 144.186 802.876 Q147.265 798.269 153.075 798.269 Z\" fill=\"#000000\" fill-rule=\"nonzero\" fill-opacity=\"1\" /><path clip-path=\"url(#clip910)\" d=\"M53.3995 500.691 L61.0384 500.691 L61.0384 474.325 L52.7282 475.992 L52.7282 471.733 L60.9921 470.066 L65.668 470.066 L65.668 500.691 L73.3068 500.691 L73.3068 504.626 L53.3995 504.626 L53.3995 500.691 Z\" fill=\"#000000\" fill-rule=\"nonzero\" fill-opacity=\"1\" /><path clip-path=\"url(#clip910)\" d=\"M82.7975 470.066 L101.154 470.066 L101.154 474.001 L87.0799 474.001 L87.0799 482.474 Q88.0984 482.126 89.1169 481.964 Q90.1354 481.779 91.1539 481.779 Q96.941 481.779 100.321 484.95 Q103.7 488.122 103.7 493.538 Q103.7 499.117 100.228 502.219 Q96.7558 505.298 90.4364 505.298 Q88.2604 505.298 85.9919 504.927 Q83.7466 504.557 81.3392 503.816 L81.3392 499.117 Q83.4225 500.251 85.6447 500.807 Q87.8669 501.362 90.3438 501.362 Q94.3484 501.362 96.6863 499.256 Q99.0243 497.149 99.0243 493.538 Q99.0243 489.927 96.6863 487.821 Q94.3484 485.714 90.3438 485.714 Q88.4688 485.714 86.5938 486.131 Q84.7419 486.548 82.7975 487.427 L82.7975 470.066 Z\" fill=\"#000000\" fill-rule=\"nonzero\" fill-opacity=\"1\" /><path clip-path=\"url(#clip910)\" d=\"M122.913 473.145 Q119.302 473.145 117.473 476.71 Q115.668 480.251 115.668 487.381 Q115.668 494.487 117.473 498.052 Q119.302 501.594 122.913 501.594 Q126.547 501.594 128.353 498.052 Q130.182 494.487 130.182 487.381 Q130.182 480.251 128.353 476.71 Q126.547 473.145 122.913 473.145 M122.913 469.441 Q128.723 469.441 131.779 474.048 Q134.857 478.631 134.857 487.381 Q134.857 496.108 131.779 500.714 Q128.723 505.298 122.913 505.298 Q117.103 505.298 114.024 500.714 Q110.969 496.108 110.969 487.381 Q110.969 478.631 114.024 474.048 Q117.103 469.441 122.913 469.441 Z\" fill=\"#000000\" fill-rule=\"nonzero\" fill-opacity=\"1\" /><path clip-path=\"url(#clip910)\" d=\"M153.075 473.145 Q149.464 473.145 147.635 476.71 Q145.83 480.251 145.83 487.381 Q145.83 494.487 147.635 498.052 Q149.464 501.594 153.075 501.594 Q156.709 501.594 158.515 498.052 Q160.343 494.487 160.343 487.381 Q160.343 480.251 158.515 476.71 Q156.709 473.145 153.075 473.145 M153.075 469.441 Q158.885 469.441 161.941 474.048 Q165.019 478.631 165.019 487.381 Q165.019 496.108 161.941 500.714 Q158.885 505.298 153.075 505.298 Q147.265 505.298 144.186 500.714 Q141.131 496.108 141.131 487.381 Q141.131 478.631 144.186 474.048 Q147.265 469.441 153.075 469.441 Z\" fill=\"#000000\" fill-rule=\"nonzero\" fill-opacity=\"1\" /><path clip-path=\"url(#clip910)\" d=\"M56.6171 171.863 L72.9365 171.863 L72.9365 175.798 L50.9921 175.798 L50.9921 171.863 Q53.6541 169.109 58.2375 164.479 Q62.8439 159.826 64.0245 158.484 Q66.2698 155.961 67.1494 154.224 Q68.0522 152.465 68.0522 150.775 Q68.0522 148.021 66.1078 146.285 Q64.1865 144.549 61.0847 144.549 Q58.8856 144.549 56.4319 145.312 Q54.0014 146.076 51.2236 147.627 L51.2236 142.905 Q54.0477 141.771 56.5014 141.192 Q58.955 140.613 60.9921 140.613 Q66.3624 140.613 69.5568 143.299 Q72.7513 145.984 72.7513 150.474 Q72.7513 152.604 71.9411 154.525 Q71.1541 156.424 69.0476 159.016 Q68.4689 159.687 65.367 162.905 Q62.2652 166.099 56.6171 171.863 Z\" fill=\"#000000\" fill-rule=\"nonzero\" fill-opacity=\"1\" /><path clip-path=\"url(#clip910)\" d=\"M92.7512 144.317 Q89.1401 144.317 87.3114 147.882 Q85.5058 151.424 85.5058 158.553 Q85.5058 165.66 87.3114 169.224 Q89.1401 172.766 92.7512 172.766 Q96.3854 172.766 98.1909 169.224 Q100.02 165.66 100.02 158.553 Q100.02 151.424 98.1909 147.882 Q96.3854 144.317 92.7512 144.317 M92.7512 140.613 Q98.5613 140.613 101.617 145.22 Q104.696 149.803 104.696 158.553 Q104.696 167.28 101.617 171.886 Q98.5613 176.47 92.7512 176.47 Q86.941 176.47 83.8623 171.886 Q80.8068 167.28 80.8068 158.553 Q80.8068 149.803 83.8623 145.22 Q86.941 140.613 92.7512 140.613 Z\" fill=\"#000000\" fill-rule=\"nonzero\" fill-opacity=\"1\" /><path clip-path=\"url(#clip910)\" d=\"M122.913 144.317 Q119.302 144.317 117.473 147.882 Q115.668 151.424 115.668 158.553 Q115.668 165.66 117.473 169.224 Q119.302 172.766 122.913 172.766 Q126.547 172.766 128.353 169.224 Q130.182 165.66 130.182 158.553 Q130.182 151.424 128.353 147.882 Q126.547 144.317 122.913 144.317 M122.913 140.613 Q128.723 140.613 131.779 145.22 Q134.857 149.803 134.857 158.553 Q134.857 167.28 131.779 171.886 Q128.723 176.47 122.913 176.47 Q117.103 176.47 114.024 171.886 Q110.969 167.28 110.969 158.553 Q110.969 149.803 114.024 145.22 Q117.103 140.613 122.913 140.613 Z\" fill=\"#000000\" fill-rule=\"nonzero\" fill-opacity=\"1\" /><path clip-path=\"url(#clip910)\" d=\"M153.075 144.317 Q149.464 144.317 147.635 147.882 Q145.83 151.424 145.83 158.553 Q145.83 165.66 147.635 169.224 Q149.464 172.766 153.075 172.766 Q156.709 172.766 158.515 169.224 Q160.343 165.66 160.343 158.553 Q160.343 151.424 158.515 147.882 Q156.709 144.317 153.075 144.317 M153.075 140.613 Q158.885 140.613 161.941 145.22 Q165.019 149.803 165.019 158.553 Q165.019 167.28 161.941 171.886 Q158.885 176.47 153.075 176.47 Q147.265 176.47 144.186 171.886 Q141.131 167.28 141.131 158.553 Q141.131 149.803 144.186 145.22 Q147.265 140.613 153.075 140.613 Z\" fill=\"#000000\" fill-rule=\"nonzero\" fill-opacity=\"1\" /><polyline clip-path=\"url(#clip912)\" style=\"stroke:#009af9; stroke-linecap:round; stroke-linejoin:round; stroke-width:4; stroke-opacity:1; fill:none\" points=\"261.917,87.9763 769.403,1330.83 1276.89,1445.69 1784.37,1330.62 2291.86,1445.72 \"/>\n",
       "<path clip-path=\"url(#clip910)\" d=\"M2013.43 198.898 L2281.03 198.898 L2281.03 95.2176 L2013.43 95.2176  Z\" fill=\"#ffffff\" fill-rule=\"evenodd\" fill-opacity=\"1\"/>\n",
       "<polyline clip-path=\"url(#clip910)\" style=\"stroke:#000000; stroke-linecap:round; stroke-linejoin:round; stroke-width:4; stroke-opacity:1; fill:none\" points=\"2013.43,198.898 2281.03,198.898 2281.03,95.2176 2013.43,95.2176 2013.43,198.898 \"/>\n",
       "<polyline clip-path=\"url(#clip910)\" style=\"stroke:#009af9; stroke-linecap:round; stroke-linejoin:round; stroke-width:4; stroke-opacity:1; fill:none\" points=\"2037.34,147.058 2180.78,147.058 \"/>\n",
       "<path clip-path=\"url(#clip910)\" d=\"M2218.54 166.745 Q2216.73 171.375 2215.02 172.787 Q2213.3 174.199 2210.43 174.199 L2207.03 174.199 L2207.03 170.634 L2209.53 170.634 Q2211.29 170.634 2212.26 169.8 Q2213.23 168.967 2214.42 165.865 L2215.18 163.921 L2204.69 138.412 L2209.21 138.412 L2217.31 158.689 L2225.41 138.412 L2229.92 138.412 L2218.54 166.745 Z\" fill=\"#000000\" fill-rule=\"nonzero\" fill-opacity=\"1\" /><path clip-path=\"url(#clip910)\" d=\"M2237.22 160.402 L2244.85 160.402 L2244.85 134.037 L2236.54 135.703 L2236.54 131.444 L2244.81 129.778 L2249.48 129.778 L2249.48 160.402 L2257.12 160.402 L2257.12 164.338 L2237.22 164.338 L2237.22 160.402 Z\" fill=\"#000000\" fill-rule=\"nonzero\" fill-opacity=\"1\" /></svg>\n"
      ],
      "text/html": [
       "<?xml version=\"1.0\" encoding=\"utf-8\"?>\n",
       "<svg xmlns=\"http://www.w3.org/2000/svg\" xmlns:xlink=\"http://www.w3.org/1999/xlink\" width=\"600\" height=\"400\" viewBox=\"0 0 2400 1600\">\n",
       "<defs>\n",
       "  <clipPath id=\"clip960\">\n",
       "    <rect x=\"0\" y=\"0\" width=\"2400\" height=\"1600\"/>\n",
       "  </clipPath>\n",
       "</defs>\n",
       "<path clip-path=\"url(#clip960)\" d=\"M0 1600 L2400 1600 L2400 8.88178e-14 L0 8.88178e-14  Z\" fill=\"#ffffff\" fill-rule=\"evenodd\" fill-opacity=\"1\"/>\n",
       "<defs>\n",
       "  <clipPath id=\"clip961\">\n",
       "    <rect x=\"480\" y=\"0\" width=\"1681\" height=\"1600\"/>\n",
       "  </clipPath>\n",
       "</defs>\n",
       "<path clip-path=\"url(#clip960)\" d=\"M201.019 1486.45 L2352.76 1486.45 L2352.76 47.2441 L201.019 47.2441  Z\" fill=\"#ffffff\" fill-rule=\"evenodd\" fill-opacity=\"1\"/>\n",
       "<defs>\n",
       "  <clipPath id=\"clip962\">\n",
       "    <rect x=\"201\" y=\"47\" width=\"2153\" height=\"1440\"/>\n",
       "  </clipPath>\n",
       "</defs>\n",
       "<polyline clip-path=\"url(#clip962)\" style=\"stroke:#000000; stroke-linecap:round; stroke-linejoin:round; stroke-width:2; stroke-opacity:0.1; fill:none\" points=\"261.917,1486.45 261.917,47.2441 \"/>\n",
       "<polyline clip-path=\"url(#clip962)\" style=\"stroke:#000000; stroke-linecap:round; stroke-linejoin:round; stroke-width:2; stroke-opacity:0.1; fill:none\" points=\"769.403,1486.45 769.403,47.2441 \"/>\n",
       "<polyline clip-path=\"url(#clip962)\" style=\"stroke:#000000; stroke-linecap:round; stroke-linejoin:round; stroke-width:2; stroke-opacity:0.1; fill:none\" points=\"1276.89,1486.45 1276.89,47.2441 \"/>\n",
       "<polyline clip-path=\"url(#clip962)\" style=\"stroke:#000000; stroke-linecap:round; stroke-linejoin:round; stroke-width:2; stroke-opacity:0.1; fill:none\" points=\"1784.37,1486.45 1784.37,47.2441 \"/>\n",
       "<polyline clip-path=\"url(#clip962)\" style=\"stroke:#000000; stroke-linecap:round; stroke-linejoin:round; stroke-width:2; stroke-opacity:0.1; fill:none\" points=\"2291.86,1486.45 2291.86,47.2441 \"/>\n",
       "<polyline clip-path=\"url(#clip962)\" style=\"stroke:#000000; stroke-linecap:round; stroke-linejoin:round; stroke-width:2; stroke-opacity:0.1; fill:none\" points=\"201.019,1473.83 2352.76,1473.83 \"/>\n",
       "<polyline clip-path=\"url(#clip962)\" style=\"stroke:#000000; stroke-linecap:round; stroke-linejoin:round; stroke-width:2; stroke-opacity:0.1; fill:none\" points=\"201.019,1145 2352.76,1145 \"/>\n",
       "<polyline clip-path=\"url(#clip962)\" style=\"stroke:#000000; stroke-linecap:round; stroke-linejoin:round; stroke-width:2; stroke-opacity:0.1; fill:none\" points=\"201.019,816.174 2352.76,816.174 \"/>\n",
       "<polyline clip-path=\"url(#clip962)\" style=\"stroke:#000000; stroke-linecap:round; stroke-linejoin:round; stroke-width:2; stroke-opacity:0.1; fill:none\" points=\"201.019,487.346 2352.76,487.346 \"/>\n",
       "<polyline clip-path=\"url(#clip962)\" style=\"stroke:#000000; stroke-linecap:round; stroke-linejoin:round; stroke-width:2; stroke-opacity:0.1; fill:none\" points=\"201.019,158.518 2352.76,158.518 \"/>\n",
       "<polyline clip-path=\"url(#clip960)\" style=\"stroke:#000000; stroke-linecap:round; stroke-linejoin:round; stroke-width:4; stroke-opacity:1; fill:none\" points=\"201.019,1486.45 2352.76,1486.45 \"/>\n",
       "<polyline clip-path=\"url(#clip960)\" style=\"stroke:#000000; stroke-linecap:round; stroke-linejoin:round; stroke-width:4; stroke-opacity:1; fill:none\" points=\"261.917,1486.45 261.917,1467.55 \"/>\n",
       "<polyline clip-path=\"url(#clip960)\" style=\"stroke:#000000; stroke-linecap:round; stroke-linejoin:round; stroke-width:4; stroke-opacity:1; fill:none\" points=\"769.403,1486.45 769.403,1467.55 \"/>\n",
       "<polyline clip-path=\"url(#clip960)\" style=\"stroke:#000000; stroke-linecap:round; stroke-linejoin:round; stroke-width:4; stroke-opacity:1; fill:none\" points=\"1276.89,1486.45 1276.89,1467.55 \"/>\n",
       "<polyline clip-path=\"url(#clip960)\" style=\"stroke:#000000; stroke-linecap:round; stroke-linejoin:round; stroke-width:4; stroke-opacity:1; fill:none\" points=\"1784.37,1486.45 1784.37,1467.55 \"/>\n",
       "<polyline clip-path=\"url(#clip960)\" style=\"stroke:#000000; stroke-linecap:round; stroke-linejoin:round; stroke-width:4; stroke-opacity:1; fill:none\" points=\"2291.86,1486.45 2291.86,1467.55 \"/>\n",
       "<path clip-path=\"url(#clip960)\" d=\"M252.299 1544.91 L259.938 1544.91 L259.938 1518.55 L251.628 1520.21 L251.628 1515.95 L259.892 1514.29 L264.568 1514.29 L264.568 1544.91 L272.207 1544.91 L272.207 1548.85 L252.299 1548.85 L252.299 1544.91 Z\" fill=\"#000000\" fill-rule=\"nonzero\" fill-opacity=\"1\" /><path clip-path=\"url(#clip960)\" d=\"M764.055 1544.91 L780.375 1544.91 L780.375 1548.85 L758.43 1548.85 L758.43 1544.91 Q761.092 1542.16 765.676 1537.53 Q770.282 1532.88 771.463 1531.53 Q773.708 1529.01 774.588 1527.27 Q775.49 1525.51 775.49 1523.82 Q775.49 1521.07 773.546 1519.33 Q771.625 1517.6 768.523 1517.6 Q766.324 1517.6 763.87 1518.36 Q761.44 1519.13 758.662 1520.68 L758.662 1515.95 Q761.486 1514.82 763.94 1514.24 Q766.393 1513.66 768.43 1513.66 Q773.801 1513.66 776.995 1516.35 Q780.19 1519.03 780.19 1523.52 Q780.19 1525.65 779.379 1527.57 Q778.592 1529.47 776.486 1532.07 Q775.907 1532.74 772.805 1535.95 Q769.703 1539.15 764.055 1544.91 Z\" fill=\"#000000\" fill-rule=\"nonzero\" fill-opacity=\"1\" /><path clip-path=\"url(#clip960)\" d=\"M1281.14 1530.21 Q1284.49 1530.93 1286.37 1533.2 Q1288.26 1535.47 1288.26 1538.8 Q1288.26 1543.92 1284.75 1546.72 Q1281.23 1549.52 1274.75 1549.52 Q1272.57 1549.52 1270.26 1549.08 Q1267.96 1548.66 1265.51 1547.81 L1265.51 1543.29 Q1267.45 1544.43 1269.77 1545.01 Q1272.08 1545.58 1274.61 1545.58 Q1279.01 1545.58 1281.3 1543.85 Q1283.61 1542.11 1283.61 1538.8 Q1283.61 1535.75 1281.46 1534.03 Q1279.33 1532.3 1275.51 1532.3 L1271.48 1532.3 L1271.48 1528.45 L1275.7 1528.45 Q1279.14 1528.45 1280.97 1527.09 Q1282.8 1525.7 1282.8 1523.11 Q1282.8 1520.45 1280.9 1519.03 Q1279.03 1517.6 1275.51 1517.6 Q1273.59 1517.6 1271.39 1518.01 Q1269.19 1518.43 1266.55 1519.31 L1266.55 1515.14 Q1269.21 1514.4 1271.53 1514.03 Q1273.87 1513.66 1275.93 1513.66 Q1281.25 1513.66 1284.35 1516.09 Q1287.45 1518.5 1287.45 1522.62 Q1287.45 1525.49 1285.81 1527.48 Q1284.17 1529.45 1281.14 1530.21 Z\" fill=\"#000000\" fill-rule=\"nonzero\" fill-opacity=\"1\" /><path clip-path=\"url(#clip960)\" d=\"M1787.38 1518.36 L1775.58 1536.81 L1787.38 1536.81 L1787.38 1518.36 M1786.16 1514.29 L1792.03 1514.29 L1792.03 1536.81 L1796.97 1536.81 L1796.97 1540.7 L1792.03 1540.7 L1792.03 1548.85 L1787.38 1548.85 L1787.38 1540.7 L1771.78 1540.7 L1771.78 1536.19 L1786.16 1514.29 Z\" fill=\"#000000\" fill-rule=\"nonzero\" fill-opacity=\"1\" /><path clip-path=\"url(#clip960)\" d=\"M2282.14 1514.29 L2300.49 1514.29 L2300.49 1518.22 L2286.42 1518.22 L2286.42 1526.7 Q2287.44 1526.35 2288.45 1526.19 Q2289.47 1526 2290.49 1526 Q2296.28 1526 2299.66 1529.17 Q2303.04 1532.34 2303.04 1537.76 Q2303.04 1543.34 2299.57 1546.44 Q2296.09 1549.52 2289.77 1549.52 Q2287.6 1549.52 2285.33 1549.15 Q2283.08 1548.78 2280.68 1548.04 L2280.68 1543.34 Q2282.76 1544.47 2284.98 1545.03 Q2287.2 1545.58 2289.68 1545.58 Q2293.69 1545.58 2296.02 1543.48 Q2298.36 1541.37 2298.36 1537.76 Q2298.36 1534.15 2296.02 1532.04 Q2293.69 1529.94 2289.68 1529.94 Q2287.81 1529.94 2285.93 1530.35 Q2284.08 1530.77 2282.14 1531.65 L2282.14 1514.29 Z\" fill=\"#000000\" fill-rule=\"nonzero\" fill-opacity=\"1\" /><polyline clip-path=\"url(#clip960)\" style=\"stroke:#000000; stroke-linecap:round; stroke-linejoin:round; stroke-width:4; stroke-opacity:1; fill:none\" points=\"201.019,1486.45 201.019,47.2441 \"/>\n",
       "<polyline clip-path=\"url(#clip960)\" style=\"stroke:#000000; stroke-linecap:round; stroke-linejoin:round; stroke-width:4; stroke-opacity:1; fill:none\" points=\"201.019,1473.83 219.917,1473.83 \"/>\n",
       "<polyline clip-path=\"url(#clip960)\" style=\"stroke:#000000; stroke-linecap:round; stroke-linejoin:round; stroke-width:4; stroke-opacity:1; fill:none\" points=\"201.019,1145 219.917,1145 \"/>\n",
       "<polyline clip-path=\"url(#clip960)\" style=\"stroke:#000000; stroke-linecap:round; stroke-linejoin:round; stroke-width:4; stroke-opacity:1; fill:none\" points=\"201.019,816.174 219.917,816.174 \"/>\n",
       "<polyline clip-path=\"url(#clip960)\" style=\"stroke:#000000; stroke-linecap:round; stroke-linejoin:round; stroke-width:4; stroke-opacity:1; fill:none\" points=\"201.019,487.346 219.917,487.346 \"/>\n",
       "<polyline clip-path=\"url(#clip960)\" style=\"stroke:#000000; stroke-linecap:round; stroke-linejoin:round; stroke-width:4; stroke-opacity:1; fill:none\" points=\"201.019,158.518 219.917,158.518 \"/>\n",
       "<path clip-path=\"url(#clip960)\" d=\"M153.075 1459.63 Q149.464 1459.63 147.635 1463.19 Q145.83 1466.73 145.83 1473.86 Q145.83 1480.97 147.635 1484.54 Q149.464 1488.08 153.075 1488.08 Q156.709 1488.08 158.515 1484.54 Q160.343 1480.97 160.343 1473.86 Q160.343 1466.73 158.515 1463.19 Q156.709 1459.63 153.075 1459.63 M153.075 1455.92 Q158.885 1455.92 161.941 1460.53 Q165.019 1465.11 165.019 1473.86 Q165.019 1482.59 161.941 1487.2 Q158.885 1491.78 153.075 1491.78 Q147.265 1491.78 144.186 1487.2 Q141.131 1482.59 141.131 1473.86 Q141.131 1465.11 144.186 1460.53 Q147.265 1455.92 153.075 1455.92 Z\" fill=\"#000000\" fill-rule=\"nonzero\" fill-opacity=\"1\" /><path clip-path=\"url(#clip960)\" d=\"M82.7975 1127.72 L101.154 1127.72 L101.154 1131.66 L87.0799 1131.66 L87.0799 1140.13 Q88.0984 1139.78 89.1169 1139.62 Q90.1354 1139.43 91.1539 1139.43 Q96.941 1139.43 100.321 1142.61 Q103.7 1145.78 103.7 1151.19 Q103.7 1156.77 100.228 1159.87 Q96.7558 1162.95 90.4364 1162.95 Q88.2604 1162.95 85.9919 1162.58 Q83.7466 1162.21 81.3392 1161.47 L81.3392 1156.77 Q83.4225 1157.91 85.6447 1158.46 Q87.8669 1159.02 90.3438 1159.02 Q94.3484 1159.02 96.6863 1156.91 Q99.0243 1154.81 99.0243 1151.19 Q99.0243 1147.58 96.6863 1145.48 Q94.3484 1143.37 90.3438 1143.37 Q88.4688 1143.37 86.5938 1143.79 Q84.7419 1144.2 82.7975 1145.08 L82.7975 1127.72 Z\" fill=\"#000000\" fill-rule=\"nonzero\" fill-opacity=\"1\" /><path clip-path=\"url(#clip960)\" d=\"M122.913 1130.8 Q119.302 1130.8 117.473 1134.37 Q115.668 1137.91 115.668 1145.04 Q115.668 1152.14 117.473 1155.71 Q119.302 1159.25 122.913 1159.25 Q126.547 1159.25 128.353 1155.71 Q130.182 1152.14 130.182 1145.04 Q130.182 1137.91 128.353 1134.37 Q126.547 1130.8 122.913 1130.8 M122.913 1127.1 Q128.723 1127.1 131.779 1131.7 Q134.857 1136.29 134.857 1145.04 Q134.857 1153.76 131.779 1158.37 Q128.723 1162.95 122.913 1162.95 Q117.103 1162.95 114.024 1158.37 Q110.969 1153.76 110.969 1145.04 Q110.969 1136.29 114.024 1131.7 Q117.103 1127.1 122.913 1127.1 Z\" fill=\"#000000\" fill-rule=\"nonzero\" fill-opacity=\"1\" /><path clip-path=\"url(#clip960)\" d=\"M153.075 1130.8 Q149.464 1130.8 147.635 1134.37 Q145.83 1137.91 145.83 1145.04 Q145.83 1152.14 147.635 1155.71 Q149.464 1159.25 153.075 1159.25 Q156.709 1159.25 158.515 1155.71 Q160.343 1152.14 160.343 1145.04 Q160.343 1137.91 158.515 1134.37 Q156.709 1130.8 153.075 1130.8 M153.075 1127.1 Q158.885 1127.1 161.941 1131.7 Q165.019 1136.29 165.019 1145.04 Q165.019 1153.76 161.941 1158.37 Q158.885 1162.95 153.075 1162.95 Q147.265 1162.95 144.186 1158.37 Q141.131 1153.76 141.131 1145.04 Q141.131 1136.29 144.186 1131.7 Q147.265 1127.1 153.075 1127.1 Z\" fill=\"#000000\" fill-rule=\"nonzero\" fill-opacity=\"1\" /><path clip-path=\"url(#clip960)\" d=\"M53.3995 829.519 L61.0384 829.519 L61.0384 803.153 L52.7282 804.82 L52.7282 800.561 L60.9921 798.894 L65.668 798.894 L65.668 829.519 L73.3068 829.519 L73.3068 833.454 L53.3995 833.454 L53.3995 829.519 Z\" fill=\"#000000\" fill-rule=\"nonzero\" fill-opacity=\"1\" /><path clip-path=\"url(#clip960)\" d=\"M92.7512 801.973 Q89.1401 801.973 87.3114 805.538 Q85.5058 809.079 85.5058 816.209 Q85.5058 823.315 87.3114 826.88 Q89.1401 830.422 92.7512 830.422 Q96.3854 830.422 98.1909 826.88 Q100.02 823.315 100.02 816.209 Q100.02 809.079 98.1909 805.538 Q96.3854 801.973 92.7512 801.973 M92.7512 798.269 Q98.5613 798.269 101.617 802.876 Q104.696 807.459 104.696 816.209 Q104.696 824.936 101.617 829.542 Q98.5613 834.125 92.7512 834.125 Q86.941 834.125 83.8623 829.542 Q80.8068 824.936 80.8068 816.209 Q80.8068 807.459 83.8623 802.876 Q86.941 798.269 92.7512 798.269 Z\" fill=\"#000000\" fill-rule=\"nonzero\" fill-opacity=\"1\" /><path clip-path=\"url(#clip960)\" d=\"M122.913 801.973 Q119.302 801.973 117.473 805.538 Q115.668 809.079 115.668 816.209 Q115.668 823.315 117.473 826.88 Q119.302 830.422 122.913 830.422 Q126.547 830.422 128.353 826.88 Q130.182 823.315 130.182 816.209 Q130.182 809.079 128.353 805.538 Q126.547 801.973 122.913 801.973 M122.913 798.269 Q128.723 798.269 131.779 802.876 Q134.857 807.459 134.857 816.209 Q134.857 824.936 131.779 829.542 Q128.723 834.125 122.913 834.125 Q117.103 834.125 114.024 829.542 Q110.969 824.936 110.969 816.209 Q110.969 807.459 114.024 802.876 Q117.103 798.269 122.913 798.269 Z\" fill=\"#000000\" fill-rule=\"nonzero\" fill-opacity=\"1\" /><path clip-path=\"url(#clip960)\" d=\"M153.075 801.973 Q149.464 801.973 147.635 805.538 Q145.83 809.079 145.83 816.209 Q145.83 823.315 147.635 826.88 Q149.464 830.422 153.075 830.422 Q156.709 830.422 158.515 826.88 Q160.343 823.315 160.343 816.209 Q160.343 809.079 158.515 805.538 Q156.709 801.973 153.075 801.973 M153.075 798.269 Q158.885 798.269 161.941 802.876 Q165.019 807.459 165.019 816.209 Q165.019 824.936 161.941 829.542 Q158.885 834.125 153.075 834.125 Q147.265 834.125 144.186 829.542 Q141.131 824.936 141.131 816.209 Q141.131 807.459 144.186 802.876 Q147.265 798.269 153.075 798.269 Z\" fill=\"#000000\" fill-rule=\"nonzero\" fill-opacity=\"1\" /><path clip-path=\"url(#clip960)\" d=\"M53.3995 500.691 L61.0384 500.691 L61.0384 474.325 L52.7282 475.992 L52.7282 471.733 L60.9921 470.066 L65.668 470.066 L65.668 500.691 L73.3068 500.691 L73.3068 504.626 L53.3995 504.626 L53.3995 500.691 Z\" fill=\"#000000\" fill-rule=\"nonzero\" fill-opacity=\"1\" /><path clip-path=\"url(#clip960)\" d=\"M82.7975 470.066 L101.154 470.066 L101.154 474.001 L87.0799 474.001 L87.0799 482.474 Q88.0984 482.126 89.1169 481.964 Q90.1354 481.779 91.1539 481.779 Q96.941 481.779 100.321 484.95 Q103.7 488.122 103.7 493.538 Q103.7 499.117 100.228 502.219 Q96.7558 505.298 90.4364 505.298 Q88.2604 505.298 85.9919 504.927 Q83.7466 504.557 81.3392 503.816 L81.3392 499.117 Q83.4225 500.251 85.6447 500.807 Q87.8669 501.362 90.3438 501.362 Q94.3484 501.362 96.6863 499.256 Q99.0243 497.149 99.0243 493.538 Q99.0243 489.927 96.6863 487.821 Q94.3484 485.714 90.3438 485.714 Q88.4688 485.714 86.5938 486.131 Q84.7419 486.548 82.7975 487.427 L82.7975 470.066 Z\" fill=\"#000000\" fill-rule=\"nonzero\" fill-opacity=\"1\" /><path clip-path=\"url(#clip960)\" d=\"M122.913 473.145 Q119.302 473.145 117.473 476.71 Q115.668 480.251 115.668 487.381 Q115.668 494.487 117.473 498.052 Q119.302 501.594 122.913 501.594 Q126.547 501.594 128.353 498.052 Q130.182 494.487 130.182 487.381 Q130.182 480.251 128.353 476.71 Q126.547 473.145 122.913 473.145 M122.913 469.441 Q128.723 469.441 131.779 474.048 Q134.857 478.631 134.857 487.381 Q134.857 496.108 131.779 500.714 Q128.723 505.298 122.913 505.298 Q117.103 505.298 114.024 500.714 Q110.969 496.108 110.969 487.381 Q110.969 478.631 114.024 474.048 Q117.103 469.441 122.913 469.441 Z\" fill=\"#000000\" fill-rule=\"nonzero\" fill-opacity=\"1\" /><path clip-path=\"url(#clip960)\" d=\"M153.075 473.145 Q149.464 473.145 147.635 476.71 Q145.83 480.251 145.83 487.381 Q145.83 494.487 147.635 498.052 Q149.464 501.594 153.075 501.594 Q156.709 501.594 158.515 498.052 Q160.343 494.487 160.343 487.381 Q160.343 480.251 158.515 476.71 Q156.709 473.145 153.075 473.145 M153.075 469.441 Q158.885 469.441 161.941 474.048 Q165.019 478.631 165.019 487.381 Q165.019 496.108 161.941 500.714 Q158.885 505.298 153.075 505.298 Q147.265 505.298 144.186 500.714 Q141.131 496.108 141.131 487.381 Q141.131 478.631 144.186 474.048 Q147.265 469.441 153.075 469.441 Z\" fill=\"#000000\" fill-rule=\"nonzero\" fill-opacity=\"1\" /><path clip-path=\"url(#clip960)\" d=\"M56.6171 171.863 L72.9365 171.863 L72.9365 175.798 L50.9921 175.798 L50.9921 171.863 Q53.6541 169.109 58.2375 164.479 Q62.8439 159.826 64.0245 158.484 Q66.2698 155.961 67.1494 154.224 Q68.0522 152.465 68.0522 150.775 Q68.0522 148.021 66.1078 146.285 Q64.1865 144.549 61.0847 144.549 Q58.8856 144.549 56.4319 145.312 Q54.0014 146.076 51.2236 147.627 L51.2236 142.905 Q54.0477 141.771 56.5014 141.192 Q58.955 140.613 60.9921 140.613 Q66.3624 140.613 69.5568 143.299 Q72.7513 145.984 72.7513 150.474 Q72.7513 152.604 71.9411 154.525 Q71.1541 156.424 69.0476 159.016 Q68.4689 159.687 65.367 162.905 Q62.2652 166.099 56.6171 171.863 Z\" fill=\"#000000\" fill-rule=\"nonzero\" fill-opacity=\"1\" /><path clip-path=\"url(#clip960)\" d=\"M92.7512 144.317 Q89.1401 144.317 87.3114 147.882 Q85.5058 151.424 85.5058 158.553 Q85.5058 165.66 87.3114 169.224 Q89.1401 172.766 92.7512 172.766 Q96.3854 172.766 98.1909 169.224 Q100.02 165.66 100.02 158.553 Q100.02 151.424 98.1909 147.882 Q96.3854 144.317 92.7512 144.317 M92.7512 140.613 Q98.5613 140.613 101.617 145.22 Q104.696 149.803 104.696 158.553 Q104.696 167.28 101.617 171.886 Q98.5613 176.47 92.7512 176.47 Q86.941 176.47 83.8623 171.886 Q80.8068 167.28 80.8068 158.553 Q80.8068 149.803 83.8623 145.22 Q86.941 140.613 92.7512 140.613 Z\" fill=\"#000000\" fill-rule=\"nonzero\" fill-opacity=\"1\" /><path clip-path=\"url(#clip960)\" d=\"M122.913 144.317 Q119.302 144.317 117.473 147.882 Q115.668 151.424 115.668 158.553 Q115.668 165.66 117.473 169.224 Q119.302 172.766 122.913 172.766 Q126.547 172.766 128.353 169.224 Q130.182 165.66 130.182 158.553 Q130.182 151.424 128.353 147.882 Q126.547 144.317 122.913 144.317 M122.913 140.613 Q128.723 140.613 131.779 145.22 Q134.857 149.803 134.857 158.553 Q134.857 167.28 131.779 171.886 Q128.723 176.47 122.913 176.47 Q117.103 176.47 114.024 171.886 Q110.969 167.28 110.969 158.553 Q110.969 149.803 114.024 145.22 Q117.103 140.613 122.913 140.613 Z\" fill=\"#000000\" fill-rule=\"nonzero\" fill-opacity=\"1\" /><path clip-path=\"url(#clip960)\" d=\"M153.075 144.317 Q149.464 144.317 147.635 147.882 Q145.83 151.424 145.83 158.553 Q145.83 165.66 147.635 169.224 Q149.464 172.766 153.075 172.766 Q156.709 172.766 158.515 169.224 Q160.343 165.66 160.343 158.553 Q160.343 151.424 158.515 147.882 Q156.709 144.317 153.075 144.317 M153.075 140.613 Q158.885 140.613 161.941 145.22 Q165.019 149.803 165.019 158.553 Q165.019 167.28 161.941 171.886 Q158.885 176.47 153.075 176.47 Q147.265 176.47 144.186 171.886 Q141.131 167.28 141.131 158.553 Q141.131 149.803 144.186 145.22 Q147.265 140.613 153.075 140.613 Z\" fill=\"#000000\" fill-rule=\"nonzero\" fill-opacity=\"1\" /><polyline clip-path=\"url(#clip962)\" style=\"stroke:#009af9; stroke-linecap:round; stroke-linejoin:round; stroke-width:4; stroke-opacity:1; fill:none\" points=\"261.917,87.9763 769.403,1330.83 1276.89,1445.69 1784.37,1330.62 2291.86,1445.72 \"/>\n",
       "<path clip-path=\"url(#clip960)\" d=\"M2013.43 198.898 L2281.03 198.898 L2281.03 95.2176 L2013.43 95.2176  Z\" fill=\"#ffffff\" fill-rule=\"evenodd\" fill-opacity=\"1\"/>\n",
       "<polyline clip-path=\"url(#clip960)\" style=\"stroke:#000000; stroke-linecap:round; stroke-linejoin:round; stroke-width:4; stroke-opacity:1; fill:none\" points=\"2013.43,198.898 2281.03,198.898 2281.03,95.2176 2013.43,95.2176 2013.43,198.898 \"/>\n",
       "<polyline clip-path=\"url(#clip960)\" style=\"stroke:#009af9; stroke-linecap:round; stroke-linejoin:round; stroke-width:4; stroke-opacity:1; fill:none\" points=\"2037.34,147.058 2180.78,147.058 \"/>\n",
       "<path clip-path=\"url(#clip960)\" d=\"M2218.54 166.745 Q2216.73 171.375 2215.02 172.787 Q2213.3 174.199 2210.43 174.199 L2207.03 174.199 L2207.03 170.634 L2209.53 170.634 Q2211.29 170.634 2212.26 169.8 Q2213.23 168.967 2214.42 165.865 L2215.18 163.921 L2204.69 138.412 L2209.21 138.412 L2217.31 158.689 L2225.41 138.412 L2229.92 138.412 L2218.54 166.745 Z\" fill=\"#000000\" fill-rule=\"nonzero\" fill-opacity=\"1\" /><path clip-path=\"url(#clip960)\" d=\"M2237.22 160.402 L2244.85 160.402 L2244.85 134.037 L2236.54 135.703 L2236.54 131.444 L2244.81 129.778 L2249.48 129.778 L2249.48 160.402 L2257.12 160.402 L2257.12 164.338 L2237.22 164.338 L2237.22 160.402 Z\" fill=\"#000000\" fill-rule=\"nonzero\" fill-opacity=\"1\" /></svg>\n"
      ]
     },
     "metadata": {},
     "output_type": "display_data"
    }
   ],
   "source": [
    "plot(result.free_energy)"
   ]
  },
  {
   "cell_type": "code",
   "execution_count": 667,
   "metadata": {},
   "outputs": [
    {
     "data": {
      "text/plain": [
       "5-element Vector{Float64}:\n",
       " -1.3578045547911732\n",
       "  1.9880407491994345\n",
       "  0.12946927597687982\n",
       "  1.9859609935452378\n",
       " -1.2386156255675178"
      ]
     },
     "metadata": {},
     "output_type": "display_data"
    }
   ],
   "source": [
    "mean.(result.posteriors[:communication][end])"
   ]
  },
  {
   "cell_type": "code",
   "execution_count": 668,
   "metadata": {},
   "outputs": [
    {
     "data": {
      "text/plain": [
       "5-element Vector{Float64}:\n",
       " -1.241211186656285\n",
       " -1.8469781088823325\n",
       " -1.0590715752872972\n",
       "  3.5767728393345006\n",
       " -1.6733147625388274"
      ]
     },
     "metadata": {},
     "output_type": "display_data"
    }
   ],
   "source": [
    "true_traits[:communication]"
   ]
  },
  {
   "cell_type": "code",
   "execution_count": 669,
   "metadata": {},
   "outputs": [
    {
     "data": {
      "text/plain": [
       "5-element Vector{Float64}:\n",
       " -0.9043046070749982\n",
       "  1.3253621352766711\n",
       "  0.09376432739645779\n",
       "  1.3239764474293292\n",
       " -0.8142774895048156"
      ]
     },
     "metadata": {},
     "output_type": "display_data"
    }
   ],
   "source": [
    "mean.(result.posteriors[:reliability][end])"
   ]
  },
  {
   "cell_type": "code",
   "execution_count": 670,
   "metadata": {},
   "outputs": [
    {
     "data": {
      "text/plain": [
       "5-element Vector{Float64}:\n",
       "  3.784793490367347\n",
       " -1.5359343270679813\n",
       " -6.045003478809501\n",
       " -0.41540528107797503\n",
       "  0.18562246596228169"
      ]
     },
     "metadata": {},
     "output_type": "display_data"
    }
   ],
   "source": [
    "true_traits[:reliability]"
   ]
  },
  {
   "cell_type": "code",
   "execution_count": 671,
   "metadata": {},
   "outputs": [
    {
     "data": {
      "text/plain": [
       "5-element Vector{Float64}:\n",
       " -0.4515423935093709\n",
       "  0.6626821567002915\n",
       "  0.05028664647900097\n",
       "  0.661989776861997\n",
       " -0.40038108260563365"
      ]
     },
     "metadata": {},
     "output_type": "display_data"
    }
   ],
   "source": [
    "mean.(result.posteriors[:creativity][end])"
   ]
  },
  {
   "cell_type": "code",
   "execution_count": 672,
   "metadata": {},
   "outputs": [
    {
     "data": {
      "text/plain": [
       "5-element Vector{Float64}:\n",
       " -2.597075000609554\n",
       " -4.429166106627935\n",
       " -2.8597616982766603\n",
       "  3.181914451667847\n",
       "  0.8367395827325114"
      ]
     },
     "metadata": {},
     "output_type": "display_data"
    }
   ],
   "source": [
    "true_traits[:creativity]"
   ]
  },
  {
   "cell_type": "code",
   "execution_count": 673,
   "metadata": {},
   "outputs": [
    {
     "data": {
      "text/plain": [
       "5-element Vector{Float64}:\n",
       " -1.3578045547911732\n",
       "  1.9880407491994345\n",
       "  0.12946927597687982\n",
       "  1.9859609935452378\n",
       " -1.2386156255675178"
      ]
     },
     "metadata": {},
     "output_type": "display_data"
    }
   ],
   "source": [
    "mean.(result.posteriors[:competence][end])"
   ]
  },
  {
   "cell_type": "code",
   "execution_count": 674,
   "metadata": {},
   "outputs": [
    {
     "data": {
      "text/plain": [
       "5-element Vector{Float64}:\n",
       " -4.479898706798737\n",
       " -3.509163299310949\n",
       " -2.6795113335286906\n",
       " -5.033686548558048\n",
       "  2.313282032100281"
      ]
     },
     "metadata": {},
     "output_type": "display_data"
    }
   ],
   "source": [
    "true_traits[:competence]"
   ]
  },
  {
   "cell_type": "code",
   "execution_count": 677,
   "metadata": {},
   "outputs": [
    {
     "data": {
      "text/plain": [
       "5-element Vector{Float64}:\n",
       " 3.0552025506650162\n",
       " 3.0557726189978602\n",
       " 3.15711594702893\n",
       " 3.0557725562594706\n",
       " 3.0509977659095053"
      ]
     },
     "metadata": {},
     "output_type": "display_data"
    }
   ],
   "source": [
    "mean.(result.posteriors[:conflict][end])"
   ]
  },
  {
   "cell_type": "code",
   "execution_count": 676,
   "metadata": {},
   "outputs": [
    {
     "data": {
      "text/plain": [
       "5-element Vector{Float64}:\n",
       " -0.6902735015754795\n",
       " -4.6045372453202615\n",
       "  2.4739097060846236\n",
       " -1.817732828066478\n",
       "  1.3277498548011173"
      ]
     },
     "metadata": {},
     "output_type": "display_data"
    }
   ],
   "source": [
    "true_traits[:conflict]"
   ]
  },
  {
   "cell_type": "code",
   "execution_count": null,
   "metadata": {},
   "outputs": [],
   "source": []
  }
 ],
 "metadata": {
  "kernelspec": {
   "display_name": "Julia 1.11.2",
   "language": "julia",
   "name": "julia-1.11"
  },
  "language_info": {
   "file_extension": ".jl",
   "mimetype": "application/julia",
   "name": "julia",
   "version": "1.11.2"
  }
 },
 "nbformat": 4,
 "nbformat_minor": 2
}
