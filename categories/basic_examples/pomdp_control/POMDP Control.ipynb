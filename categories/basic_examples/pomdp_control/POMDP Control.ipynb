{
 "cells": [
  {
   "cell_type": "markdown",
   "metadata": {},
   "source": [
    "# POMDP Control with Reactive Inference\n",
    "\n",
    "This notebook demonstrates how to perform control in Partially Observable Markov Decision Processes (POMDPs) using reactive message passing and variational inference in RxInfer.jl.\n",
    "\n",
    "We will cover:\n",
    "1. Setting up a simple POMDP model\n",
    "2. Defining the state transition and observation models\n",
    "3. Implementing the control policy\n",
    "4. Performing inference and control using message passing\n",
    "5. Visualizing the results"
   ]
  },
  {
   "cell_type": "code",
   "execution_count": 9,
   "metadata": {},
   "outputs": [],
   "source": [
    "using RxInfer\n",
    "using Distributions\n",
    "using Plots\n",
    "using Random\n",
    "using ProgressMeter"
   ]
  },
  {
   "cell_type": "markdown",
   "metadata": {},
   "source": [
    " # Environment Setup"
   ]
  },
  {
   "cell_type": "markdown",
   "metadata": {},
   "source": [
    "For this example, we will implement the Windy Gridworld environment using `RxEnvironments.jl`. The Windy Gridworld is a simple gridworld environment with deterministic transitions and observations. This code is adapted from the [RxEnvironments.jl documentation](https://reactivebayes.github.io/RxEnvironments.jl/stable/lib/example_discrete_control_space_env/), and a more elaborate explanation of can be found there. \n",
    "\n",
    "\n",
    "\n",
    "The environment consists of:\n",
    "- A grid with wind values for each column\n",
    "- An agent with a current position\n",
    "- A goal position to reach\n",
    "\n",
    "The agent can:\n",
    "- Move in cardinal directions (one step at a time)\n",
    "- Observe its current position\n",
    "- Be affected by wind when moving\n",
    "\n",
    "The wind effect is applied after each movement, potentially pushing the agent upward by 0-2 positions depending on the column.\n",
    "\n",
    "First we will define the environment and the agent."
   ]
  },
  {
   "cell_type": "code",
   "execution_count": null,
   "metadata": {},
   "outputs": [
    {
     "data": {
      "text/plain": [
       "plot_environment (generic function with 1 method)"
      ]
     },
     "metadata": {},
     "output_type": "display_data"
    }
   ],
   "source": [
    "using RxEnvironments\n",
    "using Plots\n",
    "\n",
    "struct WindyGridWorld{N}\n",
    "    wind::NTuple{N,Int}\n",
    "    agents::Vector\n",
    "    goal::Tuple{Int,Int}\n",
    "end\n",
    "\n",
    "mutable struct WindyGridWorldAgent\n",
    "    position::Tuple{Int,Int}\n",
    "end\n"
   ]
  },
  {
   "cell_type": "code",
   "execution_count": null,
   "metadata": {},
   "outputs": [],
   "source": [
    "\n",
    "RxEnvironments.update!(env::WindyGridWorld, dt) = nothing # The environment has no \"internal\" updating process over time\n",
    "\n",
    "function RxEnvironments.receive!(env::WindyGridWorld{N}, agent::WindyGridWorldAgent, action::Tuple{Int,Int}) where {N}\n",
    "    if action[1] != 0\n",
    "        @assert action[2] == 0 \"Only one of the two actions can be non-zero\"\n",
    "    elseif action[2] != 0\n",
    "        @assert action[1] == 0 \"Only one of the two actions can be non-zero\"\n",
    "    end\n",
    "    new_position = (agent.position[1] + action[1], agent.position[2] + action[2] + env.wind[agent.position[1]])\n",
    "    if all(elem -> 0 < elem < N, new_position)\n",
    "        agent.position = new_position\n",
    "    end\n",
    "end\n",
    "\n",
    "function RxEnvironments.what_to_send(env::WindyGridWorld, agent::WindyGridWorldAgent)\n",
    "    return agent.position\n",
    "end\n",
    "\n",
    "function RxEnvironments.what_to_send(agent::WindyGridWorldAgent, env::WindyGridWorld)\n",
    "    return agent.position\n",
    "end\n",
    "\n",
    "function RxEnvironments.add_to_state!(env::WindyGridWorld, agent::WindyGridWorldAgent)\n",
    "    push!(env.agents, agent)\n",
    "end\n",
    "\n",
    "function reset_env!(environment::RxEnvironments.RxEntity{<:WindyGridWorld,T,S,A}) where {T,S,A}\n",
    "    env = environment.decorated\n",
    "    for agent in env.agents\n",
    "        agent.position = (1, 1)\n",
    "    end\n",
    "    for subscriber in RxEnvironments.subscribers(environment)\n",
    "        send!(subscriber, environment, (1, 1))\n",
    "    end\n",
    "end\n",
    "\n",
    "function plot_environment(environment::RxEnvironments.RxEntity{<:WindyGridWorld,T,S,A}) where {T,S,A}\n",
    "    env = environment.decorated\n",
    "    p1 = scatter([env.goal[1]], [env.goal[2]], color=:blue, label=\"Goal\", xlims=(0, 6), ylims=(0, 6))\n",
    "    for agent in env.agents\n",
    "        p1 = scatter!([agent.position[1]], [agent.position[2]], color=:red, label=\"Agent\")\n",
    "    end\n",
    "    return p1\n",
    "end"
   ]
  },
  {
   "cell_type": "code",
   "execution_count": null,
   "metadata": {},
   "outputs": [
    {
     "ename": "SystemError",
     "evalue": "SystemError: opening file \"/Users/wnuijten/Documents/biaslab/RxInferExamples.jl/examples/Basic Examples/POMDP Control/env.jl\": No such file or directory",
     "output_type": "error",
     "traceback": [
      "SystemError: opening file \"/Users/wnuijten/Documents/biaslab/RxInferExamples.jl/examples/Basic Examples/POMDP Control/env.jl\": No such file or directory\n",
      "\n",
      "Stacktrace:\n",
      "  [1] systemerror(p::String, errno::Int32; extrainfo::Nothing)\n",
      "    @ Base ./error.jl:176\n",
      "  [2] systemerror\n",
      "    @ ./error.jl:175 [inlined]\n",
      "  [3] open(fname::String; lock::Bool, read::Nothing, write::Nothing, create::Nothing, truncate::Nothing, append::Nothing)\n",
      "    @ Base ./iostream.jl:293\n",
      "  [4] open\n",
      "    @ ./iostream.jl:275 [inlined]\n",
      "  [5] open(f::Base.var\"#433#434\"{String}, args::String; kwargs::@Kwargs{})\n",
      "    @ Base ./io.jl:394\n",
      "  [6] open\n",
      "    @ ./io.jl:393 [inlined]\n",
      "  [7] read\n",
      "    @ ./io.jl:486 [inlined]\n",
      "  [8] _include(mapexpr::Function, mod::Module, _path::String)\n",
      "    @ Base ./loading.jl:2202\n",
      "  [9] include(fname::String)\n",
      "    @ Base.MainInclude ./client.jl:494\n",
      " [10] top-level scope\n",
      "    @ ~/Documents/biaslab/RxInferExamples.jl/examples/Basic Examples/POMDP Control/jl_notebook_cell_df34fa98e69747e1a8f8a730347b8e2f_W3sZmlsZQ==.jl:1"
     ]
    }
   ],
   "source": [
    "env = RxEnvironment(WindyGridWorld((0, 1, 1, 1, 0), [], (4, 3)))\n",
    "agent = add!(env, WindyGridWorldAgent((1, 1)))\n",
    "plot_environment(env)"
   ]
  },
  {
   "cell_type": "markdown",
   "metadata": {},
   "source": [
    "## Model Setup\n",
    "\n",
    "First, we'll define our POMDP model structure. We will use the `DiscreteTransition` node in `RxInfer` to define the state transition model. The `DiscreteTransition` node is a special node that accepts any number of `Categorical` distributions as input, and outputs a `Categorical` distribution. This means that we can use it to define a state transition model that accepts the previous state and the control as `Categorical` random variables, but we can also use it to define our observation model! Furthermore, the `DiscreteTransition` node can be used both for parameter inference and for inference-as-planning, isn't that neat?"
   ]
  },
  {
   "cell_type": "code",
   "execution_count": 20,
   "metadata": {},
   "outputs": [],
   "source": [
    "@model function pomdp_model(p_A, p_B, p_goal, p_control, previous_control, p_previous_state, current_y, future_y, T, m_A, m_B)\n",
    "    # Instantiate all model parameters with priors\n",
    "    A ~ p_A\n",
    "    B ~ p_B\n",
    "    previous_state ~ p_previous_state\n",
    "    \n",
    "    # Paremeter inference\n",
    "    current_state ~ DiscreteTransition(previous_state, B, previous_control)\n",
    "    current_y ~ DiscreteTransition(current_state, A)\n",
    "\n",
    "    prev_state = current_state\n",
    "    # Inference-as-planning\n",
    "    for t in 1:T\n",
    "        controls[t] ~ p_control\n",
    "        s[t] ~ DiscreteTransition(prev_state, m_B, controls[t])\n",
    "        future_y[t] ~ DiscreteTransition(s[t], m_A)\n",
    "        prev_state = s[t]\n",
    "    end\n",
    "    # Goal prior initialization\n",
    "    s[end] ~ p_goal\n",
    "end"
   ]
  },
  {
   "cell_type": "markdown",
   "metadata": {},
   "source": [
    "Now, this model, because we use `A` and `B` for every timestep, contains loops, so we have to initialize the inference procedure properly. Furthermore, `RxInfer` does not support learning a joint probability distribution over the parameters and the states, so we have to supply the model with variational constraints that reflect this:"
   ]
  },
  {
   "cell_type": "code",
   "execution_count": 21,
   "metadata": {},
   "outputs": [
    {
     "data": {
      "text/plain": [
       "Constraints: \n",
       "  q(previous_state, previous_control, current_state, B) = q(previous_state, previous_control, current_state)q(B)\n",
       "  q(current_state, current_y, A) = q(current_state, current_y)q(A)\n",
       "  q(current_state, s, controls, B) = q(current_state, s, controls)q(B)\n",
       "  q(s, future_y, A) = q(s, future_y)q(A)\n"
      ]
     },
     "metadata": {},
     "output_type": "display_data"
    }
   ],
   "source": [
    "init = @initialization begin\n",
    "    q(A) = DirichletCollection(diageye(25) .+ 0.1)\n",
    "    q(B) = DirichletCollection(ones(25, 25, 4))\n",
    "end\n",
    "\n",
    "constraints = @constraints begin\n",
    "    q(previous_state, previous_control, current_state, B) = q(previous_state, previous_control, current_state)q(B)\n",
    "    q(current_state, current_y, A) = q(current_state, current_y)q(A)\n",
    "    q(current_state, s, controls, B) = q(current_state, s, controls), q(B)\n",
    "    q(s, future_y, A) = q(s, future_y), q(A)\n",
    "end"
   ]
  },
  {
   "cell_type": "markdown",
   "metadata": {},
   "source": [
    "Now, in order to use this model, we have to define the priors for the model parameters. The WindyGridworld environment has a 5-by-5 grid, so we need to instantiate a prior 25-by-25 transition matrices for every control! That's quite a lot of parameters, but as we will see, `RxInfer` will handle this just fine. We will give our agent a control space of 4 actions, so we need to instantiate 4 transition matrices. Furthermore, we have to transform the output from the environment to a 1-in-25 index, and the controls from a 1-in-4 index to a direction tuple."
   ]
  },
  {
   "cell_type": "markdown",
   "metadata": {},
   "source": [
    "The prior on our observation model tells our model that the prior belief is to trust it's observations, but we might be able to deviate from this. However, in this example, the observation model is deterministic and has no noise, meaning that our agent won't have any reason to deviate from the prior."
   ]
  },
  {
   "cell_type": "code",
   "execution_count": 22,
   "metadata": {},
   "outputs": [
    {
     "data": {
      "text/plain": [
       "Categorical{Float64, Vector{Float64}}(\n",
       "support: Base.OneTo(25)\n",
       "p: [0.0, 0.0, 0.0, 0.0, 0.0, 0.0, 0.0, 0.0, 0.0, 0.0  …  0.0, 0.0, 0.0, 0.0, 0.0, 0.0, 0.0, 0.0, 0.0, 0.0]\n",
       ")\n"
      ]
     },
     "metadata": {},
     "output_type": "display_data"
    }
   ],
   "source": [
    "p_A = DirichletCollection(diageye(25) .+ 0.1)\n",
    "p_B = DirichletCollection(ones(25, 25, 4))\n",
    "\n",
    "function grid_location_to_index(pos::Tuple{Int, Int})\n",
    "    return (pos[2] - 1) * 5 + pos[1]\n",
    "end\n",
    "\n",
    "function index_to_grid_location(index::Int)\n",
    "    return (index % 5, index ÷ 5 + 1,)\n",
    "end\n",
    "\n",
    "function index_to_one_hot(index::Int)\n",
    "    return [i == index ? 1.0 : 0.0 for i in 1:25]\n",
    "end\n",
    "\n",
    "goal = Categorical(index_to_one_hot(grid_location_to_index((4, 3))))\n"
   ]
  },
  {
   "cell_type": "markdown",
   "metadata": {},
   "source": [
    "`RxEnvironments.jl` is a package that allows us to easily communicate between our agent and our environment. We can send actions to the environment, and the environment will automatically respond with the corresponding observations. In order to access these in our model, we can subscribe to the observations and then use the `data` function to access the last observation."
   ]
  },
  {
   "cell_type": "markdown",
   "metadata": {},
   "source": [
    "Now for our main control loop, we will use a receding horizon control strategy. We will first take an action, observe the environment, and then update our belief. We will then repeat this process for a horizon of 10 steps. In order to learn the parameters of our model, we will conduct this experiment 100 times. We can use the `infer` function from `RxInfer` to perform inference on our model."
   ]
  },
  {
   "cell_type": "code",
   "execution_count": 23,
   "metadata": {},
   "outputs": [
    {
     "name": "stderr",
     "output_type": "stream",
     "text": [
      "\u001b[32mProgress: 100%|█████████████████████████████████████████| Time: 0:00:03\u001b[39m\u001b[K\n"
     ]
    }
   ],
   "source": [
    "# Number of times to run the experiment\n",
    "n_experiments = 100\n",
    "# Number of steps in each experiment\n",
    "T = 4\n",
    "observations = keep(Any)\n",
    "# Subscribe the agent to receive observations\n",
    "RxEnvironments.subscribe_to_observations!(agent, observations)\n",
    "successes = []\n",
    "\n",
    "\n",
    "@showprogress for i in 1:n_experiments\n",
    "    # Reset environment to initial state and initialize state belief to starting position (1,1)\n",
    "    reset_env!(env)\n",
    "    p_s = Categorical(index_to_one_hot(grid_location_to_index((1, 1))))\n",
    "    # Initialize previous action as \"down\", as this is neutral from the starting position\n",
    "    policy = [Categorical([0.0, 0.0, 1.0, 0.0])]\n",
    "    prev_u = [0.0, 0.0, 1.0, 0.0]\n",
    "    # Run for T-1 steps in each experiment\n",
    "    for t in 1:T\n",
    "\n",
    "         # Convert policy to actual movement in environment\n",
    "         current_action = mode(first(policy))\n",
    "         if current_action == 1\n",
    "             send!(env, agent, (0, 1))  # Move up \n",
    "             prev_u = [1.0, 0.0, 0.0, 0.0]\n",
    "         elseif current_action == 2\n",
    "             send!(env, agent, (1, 0))  # Move right\n",
    "             prev_u = [0.0, 1.0, 0.0, 0.0]\n",
    "         elseif current_action == 3\n",
    "             send!(env, agent, (0, -1))  # Move down\n",
    "             prev_u = [0.0, 0.0, 1.0, 0.0]\n",
    "         elseif current_action == 4\n",
    "             send!(env, agent, (-1, 0))  # Move left\n",
    "             prev_u = [0.0, 0.0, 0.0, 1.0]\n",
    "         end\n",
    "\n",
    "        # Get last observation and convert to one-hot encoding\n",
    "        last_observation = index_to_one_hot(grid_location_to_index(RxEnvironments.data(last(observations))))\n",
    "        \n",
    "        # Perform inference using the POMDP model\n",
    "        inference_result = infer(\n",
    "            model = pomdp_model(\n",
    "                p_A = p_A,  # prior on observation model parameters\n",
    "                p_B = p_B,  # prior on transition model parameters\n",
    "                T = max(T - t, 1),  # remaining time steps\n",
    "                p_previous_state = p_s,  # posterior belief on previous state\n",
    "                p_goal = goal,  # prior on goal state\n",
    "                p_control = vague(Categorical, 4),  # prior over controls\n",
    "                m_A = mean(p_A),\n",
    "                m_B = mean(p_B)\n",
    "            ),\n",
    "            # Provide data for inference\n",
    "            data = (\n",
    "                previous_control = UnfactorizedData(prev_u),\n",
    "                current_y = UnfactorizedData(last_observation),\n",
    "                future_y = UnfactorizedData(fill(missing, max(T - t, 1)))\n",
    "            ),\n",
    "            constraints = constraints,\n",
    "            initialization = init,\n",
    "            iterations = 10\n",
    "        )\n",
    "        \n",
    "        # Update beliefs based on inference results\n",
    "        p_s = last(inference_result.posteriors[:current_state])  # Update state belief\n",
    "        policy = last(inference_result.posteriors[:controls])  # Get policy\n",
    "\n",
    "        # Update model parameters globally for the entire notebook\n",
    "        global p_A = last(inference_result.posteriors[:A])  # Update observation model\n",
    "        global p_B = last(inference_result.posteriors[:B])  # Update transition model\n",
    "\n",
    "        if RxEnvironments.data(last(observations)) == (4, 3)\n",
    "            break\n",
    "        end\n",
    "    end\n",
    "    if RxEnvironments.data(last(observations)) == (4, 3)\n",
    "        push!(successes, true)\n",
    "    else\n",
    "        push!(successes, false)\n",
    "    end\n",
    "end\n",
    "\n"
   ]
  },
  {
   "cell_type": "markdown",
   "metadata": {},
   "source": [
    "Now, in this example, we have used a trick: we supplied the mean of `p_A` and `p_B` to the model to do the predictions for the future in order to learn the controls. The real reason we did this is because we do not want messages from the future to influence the model parameters, instead only learning the model parameters from past data. This is a simple way to do this, but it is not the only way. We could have supplied the full distribution `p_A` and `p_B` to the model, and used `A` and `B` in the predictive step as well, but then we would need a separate way to make sure we do not use future messages to influence the model parameters."
   ]
  },
  {
   "cell_type": "code",
   "execution_count": 24,
   "metadata": {},
   "outputs": [
    {
     "data": {
      "text/plain": [
       "0.85"
      ]
     },
     "metadata": {},
     "output_type": "display_data"
    }
   ],
   "source": [
    "mean(successes)"
   ]
  },
  {
   "cell_type": "markdown",
   "metadata": {},
   "source": [
    "We see that our agent is able to learn the optimal policy for this environment, and reaches the goal state in 85% of cases!"
   ]
  },
  {
   "cell_type": "code",
   "execution_count": 25,
   "metadata": {},
   "outputs": [
    {
     "data": {
      "image/png": "[encoded data removed]",
      "image/svg+xml": [
       "<?xml version=\"1.0\" encoding=\"utf-8\"?>\n",
       "<svg xmlns=\"http://www.w3.org/2000/svg\" xmlns:xlink=\"http://www.w3.org/1999/xlink\" width=\"600\" height=\"400\" viewBox=\"0 0 2400 1600\">\n",
       "<defs>\n",
       "  <clipPath id=\"clip140\">\n",
       "    <rect x=\"0\" y=\"0\" width=\"2400\" height=\"1600\"/>\n",
       "  </clipPath>\n",
       "</defs>\n",
       "<path clip-path=\"url(#clip140)\" d=\"M0 1600 L2400 1600 L2400 8.88178e-14 L0 8.88178e-14  Z\" fill=\"#ffffff\" fill-rule=\"evenodd\" fill-opacity=\"1\"/>\n",
       "<defs>\n",
       "  <clipPath id=\"clip141\">\n",
       "    <rect x=\"480\" y=\"0\" width=\"1681\" height=\"1600\"/>\n",
       "  </clipPath>\n",
       "</defs>\n",
       "<path clip-path=\"url(#clip140)\" d=\"M112.177 1486.45 L2352.76 1486.45 L2352.76 47.2441 L112.177 47.2441  Z\" fill=\"#ffffff\" fill-rule=\"evenodd\" fill-opacity=\"1\"/>\n",
       "<defs>\n",
       "  <clipPath id=\"clip142\">\n",
       "    <rect x=\"112\" y=\"47\" width=\"2242\" height=\"1440\"/>\n",
       "  </clipPath>\n",
       "</defs>\n",
       "<polyline clip-path=\"url(#clip142)\" style=\"stroke:#000000; stroke-linecap:round; stroke-linejoin:round; stroke-width:2; stroke-opacity:0.1; fill:none\" points=\"112.177,1486.45 112.177,47.2441 \"/>\n",
       "<polyline clip-path=\"url(#clip142)\" style=\"stroke:#000000; stroke-linecap:round; stroke-linejoin:round; stroke-width:2; stroke-opacity:0.1; fill:none\" points=\"485.607,1486.45 485.607,47.2441 \"/>\n",
       "<polyline clip-path=\"url(#clip142)\" style=\"stroke:#000000; stroke-linecap:round; stroke-linejoin:round; stroke-width:2; stroke-opacity:0.1; fill:none\" points=\"859.037,1486.45 859.037,47.2441 \"/>\n",
       "<polyline clip-path=\"url(#clip142)\" style=\"stroke:#000000; stroke-linecap:round; stroke-linejoin:round; stroke-width:2; stroke-opacity:0.1; fill:none\" points=\"1232.47,1486.45 1232.47,47.2441 \"/>\n",
       "<polyline clip-path=\"url(#clip142)\" style=\"stroke:#000000; stroke-linecap:round; stroke-linejoin:round; stroke-width:2; stroke-opacity:0.1; fill:none\" points=\"1605.9,1486.45 1605.9,47.2441 \"/>\n",
       "<polyline clip-path=\"url(#clip142)\" style=\"stroke:#000000; stroke-linecap:round; stroke-linejoin:round; stroke-width:2; stroke-opacity:0.1; fill:none\" points=\"1979.33,1486.45 1979.33,47.2441 \"/>\n",
       "<polyline clip-path=\"url(#clip142)\" style=\"stroke:#000000; stroke-linecap:round; stroke-linejoin:round; stroke-width:2; stroke-opacity:0.1; fill:none\" points=\"2352.76,1486.45 2352.76,47.2441 \"/>\n",
       "<polyline clip-path=\"url(#clip142)\" style=\"stroke:#000000; stroke-linecap:round; stroke-linejoin:round; stroke-width:2; stroke-opacity:0.1; fill:none\" points=\"112.177,1486.45 2352.76,1486.45 \"/>\n",
       "<polyline clip-path=\"url(#clip142)\" style=\"stroke:#000000; stroke-linecap:round; stroke-linejoin:round; stroke-width:2; stroke-opacity:0.1; fill:none\" points=\"112.177,1246.58 2352.76,1246.58 \"/>\n",
       "<polyline clip-path=\"url(#clip142)\" style=\"stroke:#000000; stroke-linecap:round; stroke-linejoin:round; stroke-width:2; stroke-opacity:0.1; fill:none\" points=\"112.177,1006.71 2352.76,1006.71 \"/>\n",
       "<polyline clip-path=\"url(#clip142)\" style=\"stroke:#000000; stroke-linecap:round; stroke-linejoin:round; stroke-width:2; stroke-opacity:0.1; fill:none\" points=\"112.177,766.846 2352.76,766.846 \"/>\n",
       "<polyline clip-path=\"url(#clip142)\" style=\"stroke:#000000; stroke-linecap:round; stroke-linejoin:round; stroke-width:2; stroke-opacity:0.1; fill:none\" points=\"112.177,526.979 2352.76,526.979 \"/>\n",
       "<polyline clip-path=\"url(#clip142)\" style=\"stroke:#000000; stroke-linecap:round; stroke-linejoin:round; stroke-width:2; stroke-opacity:0.1; fill:none\" points=\"112.177,287.111 2352.76,287.111 \"/>\n",
       "<polyline clip-path=\"url(#clip142)\" style=\"stroke:#000000; stroke-linecap:round; stroke-linejoin:round; stroke-width:2; stroke-opacity:0.1; fill:none\" points=\"112.177,47.2441 2352.76,47.2441 \"/>\n",
       "<polyline clip-path=\"url(#clip140)\" style=\"stroke:#000000; stroke-linecap:round; stroke-linejoin:round; stroke-width:4; stroke-opacity:1; fill:none\" points=\"112.177,1486.45 2352.76,1486.45 \"/>\n",
       "<polyline clip-path=\"url(#clip140)\" style=\"stroke:#000000; stroke-linecap:round; stroke-linejoin:round; stroke-width:4; stroke-opacity:1; fill:none\" points=\"112.177,1486.45 112.177,1467.55 \"/>\n",
       "<polyline clip-path=\"url(#clip140)\" style=\"stroke:#000000; stroke-linecap:round; stroke-linejoin:round; stroke-width:4; stroke-opacity:1; fill:none\" points=\"485.607,1486.45 485.607,1467.55 \"/>\n",
       "<polyline clip-path=\"url(#clip140)\" style=\"stroke:#000000; stroke-linecap:round; stroke-linejoin:round; stroke-width:4; stroke-opacity:1; fill:none\" points=\"859.037,1486.45 859.037,1467.55 \"/>\n",
       "<polyline clip-path=\"url(#clip140)\" style=\"stroke:#000000; stroke-linecap:round; stroke-linejoin:round; stroke-width:4; stroke-opacity:1; fill:none\" points=\"1232.47,1486.45 1232.47,1467.55 \"/>\n",
       "<polyline clip-path=\"url(#clip140)\" style=\"stroke:#000000; stroke-linecap:round; stroke-linejoin:round; stroke-width:4; stroke-opacity:1; fill:none\" points=\"1605.9,1486.45 1605.9,1467.55 \"/>\n",
       "<polyline clip-path=\"url(#clip140)\" style=\"stroke:#000000; stroke-linecap:round; stroke-linejoin:round; stroke-width:4; stroke-opacity:1; fill:none\" points=\"1979.33,1486.45 1979.33,1467.55 \"/>\n",
       "<polyline clip-path=\"url(#clip140)\" style=\"stroke:#000000; stroke-linecap:round; stroke-linejoin:round; stroke-width:4; stroke-opacity:1; fill:none\" points=\"2352.76,1486.45 2352.76,1467.55 \"/>\n",
       "<path clip-path=\"url(#clip140)\" d=\"M112.177 1517.37 Q108.566 1517.37 106.737 1520.93 Q104.932 1524.47 104.932 1531.6 Q104.932 1538.71 106.737 1542.27 Q108.566 1545.82 112.177 1545.82 Q115.811 1545.82 117.617 1542.27 Q119.446 1538.71 119.446 1531.6 Q119.446 1524.47 117.617 1520.93 Q115.811 1517.37 112.177 1517.37 M112.177 1513.66 Q117.987 1513.66 121.043 1518.27 Q124.122 1522.85 124.122 1531.6 Q124.122 1540.33 121.043 1544.94 Q117.987 1549.52 112.177 1549.52 Q106.367 1549.52 103.288 1544.94 Q100.233 1540.33 100.233 1531.6 Q100.233 1522.85 103.288 1518.27 Q106.367 1513.66 112.177 1513.66 Z\" fill=\"#000000\" fill-rule=\"nonzero\" fill-opacity=\"1\" /><path clip-path=\"url(#clip140)\" d=\"M475.989 1544.91 L483.628 1544.91 L483.628 1518.55 L475.318 1520.21 L475.318 1515.95 L483.582 1514.29 L488.257 1514.29 L488.257 1544.91 L495.896 1544.91 L495.896 1548.85 L475.989 1548.85 L475.989 1544.91 Z\" fill=\"#000000\" fill-rule=\"nonzero\" fill-opacity=\"1\" /><path clip-path=\"url(#clip140)\" d=\"M853.69 1544.91 L870.009 1544.91 L870.009 1548.85 L848.065 1548.85 L848.065 1544.91 Q850.727 1542.16 855.31 1537.53 Q859.916 1532.88 861.097 1531.53 Q863.342 1529.01 864.222 1527.27 Q865.125 1525.51 865.125 1523.82 Q865.125 1521.07 863.18 1519.33 Q861.259 1517.6 858.157 1517.6 Q855.958 1517.6 853.504 1518.36 Q851.074 1519.13 848.296 1520.68 L848.296 1515.95 Q851.12 1514.82 853.574 1514.24 Q856.028 1513.66 858.065 1513.66 Q863.435 1513.66 866.629 1516.35 Q869.824 1519.03 869.824 1523.52 Q869.824 1525.65 869.014 1527.57 Q868.227 1529.47 866.12 1532.07 Q865.541 1532.74 862.44 1535.95 Q859.338 1539.15 853.69 1544.91 Z\" fill=\"#000000\" fill-rule=\"nonzero\" fill-opacity=\"1\" /><path clip-path=\"url(#clip140)\" d=\"M1236.71 1530.21 Q1240.07 1530.93 1241.95 1533.2 Q1243.84 1535.47 1243.84 1538.8 Q1243.84 1543.92 1240.33 1546.72 Q1236.81 1549.52 1230.33 1549.52 Q1228.15 1549.52 1225.83 1549.08 Q1223.54 1548.66 1221.09 1547.81 L1221.09 1543.29 Q1223.03 1544.43 1225.35 1545.01 Q1227.66 1545.58 1230.19 1545.58 Q1234.58 1545.58 1236.88 1543.85 Q1239.19 1542.11 1239.19 1538.8 Q1239.19 1535.75 1237.04 1534.03 Q1234.91 1532.3 1231.09 1532.3 L1227.06 1532.3 L1227.06 1528.45 L1231.27 1528.45 Q1234.72 1528.45 1236.55 1527.09 Q1238.38 1525.7 1238.38 1523.11 Q1238.38 1520.45 1236.48 1519.03 Q1234.61 1517.6 1231.09 1517.6 Q1229.17 1517.6 1226.97 1518.01 Q1224.77 1518.43 1222.13 1519.31 L1222.13 1515.14 Q1224.79 1514.4 1227.11 1514.03 Q1229.45 1513.66 1231.51 1513.66 Q1236.83 1513.66 1239.93 1516.09 Q1243.03 1518.5 1243.03 1522.62 Q1243.03 1525.49 1241.39 1527.48 Q1239.75 1529.45 1236.71 1530.21 Z\" fill=\"#000000\" fill-rule=\"nonzero\" fill-opacity=\"1\" /><path clip-path=\"url(#clip140)\" d=\"M1608.91 1518.36 L1597.1 1536.81 L1608.91 1536.81 L1608.91 1518.36 M1607.68 1514.29 L1613.56 1514.29 L1613.56 1536.81 L1618.49 1536.81 L1618.49 1540.7 L1613.56 1540.7 L1613.56 1548.85 L1608.91 1548.85 L1608.91 1540.7 L1593.3 1540.7 L1593.3 1536.19 L1607.68 1514.29 Z\" fill=\"#000000\" fill-rule=\"nonzero\" fill-opacity=\"1\" /><path clip-path=\"url(#clip140)\" d=\"M1969.6 1514.29 L1987.96 1514.29 L1987.96 1518.22 L1973.89 1518.22 L1973.89 1526.7 Q1974.9 1526.35 1975.92 1526.19 Q1976.94 1526 1977.96 1526 Q1983.75 1526 1987.13 1529.17 Q1990.51 1532.34 1990.51 1537.76 Q1990.51 1543.34 1987.03 1546.44 Q1983.56 1549.52 1977.24 1549.52 Q1975.07 1549.52 1972.8 1549.15 Q1970.55 1548.78 1968.15 1548.04 L1968.15 1543.34 Q1970.23 1544.47 1972.45 1545.03 Q1974.67 1545.58 1977.15 1545.58 Q1981.15 1545.58 1983.49 1543.48 Q1985.83 1541.37 1985.83 1537.76 Q1985.83 1534.15 1983.49 1532.04 Q1981.15 1529.94 1977.15 1529.94 Q1975.28 1529.94 1973.4 1530.35 Q1971.55 1530.77 1969.6 1531.65 L1969.6 1514.29 Z\" fill=\"#000000\" fill-rule=\"nonzero\" fill-opacity=\"1\" /><path clip-path=\"url(#clip140)\" d=\"M2353.16 1529.7 Q2350.01 1529.7 2348.16 1531.86 Q2346.33 1534.01 2346.33 1537.76 Q2346.33 1541.49 2348.16 1543.66 Q2350.01 1545.82 2353.16 1545.82 Q2356.31 1545.82 2358.14 1543.66 Q2359.99 1541.49 2359.99 1537.76 Q2359.99 1534.01 2358.14 1531.86 Q2356.31 1529.7 2353.16 1529.7 M2362.44 1515.05 L2362.44 1519.31 Q2360.68 1518.48 2358.88 1518.04 Q2357.1 1517.6 2355.34 1517.6 Q2350.71 1517.6 2348.25 1520.72 Q2345.82 1523.85 2345.48 1530.17 Q2346.84 1528.15 2348.9 1527.09 Q2350.96 1526 2353.44 1526 Q2358.65 1526 2361.66 1529.17 Q2364.69 1532.32 2364.69 1537.76 Q2364.69 1543.08 2361.54 1546.3 Q2358.39 1549.52 2353.16 1549.52 Q2347.17 1549.52 2343.99 1544.94 Q2340.82 1540.33 2340.82 1531.6 Q2340.82 1523.41 2344.71 1518.55 Q2348.6 1513.66 2355.15 1513.66 Q2356.91 1513.66 2358.69 1514.01 Q2360.5 1514.36 2362.44 1515.05 Z\" fill=\"#000000\" fill-rule=\"nonzero\" fill-opacity=\"1\" /><polyline clip-path=\"url(#clip140)\" style=\"stroke:#000000; stroke-linecap:round; stroke-linejoin:round; stroke-width:4; stroke-opacity:1; fill:none\" points=\"112.177,1486.45 112.177,47.2441 \"/>\n",
       "<polyline clip-path=\"url(#clip140)\" style=\"stroke:#000000; stroke-linecap:round; stroke-linejoin:round; stroke-width:4; stroke-opacity:1; fill:none\" points=\"112.177,1486.45 131.075,1486.45 \"/>\n",
       "<polyline clip-path=\"url(#clip140)\" style=\"stroke:#000000; stroke-linecap:round; stroke-linejoin:round; stroke-width:4; stroke-opacity:1; fill:none\" points=\"112.177,1246.58 131.075,1246.58 \"/>\n",
       "<polyline clip-path=\"url(#clip140)\" style=\"stroke:#000000; stroke-linecap:round; stroke-linejoin:round; stroke-width:4; stroke-opacity:1; fill:none\" points=\"112.177,1006.71 131.075,1006.71 \"/>\n",
       "<polyline clip-path=\"url(#clip140)\" style=\"stroke:#000000; stroke-linecap:round; stroke-linejoin:round; stroke-width:4; stroke-opacity:1; fill:none\" points=\"112.177,766.846 131.075,766.846 \"/>\n",
       "<polyline clip-path=\"url(#clip140)\" style=\"stroke:#000000; stroke-linecap:round; stroke-linejoin:round; stroke-width:4; stroke-opacity:1; fill:none\" points=\"112.177,526.979 131.075,526.979 \"/>\n",
       "<polyline clip-path=\"url(#clip140)\" style=\"stroke:#000000; stroke-linecap:round; stroke-linejoin:round; stroke-width:4; stroke-opacity:1; fill:none\" points=\"112.177,287.111 131.075,287.111 \"/>\n",
       "<polyline clip-path=\"url(#clip140)\" style=\"stroke:#000000; stroke-linecap:round; stroke-linejoin:round; stroke-width:4; stroke-opacity:1; fill:none\" points=\"112.177,47.2441 131.075,47.2441 \"/>\n",
       "<path clip-path=\"url(#clip140)\" d=\"M64.2328 1472.25 Q60.6217 1472.25 58.793 1475.81 Q56.9875 1479.35 56.9875 1486.48 Q56.9875 1493.59 58.793 1497.15 Q60.6217 1500.7 64.2328 1500.7 Q67.867 1500.7 69.6726 1497.15 Q71.5013 1493.59 71.5013 1486.48 Q71.5013 1479.35 69.6726 1475.81 Q67.867 1472.25 64.2328 1472.25 M64.2328 1468.54 Q70.0429 1468.54 73.0985 1473.15 Q76.1772 1477.73 76.1772 1486.48 Q76.1772 1495.21 73.0985 1499.82 Q70.0429 1504.4 64.2328 1504.4 Q58.4226 1504.4 55.344 1499.82 Q52.2884 1495.21 52.2884 1486.48 Q52.2884 1477.73 55.344 1473.15 Q58.4226 1468.54 64.2328 1468.54 Z\" fill=\"#000000\" fill-rule=\"nonzero\" fill-opacity=\"1\" /><path clip-path=\"url(#clip140)\" d=\"M56.2699 1259.93 L63.9087 1259.93 L63.9087 1233.56 L55.5986 1235.23 L55.5986 1230.97 L63.8624 1229.3 L68.5383 1229.3 L68.5383 1259.93 L76.1772 1259.93 L76.1772 1263.86 L56.2699 1263.86 L56.2699 1259.93 Z\" fill=\"#000000\" fill-rule=\"nonzero\" fill-opacity=\"1\" /><path clip-path=\"url(#clip140)\" d=\"M59.8578 1020.06 L76.1772 1020.06 L76.1772 1023.99 L54.2328 1023.99 L54.2328 1020.06 Q56.8949 1017.3 61.4782 1012.67 Q66.0846 1008.02 67.2652 1006.68 Q69.5105 1004.16 70.3902 1002.42 Q71.2929 1000.66 71.2929 998.97 Q71.2929 996.216 69.3485 994.48 Q67.4272 992.743 64.3254 992.743 Q62.1263 992.743 59.6726 993.507 Q57.2421 994.271 54.4643 995.822 L54.4643 991.1 Q57.2884 989.966 59.7421 989.387 Q62.1958 988.808 64.2328 988.808 Q69.6031 988.808 72.7976 991.493 Q75.992 994.179 75.992 998.669 Q75.992 1000.8 75.1818 1002.72 Q74.3948 1004.62 72.2883 1007.21 Q71.7096 1007.88 68.6078 1011.1 Q65.5059 1014.29 59.8578 1020.06 Z\" fill=\"#000000\" fill-rule=\"nonzero\" fill-opacity=\"1\" /><path clip-path=\"url(#clip140)\" d=\"M69.0476 765.492 Q72.404 766.209 74.279 768.478 Q76.1772 770.746 76.1772 774.08 Q76.1772 779.195 72.6587 781.996 Q69.1402 784.797 62.6587 784.797 Q60.4828 784.797 58.168 784.357 Q55.8764 783.941 53.4227 783.084 L53.4227 778.57 Q55.3671 779.705 57.6819 780.283 Q59.9967 780.862 62.5198 780.862 Q66.918 780.862 69.2096 779.126 Q71.5244 777.39 71.5244 774.08 Q71.5244 771.024 69.3717 769.311 Q67.242 767.575 63.4226 767.575 L59.3949 767.575 L59.3949 763.733 L63.6078 763.733 Q67.0569 763.733 68.8855 762.367 Q70.7142 760.978 70.7142 758.385 Q70.7142 755.723 68.8161 754.311 Q66.9411 752.876 63.4226 752.876 Q61.5013 752.876 59.3023 753.293 Q57.1032 753.709 54.4643 754.589 L54.4643 750.422 Q57.1264 749.682 59.4412 749.311 Q61.7791 748.941 63.8393 748.941 Q69.1633 748.941 72.2652 751.372 Q75.367 753.779 75.367 757.899 Q75.367 760.77 73.7235 762.76 Q72.08 764.728 69.0476 765.492 Z\" fill=\"#000000\" fill-rule=\"nonzero\" fill-opacity=\"1\" /><path clip-path=\"url(#clip140)\" d=\"M66.5939 513.773 L54.7884 532.222 L66.5939 532.222 L66.5939 513.773 M65.367 509.699 L71.2466 509.699 L71.2466 532.222 L76.1772 532.222 L76.1772 536.111 L71.2466 536.111 L71.2466 544.259 L66.5939 544.259 L66.5939 536.111 L50.9921 536.111 L50.9921 531.597 L65.367 509.699 Z\" fill=\"#000000\" fill-rule=\"nonzero\" fill-opacity=\"1\" /><path clip-path=\"url(#clip140)\" d=\"M55.2745 269.831 L73.6309 269.831 L73.6309 273.767 L59.5569 273.767 L59.5569 282.239 Q60.5754 281.892 61.5939 281.729 Q62.6124 281.544 63.6309 281.544 Q69.418 281.544 72.7976 284.716 Q76.1772 287.887 76.1772 293.303 Q76.1772 298.882 72.705 301.984 Q69.2328 305.063 62.9134 305.063 Q60.7374 305.063 58.4689 304.692 Q56.2236 304.322 53.8162 303.581 L53.8162 298.882 Q55.8995 300.016 58.1217 300.572 Q60.3439 301.128 62.8208 301.128 Q66.8254 301.128 69.1633 299.021 Q71.5013 296.915 71.5013 293.303 Q71.5013 289.692 69.1633 287.586 Q66.8254 285.479 62.8208 285.479 Q60.9458 285.479 59.0708 285.896 Q57.2189 286.313 55.2745 287.192 L55.2745 269.831 Z\" fill=\"#000000\" fill-rule=\"nonzero\" fill-opacity=\"1\" /><path clip-path=\"url(#clip140)\" d=\"M64.6495 45.3807 Q61.5013 45.3807 59.6495 47.5334 Q57.8208 49.6862 57.8208 53.4362 Q57.8208 57.163 59.6495 59.3389 Q61.5013 61.4917 64.6495 61.4917 Q67.7976 61.4917 69.6263 59.3389 Q71.4781 57.163 71.4781 53.4362 Q71.4781 49.6862 69.6263 47.5334 Q67.7976 45.3807 64.6495 45.3807 M73.9318 30.728 L73.9318 34.9872 Q72.1726 34.1539 70.367 33.7141 Q68.5846 33.2743 66.8254 33.2743 Q62.1958 33.2743 59.7421 36.3992 Q57.3115 39.5242 56.9643 45.8436 Q58.33 43.8298 60.3902 42.765 Q62.4504 41.677 64.9272 41.677 Q70.1355 41.677 73.1448 44.8483 Q76.1772 47.9964 76.1772 53.4362 Q76.1772 58.7602 73.029 61.9778 Q69.8809 65.1954 64.6495 65.1954 Q58.6541 65.1954 55.4828 60.6121 Q52.3116 56.0056 52.3116 47.2788 Q52.3116 39.0844 56.2004 34.2233 Q60.0893 29.3391 66.6402 29.3391 Q68.3994 29.3391 70.1818 29.6863 Q71.9874 30.0335 73.9318 30.728 Z\" fill=\"#000000\" fill-rule=\"nonzero\" fill-opacity=\"1\" /><circle clip-path=\"url(#clip142)\" cx=\"1605.9\" cy=\"766.846\" r=\"14.4\" fill=\"#0000ff\" fill-rule=\"evenodd\" fill-opacity=\"1\" stroke=\"#000000\" stroke-opacity=\"1\" stroke-width=\"3.2\"/>\n",
       "<circle clip-path=\"url(#clip142)\" cx=\"1605.9\" cy=\"766.846\" r=\"14.4\" fill=\"#ff0000\" fill-rule=\"evenodd\" fill-opacity=\"1\" stroke=\"#000000\" stroke-opacity=\"1\" stroke-width=\"3.2\"/>\n",
       "<path clip-path=\"url(#clip140)\" d=\"M1915.19 250.738 L2278.07 250.738 L2278.07 95.2176 L1915.19 95.2176  Z\" fill=\"#ffffff\" fill-rule=\"evenodd\" fill-opacity=\"1\"/>\n",
       "<polyline clip-path=\"url(#clip140)\" style=\"stroke:#000000; stroke-linecap:round; stroke-linejoin:round; stroke-width:4; stroke-opacity:1; fill:none\" points=\"1915.19,250.738 2278.07,250.738 2278.07,95.2176 1915.19,95.2176 1915.19,250.738 \"/>\n",
       "<circle clip-path=\"url(#clip140)\" cx=\"2014.77\" cy=\"147.058\" r=\"20.48\" fill=\"#0000ff\" fill-rule=\"evenodd\" fill-opacity=\"1\" stroke=\"#000000\" stroke-opacity=\"1\" stroke-width=\"4.55111\"/>\n",
       "<path clip-path=\"url(#clip140)\" d=\"M2139.91 159.407 L2139.91 150.125 L2132.27 150.125 L2132.27 146.282 L2144.54 146.282 L2144.54 161.12 Q2141.83 163.041 2138.57 164.037 Q2135.3 165.009 2131.6 165.009 Q2123.5 165.009 2118.92 160.287 Q2114.36 155.541 2114.36 147.092 Q2114.36 138.62 2118.92 133.898 Q2123.5 129.153 2131.6 129.153 Q2134.98 129.153 2138.01 129.986 Q2141.07 130.819 2143.64 132.44 L2143.64 137.416 Q2141.05 135.217 2138.13 134.106 Q2135.21 132.995 2131.99 132.995 Q2125.65 132.995 2122.46 136.537 Q2119.29 140.078 2119.29 147.092 Q2119.29 154.083 2122.46 157.625 Q2125.65 161.166 2131.99 161.166 Q2134.47 161.166 2136.42 160.75 Q2138.36 160.31 2139.91 159.407 Z\" fill=\"#000000\" fill-rule=\"nonzero\" fill-opacity=\"1\" /><path clip-path=\"url(#clip140)\" d=\"M2162.94 141.398 Q2159.52 141.398 2157.53 144.083 Q2155.54 146.745 2155.54 151.398 Q2155.54 156.051 2157.5 158.736 Q2159.49 161.398 2162.94 161.398 Q2166.35 161.398 2168.34 158.713 Q2170.33 156.027 2170.33 151.398 Q2170.33 146.791 2168.34 144.106 Q2166.35 141.398 2162.94 141.398 M2162.94 137.787 Q2168.5 137.787 2171.67 141.398 Q2174.84 145.009 2174.84 151.398 Q2174.84 157.764 2171.67 161.398 Q2168.5 165.009 2162.94 165.009 Q2157.36 165.009 2154.19 161.398 Q2151.05 157.764 2151.05 151.398 Q2151.05 145.009 2154.19 141.398 Q2157.36 137.787 2162.94 137.787 Z\" fill=\"#000000\" fill-rule=\"nonzero\" fill-opacity=\"1\" /><path clip-path=\"url(#clip140)\" d=\"M2193.68 151.305 Q2188.52 151.305 2186.53 152.486 Q2184.54 153.666 2184.54 156.514 Q2184.54 158.782 2186.02 160.125 Q2187.53 161.444 2190.1 161.444 Q2193.64 161.444 2195.77 158.944 Q2197.92 156.421 2197.92 152.254 L2197.92 151.305 L2193.68 151.305 M2202.18 149.546 L2202.18 164.338 L2197.92 164.338 L2197.92 160.402 Q2196.46 162.763 2194.29 163.898 Q2192.11 165.009 2188.96 165.009 Q2184.98 165.009 2182.62 162.787 Q2180.28 160.541 2180.28 156.791 Q2180.28 152.416 2183.2 150.194 Q2186.14 147.972 2191.95 147.972 L2197.92 147.972 L2197.92 147.555 Q2197.92 144.615 2195.98 143.018 Q2194.05 141.398 2190.56 141.398 Q2188.34 141.398 2186.23 141.93 Q2184.12 142.463 2182.18 143.527 L2182.18 139.592 Q2184.52 138.69 2186.72 138.25 Q2188.92 137.787 2191 137.787 Q2196.62 137.787 2199.4 140.703 Q2202.18 143.62 2202.18 149.546 Z\" fill=\"#000000\" fill-rule=\"nonzero\" fill-opacity=\"1\" /><path clip-path=\"url(#clip140)\" d=\"M2210.95 128.319 L2215.21 128.319 L2215.21 164.338 L2210.95 164.338 L2210.95 128.319 Z\" fill=\"#000000\" fill-rule=\"nonzero\" fill-opacity=\"1\" /><circle clip-path=\"url(#clip140)\" cx=\"2014.77\" cy=\"198.898\" r=\"20.48\" fill=\"#ff0000\" fill-rule=\"evenodd\" fill-opacity=\"1\" stroke=\"#000000\" stroke-opacity=\"1\" stroke-width=\"4.55111\"/>\n",
       "<path clip-path=\"url(#clip140)\" d=\"M2130.19 186.224 L2123.85 203.423 L2136.55 203.423 L2130.19 186.224 M2127.55 181.618 L2132.85 181.618 L2146.02 216.178 L2141.16 216.178 L2138.01 207.312 L2122.43 207.312 L2119.29 216.178 L2114.36 216.178 L2127.55 181.618 Z\" fill=\"#000000\" fill-rule=\"nonzero\" fill-opacity=\"1\" /><path clip-path=\"url(#clip140)\" d=\"M2167.94 202.914 Q2167.94 198.284 2166.02 195.738 Q2164.12 193.192 2160.68 193.192 Q2157.25 193.192 2155.33 195.738 Q2153.43 198.284 2153.43 202.914 Q2153.43 207.52 2155.33 210.066 Q2157.25 212.613 2160.68 212.613 Q2164.12 212.613 2166.02 210.066 Q2167.94 207.52 2167.94 202.914 M2172.2 212.96 Q2172.2 219.58 2169.26 222.798 Q2166.32 226.039 2160.26 226.039 Q2158.01 226.039 2156.02 225.691 Q2154.03 225.367 2152.16 224.673 L2152.16 220.529 Q2154.03 221.548 2155.86 222.034 Q2157.69 222.52 2159.59 222.52 Q2163.78 222.52 2165.86 220.321 Q2167.94 218.145 2167.94 213.724 L2167.94 211.617 Q2166.62 213.909 2164.56 215.043 Q2162.5 216.178 2159.63 216.178 Q2154.86 216.178 2151.95 212.543 Q2149.03 208.909 2149.03 202.914 Q2149.03 196.895 2151.95 193.261 Q2154.86 189.627 2159.63 189.627 Q2162.5 189.627 2164.56 190.761 Q2166.62 191.895 2167.94 194.187 L2167.94 190.252 L2172.2 190.252 L2172.2 212.96 Z\" fill=\"#000000\" fill-rule=\"nonzero\" fill-opacity=\"1\" /><path clip-path=\"url(#clip140)\" d=\"M2203.15 202.15 L2203.15 204.233 L2183.57 204.233 Q2183.85 208.631 2186.21 210.946 Q2188.59 213.238 2192.83 213.238 Q2195.28 213.238 2197.57 212.636 Q2199.89 212.034 2202.16 210.83 L2202.16 214.858 Q2199.86 215.83 2197.46 216.34 Q2195.05 216.849 2192.57 216.849 Q2186.37 216.849 2182.74 213.238 Q2179.12 209.627 2179.12 203.469 Q2179.12 197.104 2182.55 193.377 Q2186 189.627 2191.83 189.627 Q2197.06 189.627 2200.1 193.006 Q2203.15 196.363 2203.15 202.15 M2198.89 200.9 Q2198.85 197.405 2196.92 195.321 Q2195.03 193.238 2191.88 193.238 Q2188.31 193.238 2186.16 195.252 Q2184.03 197.266 2183.71 200.923 L2198.89 200.9 Z\" fill=\"#000000\" fill-rule=\"nonzero\" fill-opacity=\"1\" /><path clip-path=\"url(#clip140)\" d=\"M2231.69 200.529 L2231.69 216.178 L2227.43 216.178 L2227.43 200.668 Q2227.43 196.988 2226 195.159 Q2224.56 193.33 2221.69 193.33 Q2218.24 193.33 2216.25 195.53 Q2214.26 197.729 2214.26 201.525 L2214.26 216.178 L2209.98 216.178 L2209.98 190.252 L2214.26 190.252 L2214.26 194.28 Q2215.79 191.942 2217.85 190.784 Q2219.93 189.627 2222.64 189.627 Q2227.11 189.627 2229.4 192.405 Q2231.69 195.159 2231.69 200.529 Z\" fill=\"#000000\" fill-rule=\"nonzero\" fill-opacity=\"1\" /><path clip-path=\"url(#clip140)\" d=\"M2244.4 182.891 L2244.4 190.252 L2253.17 190.252 L2253.17 193.562 L2244.4 193.562 L2244.4 207.636 Q2244.4 210.807 2245.26 211.71 Q2246.14 212.613 2248.8 212.613 L2253.17 212.613 L2253.17 216.178 L2248.8 216.178 Q2243.87 216.178 2241.99 214.349 Q2240.12 212.497 2240.12 207.636 L2240.12 193.562 L2236.99 193.562 L2236.99 190.252 L2240.12 190.252 L2240.12 182.891 L2244.4 182.891 Z\" fill=\"#000000\" fill-rule=\"nonzero\" fill-opacity=\"1\" /></svg>\n"
      ],
      "text/html": [
       "<?xml version=\"1.0\" encoding=\"utf-8\"?>\n",
       "<svg xmlns=\"http://www.w3.org/2000/svg\" xmlns:xlink=\"http://www.w3.org/1999/xlink\" width=\"600\" height=\"400\" viewBox=\"0 0 2400 1600\">\n",
       "<defs>\n",
       "  <clipPath id=\"clip190\">\n",
       "    <rect x=\"0\" y=\"0\" width=\"2400\" height=\"1600\"/>\n",
       "  </clipPath>\n",
       "</defs>\n",
       "<path clip-path=\"url(#clip190)\" d=\"M0 1600 L2400 1600 L2400 8.88178e-14 L0 8.88178e-14  Z\" fill=\"#ffffff\" fill-rule=\"evenodd\" fill-opacity=\"1\"/>\n",
       "<defs>\n",
       "  <clipPath id=\"clip191\">\n",
       "    <rect x=\"480\" y=\"0\" width=\"1681\" height=\"1600\"/>\n",
       "  </clipPath>\n",
       "</defs>\n",
       "<path clip-path=\"url(#clip190)\" d=\"M112.177 1486.45 L2352.76 1486.45 L2352.76 47.2441 L112.177 47.2441  Z\" fill=\"#ffffff\" fill-rule=\"evenodd\" fill-opacity=\"1\"/>\n",
       "<defs>\n",
       "  <clipPath id=\"clip192\">\n",
       "    <rect x=\"112\" y=\"47\" width=\"2242\" height=\"1440\"/>\n",
       "  </clipPath>\n",
       "</defs>\n",
       "<polyline clip-path=\"url(#clip192)\" style=\"stroke:#000000; stroke-linecap:round; stroke-linejoin:round; stroke-width:2; stroke-opacity:0.1; fill:none\" points=\"112.177,1486.45 112.177,47.2441 \"/>\n",
       "<polyline clip-path=\"url(#clip192)\" style=\"stroke:#000000; stroke-linecap:round; stroke-linejoin:round; stroke-width:2; stroke-opacity:0.1; fill:none\" points=\"485.607,1486.45 485.607,47.2441 \"/>\n",
       "<polyline clip-path=\"url(#clip192)\" style=\"stroke:#000000; stroke-linecap:round; stroke-linejoin:round; stroke-width:2; stroke-opacity:0.1; fill:none\" points=\"859.037,1486.45 859.037,47.2441 \"/>\n",
       "<polyline clip-path=\"url(#clip192)\" style=\"stroke:#000000; stroke-linecap:round; stroke-linejoin:round; stroke-width:2; stroke-opacity:0.1; fill:none\" points=\"1232.47,1486.45 1232.47,47.2441 \"/>\n",
       "<polyline clip-path=\"url(#clip192)\" style=\"stroke:#000000; stroke-linecap:round; stroke-linejoin:round; stroke-width:2; stroke-opacity:0.1; fill:none\" points=\"1605.9,1486.45 1605.9,47.2441 \"/>\n",
       "<polyline clip-path=\"url(#clip192)\" style=\"stroke:#000000; stroke-linecap:round; stroke-linejoin:round; stroke-width:2; stroke-opacity:0.1; fill:none\" points=\"1979.33,1486.45 1979.33,47.2441 \"/>\n",
       "<polyline clip-path=\"url(#clip192)\" style=\"stroke:#000000; stroke-linecap:round; stroke-linejoin:round; stroke-width:2; stroke-opacity:0.1; fill:none\" points=\"2352.76,1486.45 2352.76,47.2441 \"/>\n",
       "<polyline clip-path=\"url(#clip192)\" style=\"stroke:#000000; stroke-linecap:round; stroke-linejoin:round; stroke-width:2; stroke-opacity:0.1; fill:none\" points=\"112.177,1486.45 2352.76,1486.45 \"/>\n",
       "<polyline clip-path=\"url(#clip192)\" style=\"stroke:#000000; stroke-linecap:round; stroke-linejoin:round; stroke-width:2; stroke-opacity:0.1; fill:none\" points=\"112.177,1246.58 2352.76,1246.58 \"/>\n",
       "<polyline clip-path=\"url(#clip192)\" style=\"stroke:#000000; stroke-linecap:round; stroke-linejoin:round; stroke-width:2; stroke-opacity:0.1; fill:none\" points=\"112.177,1006.71 2352.76,1006.71 \"/>\n",
       "<polyline clip-path=\"url(#clip192)\" style=\"stroke:#000000; stroke-linecap:round; stroke-linejoin:round; stroke-width:2; stroke-opacity:0.1; fill:none\" points=\"112.177,766.846 2352.76,766.846 \"/>\n",
       "<polyline clip-path=\"url(#clip192)\" style=\"stroke:#000000; stroke-linecap:round; stroke-linejoin:round; stroke-width:2; stroke-opacity:0.1; fill:none\" points=\"112.177,526.979 2352.76,526.979 \"/>\n",
       "<polyline clip-path=\"url(#clip192)\" style=\"stroke:#000000; stroke-linecap:round; stroke-linejoin:round; stroke-width:2; stroke-opacity:0.1; fill:none\" points=\"112.177,287.111 2352.76,287.111 \"/>\n",
       "<polyline clip-path=\"url(#clip192)\" style=\"stroke:#000000; stroke-linecap:round; stroke-linejoin:round; stroke-width:2; stroke-opacity:0.1; fill:none\" points=\"112.177,47.2441 2352.76,47.2441 \"/>\n",
       "<polyline clip-path=\"url(#clip190)\" style=\"stroke:#000000; stroke-linecap:round; stroke-linejoin:round; stroke-width:4; stroke-opacity:1; fill:none\" points=\"112.177,1486.45 2352.76,1486.45 \"/>\n",
       "<polyline clip-path=\"url(#clip190)\" style=\"stroke:#000000; stroke-linecap:round; stroke-linejoin:round; stroke-width:4; stroke-opacity:1; fill:none\" points=\"112.177,1486.45 112.177,1467.55 \"/>\n",
       "<polyline clip-path=\"url(#clip190)\" style=\"stroke:#000000; stroke-linecap:round; stroke-linejoin:round; stroke-width:4; stroke-opacity:1; fill:none\" points=\"485.607,1486.45 485.607,1467.55 \"/>\n",
       "<polyline clip-path=\"url(#clip190)\" style=\"stroke:#000000; stroke-linecap:round; stroke-linejoin:round; stroke-width:4; stroke-opacity:1; fill:none\" points=\"859.037,1486.45 859.037,1467.55 \"/>\n",
       "<polyline clip-path=\"url(#clip190)\" style=\"stroke:#000000; stroke-linecap:round; stroke-linejoin:round; stroke-width:4; stroke-opacity:1; fill:none\" points=\"1232.47,1486.45 1232.47,1467.55 \"/>\n",
       "<polyline clip-path=\"url(#clip190)\" style=\"stroke:#000000; stroke-linecap:round; stroke-linejoin:round; stroke-width:4; stroke-opacity:1; fill:none\" points=\"1605.9,1486.45 1605.9,1467.55 \"/>\n",
       "<polyline clip-path=\"url(#clip190)\" style=\"stroke:#000000; stroke-linecap:round; stroke-linejoin:round; stroke-width:4; stroke-opacity:1; fill:none\" points=\"1979.33,1486.45 1979.33,1467.55 \"/>\n",
       "<polyline clip-path=\"url(#clip190)\" style=\"stroke:#000000; stroke-linecap:round; stroke-linejoin:round; stroke-width:4; stroke-opacity:1; fill:none\" points=\"2352.76,1486.45 2352.76,1467.55 \"/>\n",
       "<path clip-path=\"url(#clip190)\" d=\"M112.177 1517.37 Q108.566 1517.37 106.737 1520.93 Q104.932 1524.47 104.932 1531.6 Q104.932 1538.71 106.737 1542.27 Q108.566 1545.82 112.177 1545.82 Q115.811 1545.82 117.617 1542.27 Q119.446 1538.71 119.446 1531.6 Q119.446 1524.47 117.617 1520.93 Q115.811 1517.37 112.177 1517.37 M112.177 1513.66 Q117.987 1513.66 121.043 1518.27 Q124.122 1522.85 124.122 1531.6 Q124.122 1540.33 121.043 1544.94 Q117.987 1549.52 112.177 1549.52 Q106.367 1549.52 103.288 1544.94 Q100.233 1540.33 100.233 1531.6 Q100.233 1522.85 103.288 1518.27 Q106.367 1513.66 112.177 1513.66 Z\" fill=\"#000000\" fill-rule=\"nonzero\" fill-opacity=\"1\" /><path clip-path=\"url(#clip190)\" d=\"M475.989 1544.91 L483.628 1544.91 L483.628 1518.55 L475.318 1520.21 L475.318 1515.95 L483.582 1514.29 L488.257 1514.29 L488.257 1544.91 L495.896 1544.91 L495.896 1548.85 L475.989 1548.85 L475.989 1544.91 Z\" fill=\"#000000\" fill-rule=\"nonzero\" fill-opacity=\"1\" /><path clip-path=\"url(#clip190)\" d=\"M853.69 1544.91 L870.009 1544.91 L870.009 1548.85 L848.065 1548.85 L848.065 1544.91 Q850.727 1542.16 855.31 1537.53 Q859.916 1532.88 861.097 1531.53 Q863.342 1529.01 864.222 1527.27 Q865.125 1525.51 865.125 1523.82 Q865.125 1521.07 863.18 1519.33 Q861.259 1517.6 858.157 1517.6 Q855.958 1517.6 853.504 1518.36 Q851.074 1519.13 848.296 1520.68 L848.296 1515.95 Q851.12 1514.82 853.574 1514.24 Q856.028 1513.66 858.065 1513.66 Q863.435 1513.66 866.629 1516.35 Q869.824 1519.03 869.824 1523.52 Q869.824 1525.65 869.014 1527.57 Q868.227 1529.47 866.12 1532.07 Q865.541 1532.74 862.44 1535.95 Q859.338 1539.15 853.69 1544.91 Z\" fill=\"#000000\" fill-rule=\"nonzero\" fill-opacity=\"1\" /><path clip-path=\"url(#clip190)\" d=\"M1236.71 1530.21 Q1240.07 1530.93 1241.95 1533.2 Q1243.84 1535.47 1243.84 1538.8 Q1243.84 1543.92 1240.33 1546.72 Q1236.81 1549.52 1230.33 1549.52 Q1228.15 1549.52 1225.83 1549.08 Q1223.54 1548.66 1221.09 1547.81 L1221.09 1543.29 Q1223.03 1544.43 1225.35 1545.01 Q1227.66 1545.58 1230.19 1545.58 Q1234.58 1545.58 1236.88 1543.85 Q1239.19 1542.11 1239.19 1538.8 Q1239.19 1535.75 1237.04 1534.03 Q1234.91 1532.3 1231.09 1532.3 L1227.06 1532.3 L1227.06 1528.45 L1231.27 1528.45 Q1234.72 1528.45 1236.55 1527.09 Q1238.38 1525.7 1238.38 1523.11 Q1238.38 1520.45 1236.48 1519.03 Q1234.61 1517.6 1231.09 1517.6 Q1229.17 1517.6 1226.97 1518.01 Q1224.77 1518.43 1222.13 1519.31 L1222.13 1515.14 Q1224.79 1514.4 1227.11 1514.03 Q1229.45 1513.66 1231.51 1513.66 Q1236.83 1513.66 1239.93 1516.09 Q1243.03 1518.5 1243.03 1522.62 Q1243.03 1525.49 1241.39 1527.48 Q1239.75 1529.45 1236.71 1530.21 Z\" fill=\"#000000\" fill-rule=\"nonzero\" fill-opacity=\"1\" /><path clip-path=\"url(#clip190)\" d=\"M1608.91 1518.36 L1597.1 1536.81 L1608.91 1536.81 L1608.91 1518.36 M1607.68 1514.29 L1613.56 1514.29 L1613.56 1536.81 L1618.49 1536.81 L1618.49 1540.7 L1613.56 1540.7 L1613.56 1548.85 L1608.91 1548.85 L1608.91 1540.7 L1593.3 1540.7 L1593.3 1536.19 L1607.68 1514.29 Z\" fill=\"#000000\" fill-rule=\"nonzero\" fill-opacity=\"1\" /><path clip-path=\"url(#clip190)\" d=\"M1969.6 1514.29 L1987.96 1514.29 L1987.96 1518.22 L1973.89 1518.22 L1973.89 1526.7 Q1974.9 1526.35 1975.92 1526.19 Q1976.94 1526 1977.96 1526 Q1983.75 1526 1987.13 1529.17 Q1990.51 1532.34 1990.51 1537.76 Q1990.51 1543.34 1987.03 1546.44 Q1983.56 1549.52 1977.24 1549.52 Q1975.07 1549.52 1972.8 1549.15 Q1970.55 1548.78 1968.15 1548.04 L1968.15 1543.34 Q1970.23 1544.47 1972.45 1545.03 Q1974.67 1545.58 1977.15 1545.58 Q1981.15 1545.58 1983.49 1543.48 Q1985.83 1541.37 1985.83 1537.76 Q1985.83 1534.15 1983.49 1532.04 Q1981.15 1529.94 1977.15 1529.94 Q1975.28 1529.94 1973.4 1530.35 Q1971.55 1530.77 1969.6 1531.65 L1969.6 1514.29 Z\" fill=\"#000000\" fill-rule=\"nonzero\" fill-opacity=\"1\" /><path clip-path=\"url(#clip190)\" d=\"M2353.16 1529.7 Q2350.01 1529.7 2348.16 1531.86 Q2346.33 1534.01 2346.33 1537.76 Q2346.33 1541.49 2348.16 1543.66 Q2350.01 1545.82 2353.16 1545.82 Q2356.31 1545.82 2358.14 1543.66 Q2359.99 1541.49 2359.99 1537.76 Q2359.99 1534.01 2358.14 1531.86 Q2356.31 1529.7 2353.16 1529.7 M2362.44 1515.05 L2362.44 1519.31 Q2360.68 1518.48 2358.88 1518.04 Q2357.1 1517.6 2355.34 1517.6 Q2350.71 1517.6 2348.25 1520.72 Q2345.82 1523.85 2345.48 1530.17 Q2346.84 1528.15 2348.9 1527.09 Q2350.96 1526 2353.44 1526 Q2358.65 1526 2361.66 1529.17 Q2364.69 1532.32 2364.69 1537.76 Q2364.69 1543.08 2361.54 1546.3 Q2358.39 1549.52 2353.16 1549.52 Q2347.17 1549.52 2343.99 1544.94 Q2340.82 1540.33 2340.82 1531.6 Q2340.82 1523.41 2344.71 1518.55 Q2348.6 1513.66 2355.15 1513.66 Q2356.91 1513.66 2358.69 1514.01 Q2360.5 1514.36 2362.44 1515.05 Z\" fill=\"#000000\" fill-rule=\"nonzero\" fill-opacity=\"1\" /><polyline clip-path=\"url(#clip190)\" style=\"stroke:#000000; stroke-linecap:round; stroke-linejoin:round; stroke-width:4; stroke-opacity:1; fill:none\" points=\"112.177,1486.45 112.177,47.2441 \"/>\n",
       "<polyline clip-path=\"url(#clip190)\" style=\"stroke:#000000; stroke-linecap:round; stroke-linejoin:round; stroke-width:4; stroke-opacity:1; fill:none\" points=\"112.177,1486.45 131.075,1486.45 \"/>\n",
       "<polyline clip-path=\"url(#clip190)\" style=\"stroke:#000000; stroke-linecap:round; stroke-linejoin:round; stroke-width:4; stroke-opacity:1; fill:none\" points=\"112.177,1246.58 131.075,1246.58 \"/>\n",
       "<polyline clip-path=\"url(#clip190)\" style=\"stroke:#000000; stroke-linecap:round; stroke-linejoin:round; stroke-width:4; stroke-opacity:1; fill:none\" points=\"112.177,1006.71 131.075,1006.71 \"/>\n",
       "<polyline clip-path=\"url(#clip190)\" style=\"stroke:#000000; stroke-linecap:round; stroke-linejoin:round; stroke-width:4; stroke-opacity:1; fill:none\" points=\"112.177,766.846 131.075,766.846 \"/>\n",
       "<polyline clip-path=\"url(#clip190)\" style=\"stroke:#000000; stroke-linecap:round; stroke-linejoin:round; stroke-width:4; stroke-opacity:1; fill:none\" points=\"112.177,526.979 131.075,526.979 \"/>\n",
       "<polyline clip-path=\"url(#clip190)\" style=\"stroke:#000000; stroke-linecap:round; stroke-linejoin:round; stroke-width:4; stroke-opacity:1; fill:none\" points=\"112.177,287.111 131.075,287.111 \"/>\n",
       "<polyline clip-path=\"url(#clip190)\" style=\"stroke:#000000; stroke-linecap:round; stroke-linejoin:round; stroke-width:4; stroke-opacity:1; fill:none\" points=\"112.177,47.2441 131.075,47.2441 \"/>\n",
       "<path clip-path=\"url(#clip190)\" d=\"M64.2328 1472.25 Q60.6217 1472.25 58.793 1475.81 Q56.9875 1479.35 56.9875 1486.48 Q56.9875 1493.59 58.793 1497.15 Q60.6217 1500.7 64.2328 1500.7 Q67.867 1500.7 69.6726 1497.15 Q71.5013 1493.59 71.5013 1486.48 Q71.5013 1479.35 69.6726 1475.81 Q67.867 1472.25 64.2328 1472.25 M64.2328 1468.54 Q70.0429 1468.54 73.0985 1473.15 Q76.1772 1477.73 76.1772 1486.48 Q76.1772 1495.21 73.0985 1499.82 Q70.0429 1504.4 64.2328 1504.4 Q58.4226 1504.4 55.344 1499.82 Q52.2884 1495.21 52.2884 1486.48 Q52.2884 1477.73 55.344 1473.15 Q58.4226 1468.54 64.2328 1468.54 Z\" fill=\"#000000\" fill-rule=\"nonzero\" fill-opacity=\"1\" /><path clip-path=\"url(#clip190)\" d=\"M56.2699 1259.93 L63.9087 1259.93 L63.9087 1233.56 L55.5986 1235.23 L55.5986 1230.97 L63.8624 1229.3 L68.5383 1229.3 L68.5383 1259.93 L76.1772 1259.93 L76.1772 1263.86 L56.2699 1263.86 L56.2699 1259.93 Z\" fill=\"#000000\" fill-rule=\"nonzero\" fill-opacity=\"1\" /><path clip-path=\"url(#clip190)\" d=\"M59.8578 1020.06 L76.1772 1020.06 L76.1772 1023.99 L54.2328 1023.99 L54.2328 1020.06 Q56.8949 1017.3 61.4782 1012.67 Q66.0846 1008.02 67.2652 1006.68 Q69.5105 1004.16 70.3902 1002.42 Q71.2929 1000.66 71.2929 998.97 Q71.2929 996.216 69.3485 994.48 Q67.4272 992.743 64.3254 992.743 Q62.1263 992.743 59.6726 993.507 Q57.2421 994.271 54.4643 995.822 L54.4643 991.1 Q57.2884 989.966 59.7421 989.387 Q62.1958 988.808 64.2328 988.808 Q69.6031 988.808 72.7976 991.493 Q75.992 994.179 75.992 998.669 Q75.992 1000.8 75.1818 1002.72 Q74.3948 1004.62 72.2883 1007.21 Q71.7096 1007.88 68.6078 1011.1 Q65.5059 1014.29 59.8578 1020.06 Z\" fill=\"#000000\" fill-rule=\"nonzero\" fill-opacity=\"1\" /><path clip-path=\"url(#clip190)\" d=\"M69.0476 765.492 Q72.404 766.209 74.279 768.478 Q76.1772 770.746 76.1772 774.08 Q76.1772 779.195 72.6587 781.996 Q69.1402 784.797 62.6587 784.797 Q60.4828 784.797 58.168 784.357 Q55.8764 783.941 53.4227 783.084 L53.4227 778.57 Q55.3671 779.705 57.6819 780.283 Q59.9967 780.862 62.5198 780.862 Q66.918 780.862 69.2096 779.126 Q71.5244 777.39 71.5244 774.08 Q71.5244 771.024 69.3717 769.311 Q67.242 767.575 63.4226 767.575 L59.3949 767.575 L59.3949 763.733 L63.6078 763.733 Q67.0569 763.733 68.8855 762.367 Q70.7142 760.978 70.7142 758.385 Q70.7142 755.723 68.8161 754.311 Q66.9411 752.876 63.4226 752.876 Q61.5013 752.876 59.3023 753.293 Q57.1032 753.709 54.4643 754.589 L54.4643 750.422 Q57.1264 749.682 59.4412 749.311 Q61.7791 748.941 63.8393 748.941 Q69.1633 748.941 72.2652 751.372 Q75.367 753.779 75.367 757.899 Q75.367 760.77 73.7235 762.76 Q72.08 764.728 69.0476 765.492 Z\" fill=\"#000000\" fill-rule=\"nonzero\" fill-opacity=\"1\" /><path clip-path=\"url(#clip190)\" d=\"M66.5939 513.773 L54.7884 532.222 L66.5939 532.222 L66.5939 513.773 M65.367 509.699 L71.2466 509.699 L71.2466 532.222 L76.1772 532.222 L76.1772 536.111 L71.2466 536.111 L71.2466 544.259 L66.5939 544.259 L66.5939 536.111 L50.9921 536.111 L50.9921 531.597 L65.367 509.699 Z\" fill=\"#000000\" fill-rule=\"nonzero\" fill-opacity=\"1\" /><path clip-path=\"url(#clip190)\" d=\"M55.2745 269.831 L73.6309 269.831 L73.6309 273.767 L59.5569 273.767 L59.5569 282.239 Q60.5754 281.892 61.5939 281.729 Q62.6124 281.544 63.6309 281.544 Q69.418 281.544 72.7976 284.716 Q76.1772 287.887 76.1772 293.303 Q76.1772 298.882 72.705 301.984 Q69.2328 305.063 62.9134 305.063 Q60.7374 305.063 58.4689 304.692 Q56.2236 304.322 53.8162 303.581 L53.8162 298.882 Q55.8995 300.016 58.1217 300.572 Q60.3439 301.128 62.8208 301.128 Q66.8254 301.128 69.1633 299.021 Q71.5013 296.915 71.5013 293.303 Q71.5013 289.692 69.1633 287.586 Q66.8254 285.479 62.8208 285.479 Q60.9458 285.479 59.0708 285.896 Q57.2189 286.313 55.2745 287.192 L55.2745 269.831 Z\" fill=\"#000000\" fill-rule=\"nonzero\" fill-opacity=\"1\" /><path clip-path=\"url(#clip190)\" d=\"M64.6495 45.3807 Q61.5013 45.3807 59.6495 47.5334 Q57.8208 49.6862 57.8208 53.4362 Q57.8208 57.163 59.6495 59.3389 Q61.5013 61.4917 64.6495 61.4917 Q67.7976 61.4917 69.6263 59.3389 Q71.4781 57.163 71.4781 53.4362 Q71.4781 49.6862 69.6263 47.5334 Q67.7976 45.3807 64.6495 45.3807 M73.9318 30.728 L73.9318 34.9872 Q72.1726 34.1539 70.367 33.7141 Q68.5846 33.2743 66.8254 33.2743 Q62.1958 33.2743 59.7421 36.3992 Q57.3115 39.5242 56.9643 45.8436 Q58.33 43.8298 60.3902 42.765 Q62.4504 41.677 64.9272 41.677 Q70.1355 41.677 73.1448 44.8483 Q76.1772 47.9964 76.1772 53.4362 Q76.1772 58.7602 73.029 61.9778 Q69.8809 65.1954 64.6495 65.1954 Q58.6541 65.1954 55.4828 60.6121 Q52.3116 56.0056 52.3116 47.2788 Q52.3116 39.0844 56.2004 34.2233 Q60.0893 29.3391 66.6402 29.3391 Q68.3994 29.3391 70.1818 29.6863 Q71.9874 30.0335 73.9318 30.728 Z\" fill=\"#000000\" fill-rule=\"nonzero\" fill-opacity=\"1\" /><circle clip-path=\"url(#clip192)\" cx=\"1605.9\" cy=\"766.846\" r=\"14.4\" fill=\"#0000ff\" fill-rule=\"evenodd\" fill-opacity=\"1\" stroke=\"#000000\" stroke-opacity=\"1\" stroke-width=\"3.2\"/>\n",
       "<circle clip-path=\"url(#clip192)\" cx=\"1605.9\" cy=\"766.846\" r=\"14.4\" fill=\"#ff0000\" fill-rule=\"evenodd\" fill-opacity=\"1\" stroke=\"#000000\" stroke-opacity=\"1\" stroke-width=\"3.2\"/>\n",
       "<path clip-path=\"url(#clip190)\" d=\"M1915.19 250.738 L2278.07 250.738 L2278.07 95.2176 L1915.19 95.2176  Z\" fill=\"#ffffff\" fill-rule=\"evenodd\" fill-opacity=\"1\"/>\n",
       "<polyline clip-path=\"url(#clip190)\" style=\"stroke:#000000; stroke-linecap:round; stroke-linejoin:round; stroke-width:4; stroke-opacity:1; fill:none\" points=\"1915.19,250.738 2278.07,250.738 2278.07,95.2176 1915.19,95.2176 1915.19,250.738 \"/>\n",
       "<circle clip-path=\"url(#clip190)\" cx=\"2014.77\" cy=\"147.058\" r=\"20.48\" fill=\"#0000ff\" fill-rule=\"evenodd\" fill-opacity=\"1\" stroke=\"#000000\" stroke-opacity=\"1\" stroke-width=\"4.55111\"/>\n",
       "<path clip-path=\"url(#clip190)\" d=\"M2139.91 159.407 L2139.91 150.125 L2132.27 150.125 L2132.27 146.282 L2144.54 146.282 L2144.54 161.12 Q2141.83 163.041 2138.57 164.037 Q2135.3 165.009 2131.6 165.009 Q2123.5 165.009 2118.92 160.287 Q2114.36 155.541 2114.36 147.092 Q2114.36 138.62 2118.92 133.898 Q2123.5 129.153 2131.6 129.153 Q2134.98 129.153 2138.01 129.986 Q2141.07 130.819 2143.64 132.44 L2143.64 137.416 Q2141.05 135.217 2138.13 134.106 Q2135.21 132.995 2131.99 132.995 Q2125.65 132.995 2122.46 136.537 Q2119.29 140.078 2119.29 147.092 Q2119.29 154.083 2122.46 157.625 Q2125.65 161.166 2131.99 161.166 Q2134.47 161.166 2136.42 160.75 Q2138.36 160.31 2139.91 159.407 Z\" fill=\"#000000\" fill-rule=\"nonzero\" fill-opacity=\"1\" /><path clip-path=\"url(#clip190)\" d=\"M2162.94 141.398 Q2159.52 141.398 2157.53 144.083 Q2155.54 146.745 2155.54 151.398 Q2155.54 156.051 2157.5 158.736 Q2159.49 161.398 2162.94 161.398 Q2166.35 161.398 2168.34 158.713 Q2170.33 156.027 2170.33 151.398 Q2170.33 146.791 2168.34 144.106 Q2166.35 141.398 2162.94 141.398 M2162.94 137.787 Q2168.5 137.787 2171.67 141.398 Q2174.84 145.009 2174.84 151.398 Q2174.84 157.764 2171.67 161.398 Q2168.5 165.009 2162.94 165.009 Q2157.36 165.009 2154.19 161.398 Q2151.05 157.764 2151.05 151.398 Q2151.05 145.009 2154.19 141.398 Q2157.36 137.787 2162.94 137.787 Z\" fill=\"#000000\" fill-rule=\"nonzero\" fill-opacity=\"1\" /><path clip-path=\"url(#clip190)\" d=\"M2193.68 151.305 Q2188.52 151.305 2186.53 152.486 Q2184.54 153.666 2184.54 156.514 Q2184.54 158.782 2186.02 160.125 Q2187.53 161.444 2190.1 161.444 Q2193.64 161.444 2195.77 158.944 Q2197.92 156.421 2197.92 152.254 L2197.92 151.305 L2193.68 151.305 M2202.18 149.546 L2202.18 164.338 L2197.92 164.338 L2197.92 160.402 Q2196.46 162.763 2194.29 163.898 Q2192.11 165.009 2188.96 165.009 Q2184.98 165.009 2182.62 162.787 Q2180.28 160.541 2180.28 156.791 Q2180.28 152.416 2183.2 150.194 Q2186.14 147.972 2191.95 147.972 L2197.92 147.972 L2197.92 147.555 Q2197.92 144.615 2195.98 143.018 Q2194.05 141.398 2190.56 141.398 Q2188.34 141.398 2186.23 141.93 Q2184.12 142.463 2182.18 143.527 L2182.18 139.592 Q2184.52 138.69 2186.72 138.25 Q2188.92 137.787 2191 137.787 Q2196.62 137.787 2199.4 140.703 Q2202.18 143.62 2202.18 149.546 Z\" fill=\"#000000\" fill-rule=\"nonzero\" fill-opacity=\"1\" /><path clip-path=\"url(#clip190)\" d=\"M2210.95 128.319 L2215.21 128.319 L2215.21 164.338 L2210.95 164.338 L2210.95 128.319 Z\" fill=\"#000000\" fill-rule=\"nonzero\" fill-opacity=\"1\" /><circle clip-path=\"url(#clip190)\" cx=\"2014.77\" cy=\"198.898\" r=\"20.48\" fill=\"#ff0000\" fill-rule=\"evenodd\" fill-opacity=\"1\" stroke=\"#000000\" stroke-opacity=\"1\" stroke-width=\"4.55111\"/>\n",
       "<path clip-path=\"url(#clip190)\" d=\"M2130.19 186.224 L2123.85 203.423 L2136.55 203.423 L2130.19 186.224 M2127.55 181.618 L2132.85 181.618 L2146.02 216.178 L2141.16 216.178 L2138.01 207.312 L2122.43 207.312 L2119.29 216.178 L2114.36 216.178 L2127.55 181.618 Z\" fill=\"#000000\" fill-rule=\"nonzero\" fill-opacity=\"1\" /><path clip-path=\"url(#clip190)\" d=\"M2167.94 202.914 Q2167.94 198.284 2166.02 195.738 Q2164.12 193.192 2160.68 193.192 Q2157.25 193.192 2155.33 195.738 Q2153.43 198.284 2153.43 202.914 Q2153.43 207.52 2155.33 210.066 Q2157.25 212.613 2160.68 212.613 Q2164.12 212.613 2166.02 210.066 Q2167.94 207.52 2167.94 202.914 M2172.2 212.96 Q2172.2 219.58 2169.26 222.798 Q2166.32 226.039 2160.26 226.039 Q2158.01 226.039 2156.02 225.691 Q2154.03 225.367 2152.16 224.673 L2152.16 220.529 Q2154.03 221.548 2155.86 222.034 Q2157.69 222.52 2159.59 222.52 Q2163.78 222.52 2165.86 220.321 Q2167.94 218.145 2167.94 213.724 L2167.94 211.617 Q2166.62 213.909 2164.56 215.043 Q2162.5 216.178 2159.63 216.178 Q2154.86 216.178 2151.95 212.543 Q2149.03 208.909 2149.03 202.914 Q2149.03 196.895 2151.95 193.261 Q2154.86 189.627 2159.63 189.627 Q2162.5 189.627 2164.56 190.761 Q2166.62 191.895 2167.94 194.187 L2167.94 190.252 L2172.2 190.252 L2172.2 212.96 Z\" fill=\"#000000\" fill-rule=\"nonzero\" fill-opacity=\"1\" /><path clip-path=\"url(#clip190)\" d=\"M2203.15 202.15 L2203.15 204.233 L2183.57 204.233 Q2183.85 208.631 2186.21 210.946 Q2188.59 213.238 2192.83 213.238 Q2195.28 213.238 2197.57 212.636 Q2199.89 212.034 2202.16 210.83 L2202.16 214.858 Q2199.86 215.83 2197.46 216.34 Q2195.05 216.849 2192.57 216.849 Q2186.37 216.849 2182.74 213.238 Q2179.12 209.627 2179.12 203.469 Q2179.12 197.104 2182.55 193.377 Q2186 189.627 2191.83 189.627 Q2197.06 189.627 2200.1 193.006 Q2203.15 196.363 2203.15 202.15 M2198.89 200.9 Q2198.85 197.405 2196.92 195.321 Q2195.03 193.238 2191.88 193.238 Q2188.31 193.238 2186.16 195.252 Q2184.03 197.266 2183.71 200.923 L2198.89 200.9 Z\" fill=\"#000000\" fill-rule=\"nonzero\" fill-opacity=\"1\" /><path clip-path=\"url(#clip190)\" d=\"M2231.69 200.529 L2231.69 216.178 L2227.43 216.178 L2227.43 200.668 Q2227.43 196.988 2226 195.159 Q2224.56 193.33 2221.69 193.33 Q2218.24 193.33 2216.25 195.53 Q2214.26 197.729 2214.26 201.525 L2214.26 216.178 L2209.98 216.178 L2209.98 190.252 L2214.26 190.252 L2214.26 194.28 Q2215.79 191.942 2217.85 190.784 Q2219.93 189.627 2222.64 189.627 Q2227.11 189.627 2229.4 192.405 Q2231.69 195.159 2231.69 200.529 Z\" fill=\"#000000\" fill-rule=\"nonzero\" fill-opacity=\"1\" /><path clip-path=\"url(#clip190)\" d=\"M2244.4 182.891 L2244.4 190.252 L2253.17 190.252 L2253.17 193.562 L2244.4 193.562 L2244.4 207.636 Q2244.4 210.807 2245.26 211.71 Q2246.14 212.613 2248.8 212.613 L2253.17 212.613 L2253.17 216.178 L2248.8 216.178 Q2243.87 216.178 2241.99 214.349 Q2240.12 212.497 2240.12 207.636 L2240.12 193.562 L2236.99 193.562 L2236.99 190.252 L2240.12 190.252 L2240.12 182.891 L2244.4 182.891 Z\" fill=\"#000000\" fill-rule=\"nonzero\" fill-opacity=\"1\" /></svg>\n"
      ]
     },
     "metadata": {},
     "output_type": "display_data"
    }
   ],
   "source": [
    "plot_environment(env)"
   ]
  }
 ],
 "metadata": {
  "kernelspec": {
   "display_name": "Julia 1.10.8",
   "language": "julia",
   "name": "julia-1.10"
  },
  "language_info": {
   "file_extension": ".jl",
   "mimetype": "application/julia",
   "name": "julia",
   "version": "1.10.8"
  }
 },
 "nbformat": 4,
 "nbformat_minor": 4
}
