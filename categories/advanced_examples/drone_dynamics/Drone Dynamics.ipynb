{
 "cells": [
  {
   "cell_type": "markdown",
   "metadata": {},
   "source": [
    "# Drone Dynamics"
   ]
  },
  {
   "cell_type": "markdown",
   "metadata": {},
   "source": [
    "> **Note:** These examples demonstrate the use of RxInfer for motion planning.\n",
    "> The animations show the inferred trajectories from probabilistic inference, rather than simulated executions.\n",
    "> For more realistic simulations, especially in the 3D drone example, the model would need to be\n",
    "> extended with a reactive environment that responds to the drone's actions during plan execution.\n",
    "> If you're interested in collaborating on a more realistic implementation, please open a [discussion](https://github.com/orgs/ReactiveBayes/discussions)\n",
    "> and let's work on it together!"
   ]
  },
  {
   "cell_type": "code",
   "execution_count": 4,
   "metadata": {},
   "outputs": [],
   "source": [
    "using RxInfer, LinearAlgebra"
   ]
  },
  {
   "cell_type": "markdown",
   "metadata": {},
   "source": [
    "## Defining structures"
   ]
  },
  {
   "cell_type": "code",
   "execution_count": 5,
   "metadata": {},
   "outputs": [
    {
     "data": {
      "text/plain": [
       "get_gravity (generic function with 1 method)"
      ]
     },
     "metadata": {},
     "output_type": "display_data"
    }
   ],
   "source": [
    "\"\"\"\n",
    "    Environment(; gravitational_constant::Float64 = 9.81)\n",
    "\n",
    "This structure contains the properties of the environment.\n",
    "\"\"\"\n",
    "Base.@kwdef struct Environment\n",
    "    gravitational_constant::Float64 = 9.81\n",
    "end\n",
    "get_gravity(env::Environment) = env.gravitational_constant"
   ]
  },
  {
   "cell_type": "code",
   "execution_count": 6,
   "metadata": {},
   "outputs": [
    {
     "data": {
      "text/plain": [
       "get_properties (generic function with 1 method)"
      ]
     },
     "metadata": {},
     "output_type": "display_data"
    }
   ],
   "source": [
    "\"\"\"\n",
    "    Drone(mass, inertia, radius, force_limit)\n",
    "\n",
    "This structure contains the properties of the drone.\n",
    "\"\"\"\n",
    "Base.@kwdef struct Drone\n",
    "    mass::Float64\n",
    "    inertia::Float64\n",
    "    radius::Float64\n",
    "    force_limit::Float64\n",
    "end\n",
    "get_mass(drone::Drone) = drone.mass\n",
    "get_properties(drone::Drone) = (drone.mass, drone.inertia, drone.radius, drone.force_limit)"
   ]
  },
  {
   "cell_type": "code",
   "execution_count": 7,
   "metadata": {},
   "outputs": [
    {
     "data": {
      "text/plain": [
       "get_state (generic function with 1 method)"
      ]
     },
     "metadata": {},
     "output_type": "display_data"
    }
   ],
   "source": [
    "\"\"\"\n",
    "    State(x, y, vx, vy, 𝜃, 𝜔)\n",
    "\n",
    "This structure contains the state of the drone. It contains the position, velocity, and orientation of the drone.\n",
    "\"\"\"\n",
    "struct State\n",
    "    x::Float64\n",
    "    y::Float64\n",
    "    vx::Float64\n",
    "    vy::Float64\n",
    "    𝜃::Float64\n",
    "    𝜔::Float64\n",
    "end\n",
    "get_state(state::State) = (state.x, state.y, state.vx, state.vy, state.𝜃, state.𝜔)"
   ]
  },
  {
   "cell_type": "markdown",
   "metadata": {},
   "source": [
    "## Model specification"
   ]
  },
  {
   "cell_type": "code",
   "execution_count": 8,
   "metadata": {},
   "outputs": [
    {
     "data": {
      "text/plain": [
       "state_transition"
      ]
     },
     "metadata": {},
     "output_type": "display_data"
    }
   ],
   "source": [
    "\"\"\"\n",
    "    state_transition(state, actions, drone, environment, dt)\n",
    "\n",
    "This function computes the next state of the drone given the current state, the actions, the drone properties and the environment properties.\n",
    "\"\"\"\n",
    "function state_transition(state, actions, drone::Drone, environment::Environment, dt)\n",
    "\n",
    "    # extract drone properties\n",
    "    m, I, r, limit  = get_properties(drone)\n",
    "\n",
    "    # extract environment properties\n",
    "    g = get_gravity(environment)\n",
    "\n",
    "    # extract feasible actions\n",
    "    Fl, Fr   = clamp.(actions, 0, limit)\n",
    "        \n",
    "    # extract state properties\n",
    "    x, y, vx, vy, θ, ω = state\n",
    "\n",
    "    # compute forces and torques\n",
    "    Fg = m * g\n",
    "    Fy = (Fl + Fr) * cos(θ) - Fg\n",
    "    Fx = (Fl + Fr) * sin(θ)\n",
    "    𝜏  = (Fl - Fr) * r\n",
    "\n",
    "    # compute movements\n",
    "    ax = Fx / m\n",
    "    ay = Fy / m\n",
    "    vx_new = vx + ax * dt\n",
    "#     vy_new = vx + ay * dt # old version\n",
    "    vy_new = vy + ay * dt   # new version\n",
    "    x_new  = x + vx * dt + ax * dt^2 / 2\n",
    "    y_new  = y + vy * dt + ay * dt^2 / 2\n",
    "        \n",
    "    # compute rotations\n",
    "    α = 𝜏 / I\n",
    "    ω_new = ω + α * dt\n",
    "    θ_new = θ + ω * dt + α * dt^2 / 2\n",
    "\t\n",
    "    return [x_new, y_new, vx_new, vy_new, θ_new, ω_new]\n",
    "\n",
    "end"
   ]
  },
  {
   "cell_type": "code",
   "execution_count": 9,
   "metadata": {},
   "outputs": [],
   "source": [
    "@model function drone_model(drone, environment, initial_state, goal, horizon, dt)\t\n",
    "\n",
    "\t# extract environment properties\n",
    "\tg = get_gravity(environment)\n",
    "\n",
    "\t# extract drone properties\n",
    "\tm = get_mass(drone)\n",
    "\n",
    "\t# initial state prior\n",
    "\ts[1] ~ MvNormal(mean = initial_state, covariance = 1e-5 * I)\n",
    "\n",
    "\tfor i in 1:horizon\n",
    "\n",
    "\t\t# prior on actions (mean compensates for gravity)\n",
    "\t\tu[i] ~ MvNormal(μ = [m * g / 2, m * g / 2], Σ = diageye(2))\n",
    "\n",
    "\t\t# state transition\n",
    "\t\ts[i + 1] ~ MvNormal(\n",
    "            μ = state_transition(s[i], u[i], drone, environment, dt), \n",
    "\t\t\tΣ = 1e-10 * I\n",
    "\t\t)\n",
    "\tend\n",
    "\t\n",
    "\ts[end] ~ MvNormal(mean = goal, covariance = 1e-5 * diageye(6))\n",
    "\n",
    "end"
   ]
  },
  {
   "cell_type": "markdown",
   "metadata": {},
   "source": [
    "## Probabilistic inference"
   ]
  },
  {
   "cell_type": "code",
   "execution_count": 10,
   "metadata": {},
   "outputs": [
    {
     "data": {
      "text/plain": [
       "drone_meta (generic function with 1 method)"
      ]
     },
     "metadata": {},
     "output_type": "display_data"
    }
   ],
   "source": [
    "@meta function drone_meta()\n",
    "\n",
    "\t# approximate the state transition function using the Unscented transform\n",
    "\tstate_transition() -> Unscented()\n",
    "\n",
    "end"
   ]
  },
  {
   "cell_type": "code",
   "execution_count": 11,
   "metadata": {},
   "outputs": [
    {
     "data": {
      "text/plain": [
       "move_to_target (generic function with 1 method)"
      ]
     },
     "metadata": {},
     "output_type": "display_data"
    }
   ],
   "source": [
    "function move_to_target(drone::Drone, env::Environment, start::State, target, horizon, dt)\n",
    "\n",
    "    results = infer(\n",
    "        model = drone_model(\n",
    "            drone = drone, \n",
    "            environment = env,\n",
    "            horizon = horizon,\n",
    "            dt = dt\n",
    "        ),\n",
    "        data  = (\n",
    "            initial_state = collect(get_state(start)), \n",
    "            goal = [target[1], target[2], 0, 0, 0, 0],\n",
    "        ),\n",
    "        meta  = drone_meta(),\n",
    "        returnvars = (s = KeepLast(), u = KeepLast())\n",
    "    )\n",
    "\n",
    "    return results\n",
    "\n",
    "end"
   ]
  },
  {
   "cell_type": "code",
   "execution_count": 12,
   "metadata": {},
   "outputs": [
    {
     "data": {
      "text/plain": [
       "Inference results:\n",
       "  Posteriors       | available for (s, u)\n"
      ]
     },
     "metadata": {},
     "output_type": "display_data"
    }
   ],
   "source": [
    "drone = Drone(\n",
    "    mass = 1,\n",
    "    inertia = 1,\n",
    "    radius = 0.2,\n",
    "    force_limit = 15.0\n",
    ")\n",
    "\n",
    "env = Environment()\n",
    "\n",
    "start = State(0.0, 0.0, 0.0, 0.0, 0.0, 0.0)\n",
    "\n",
    "target = [-0.8, 0.6]\n",
    "\n",
    "results = move_to_target(drone, env, start, target, 40, 0.05)"
   ]
  },
  {
   "cell_type": "markdown",
   "metadata": {},
   "source": [
    "## Plotting"
   ]
  },
  {
   "cell_type": "code",
   "execution_count": 13,
   "metadata": {},
   "outputs": [],
   "source": [
    "using Plots"
   ]
  },
  {
   "cell_type": "code",
   "execution_count": 14,
   "metadata": {},
   "outputs": [
    {
     "data": {
      "text/plain": [
       "plot_drone! (generic function with 1 method)"
      ]
     },
     "metadata": {},
     "output_type": "display_data"
    }
   ],
   "source": [
    "function plot_drone!(p, drone::Drone, state::State; color = :black)\n",
    "    x, y, x_a, y_a, θ, ω = get_state(state)\n",
    "    _, _, radius, _ = get_properties(drone)\n",
    "    dx = radius * cos(θ)\n",
    "    dy = radius * sin(θ)\n",
    "\n",
    "    drone_position = [ x ], [ y ]\n",
    "    drone_engines  = [ x - dx, x + dx ], [ y + dy, y - dy ]\n",
    "    drone_coordinates = [ x - dx, x, x + dx ], [ y + dy, y, y - dy ]\n",
    "\n",
    "    rotation_matrix = [ cos(-θ) -sin(-θ); sin(-θ) cos(-θ) ]\n",
    "    engine_shape = [ -1 0 1; 1 -1 1 ]\n",
    "    drone_shape  = [ -2 -2 2 2 ; -1 1 1 -1 ]\n",
    "    \n",
    "    engine_shape = rotation_matrix * engine_shape\n",
    "    drone_shape  = rotation_matrix * drone_shape\n",
    "    engine_marker = Shape(engine_shape[1, :], engine_shape[2, :])\n",
    "    drone_marker  = Shape(drone_shape[1, :], drone_shape[2, :])\n",
    "    \n",
    "    scatter!(p, drone_position[1], drone_position[2]; color = color, label = false, marker = drone_marker)\n",
    "    scatter!(p, drone_engines[1], drone_engines[2]; color = color, label = false, marker = engine_marker, ms = 10)\n",
    "    plot!(p, drone_coordinates; color = color, label = false)\n",
    "\n",
    "    return p\n",
    "end"
   ]
  },
  {
   "cell_type": "code",
   "execution_count": 15,
   "metadata": {},
   "outputs": [
    {
     "data": {
      "text/plain": [
       "animate_drone (generic function with 1 method)"
      ]
     },
     "metadata": {},
     "output_type": "display_data"
    }
   ],
   "source": [
    "function animate_drone(drone::Drone, target, results::InferenceResult)\n",
    "\n",
    "    states = hcat(map(p -> mean(p), results.posteriors[:s])...)\n",
    "    \n",
    "\n",
    "    animation = @animate for k in 1:size(states,2)\n",
    "\n",
    "        # plot target\n",
    "        p = scatter([target[1]], [target[2]], label = \"target\"; color = :red)\n",
    "\n",
    "        # plot drone\n",
    "        plot_drone!(p, drone, State(states[:, k]...))\n",
    "\n",
    "        xlims!(-1.5, 1.5)\n",
    "        ylims!(-1.5, 1.5)\n",
    "    \n",
    "    end\n",
    "\n",
    "    gif(animation, \"drone.gif\", show_msg = false)\n",
    "\n",
    "    nothing\n",
    "end"
   ]
  },
  {
   "cell_type": "code",
   "execution_count": 16,
   "metadata": {},
   "outputs": [],
   "source": [
    "animate_drone(drone, target, results)"
   ]
  },
  {
   "cell_type": "markdown",
   "metadata": {},
   "source": [
    "![](drone.gif)"
   ]
  },
  {
   "cell_type": "code",
   "execution_count": 17,
   "metadata": {},
   "outputs": [
    {
     "data": {
      "image/png": "[encoded data removed]",
      "image/svg+xml": [
       "<?xml version=\"1.0\" encoding=\"utf-8\"?>\n",
       "<svg xmlns=\"http://www.w3.org/2000/svg\" xmlns:xlink=\"http://www.w3.org/1999/xlink\" width=\"600\" height=\"300\" viewBox=\"0 0 2400 1200\">\n",
       "<defs>\n",
       "  <clipPath id=\"clip920\">\n",
       "    <rect x=\"0\" y=\"0\" width=\"2400\" height=\"1200\"/>\n",
       "  </clipPath>\n",
       "</defs>\n",
       "<path clip-path=\"url(#clip920)\" d=\"M0 1200 L2400 1200 L2400 0 L0 0  Z\" fill=\"#ffffff\" fill-rule=\"evenodd\" fill-opacity=\"1\"/>\n",
       "<defs>\n",
       "  <clipPath id=\"clip921\">\n",
       "    <rect x=\"480\" y=\"0\" width=\"1681\" height=\"1200\"/>\n",
       "  </clipPath>\n",
       "</defs>\n",
       "<path clip-path=\"url(#clip920)\" d=\"M224.098 1099.09 L2352.76 1099.09 L2352.76 47.2441 L224.098 47.2441  Z\" fill=\"#ffffff\" fill-rule=\"evenodd\" fill-opacity=\"1\"/>\n",
       "<defs>\n",
       "  <clipPath id=\"clip922\">\n",
       "    <rect x=\"224\" y=\"47\" width=\"2130\" height=\"1053\"/>\n",
       "  </clipPath>\n",
       "</defs>\n",
       "<polyline clip-path=\"url(#clip922)\" style=\"stroke:#000000; stroke-linecap:round; stroke-linejoin:round; stroke-width:2; stroke-opacity:0.1; fill:none\" points=\"234.139,1099.09 234.139,47.2441 \"/>\n",
       "<polyline clip-path=\"url(#clip922)\" style=\"stroke:#000000; stroke-linecap:round; stroke-linejoin:round; stroke-width:2; stroke-opacity:0.1; fill:none\" points=\"736.181,1099.09 736.181,47.2441 \"/>\n",
       "<polyline clip-path=\"url(#clip922)\" style=\"stroke:#000000; stroke-linecap:round; stroke-linejoin:round; stroke-width:2; stroke-opacity:0.1; fill:none\" points=\"1238.22,1099.09 1238.22,47.2441 \"/>\n",
       "<polyline clip-path=\"url(#clip922)\" style=\"stroke:#000000; stroke-linecap:round; stroke-linejoin:round; stroke-width:2; stroke-opacity:0.1; fill:none\" points=\"1740.26,1099.09 1740.26,47.2441 \"/>\n",
       "<polyline clip-path=\"url(#clip922)\" style=\"stroke:#000000; stroke-linecap:round; stroke-linejoin:round; stroke-width:2; stroke-opacity:0.1; fill:none\" points=\"2242.31,1099.09 2242.31,47.2441 \"/>\n",
       "<polyline clip-path=\"url(#clip922)\" style=\"stroke:#000000; stroke-linecap:round; stroke-linejoin:round; stroke-width:2; stroke-opacity:0.1; fill:none\" points=\"224.098,1010.9 2352.76,1010.9 \"/>\n",
       "<polyline clip-path=\"url(#clip922)\" style=\"stroke:#000000; stroke-linecap:round; stroke-linejoin:round; stroke-width:2; stroke-opacity:0.1; fill:none\" points=\"224.098,794.109 2352.76,794.109 \"/>\n",
       "<polyline clip-path=\"url(#clip922)\" style=\"stroke:#000000; stroke-linecap:round; stroke-linejoin:round; stroke-width:2; stroke-opacity:0.1; fill:none\" points=\"224.098,577.319 2352.76,577.319 \"/>\n",
       "<polyline clip-path=\"url(#clip922)\" style=\"stroke:#000000; stroke-linecap:round; stroke-linejoin:round; stroke-width:2; stroke-opacity:0.1; fill:none\" points=\"224.098,360.529 2352.76,360.529 \"/>\n",
       "<polyline clip-path=\"url(#clip922)\" style=\"stroke:#000000; stroke-linecap:round; stroke-linejoin:round; stroke-width:2; stroke-opacity:0.1; fill:none\" points=\"224.098,143.74 2352.76,143.74 \"/>\n",
       "<polyline clip-path=\"url(#clip920)\" style=\"stroke:#000000; stroke-linecap:round; stroke-linejoin:round; stroke-width:4; stroke-opacity:1; fill:none\" points=\"224.098,1099.09 2352.76,1099.09 \"/>\n",
       "<polyline clip-path=\"url(#clip920)\" style=\"stroke:#000000; stroke-linecap:round; stroke-linejoin:round; stroke-width:4; stroke-opacity:1; fill:none\" points=\"234.139,1099.09 234.139,1080.19 \"/>\n",
       "<polyline clip-path=\"url(#clip920)\" style=\"stroke:#000000; stroke-linecap:round; stroke-linejoin:round; stroke-width:4; stroke-opacity:1; fill:none\" points=\"736.181,1099.09 736.181,1080.19 \"/>\n",
       "<polyline clip-path=\"url(#clip920)\" style=\"stroke:#000000; stroke-linecap:round; stroke-linejoin:round; stroke-width:4; stroke-opacity:1; fill:none\" points=\"1238.22,1099.09 1238.22,1080.19 \"/>\n",
       "<polyline clip-path=\"url(#clip920)\" style=\"stroke:#000000; stroke-linecap:round; stroke-linejoin:round; stroke-width:4; stroke-opacity:1; fill:none\" points=\"1740.26,1099.09 1740.26,1080.19 \"/>\n",
       "<polyline clip-path=\"url(#clip920)\" style=\"stroke:#000000; stroke-linecap:round; stroke-linejoin:round; stroke-width:4; stroke-opacity:1; fill:none\" points=\"2242.31,1099.09 2242.31,1080.19 \"/>\n",
       "<path clip-path=\"url(#clip920)\" d=\"M234.139 1130.01 Q230.528 1130.01 228.699 1133.57 Q226.893 1137.11 226.893 1144.24 Q226.893 1151.35 228.699 1154.91 Q230.528 1158.46 234.139 1158.46 Q237.773 1158.46 239.578 1154.91 Q241.407 1151.35 241.407 1144.24 Q241.407 1137.11 239.578 1133.57 Q237.773 1130.01 234.139 1130.01 M234.139 1126.3 Q239.949 1126.3 243.004 1130.91 Q246.083 1135.49 246.083 1144.24 Q246.083 1152.97 243.004 1157.58 Q239.949 1162.16 234.139 1162.16 Q228.329 1162.16 225.25 1157.58 Q222.194 1152.97 222.194 1144.24 Q222.194 1135.49 225.25 1130.91 Q228.329 1126.3 234.139 1126.3 Z\" fill=\"#000000\" fill-rule=\"nonzero\" fill-opacity=\"1\" /><path clip-path=\"url(#clip920)\" d=\"M710.868 1157.55 L718.507 1157.55 L718.507 1131.19 L710.197 1132.85 L710.197 1128.59 L718.461 1126.93 L723.137 1126.93 L723.137 1157.55 L730.776 1157.55 L730.776 1161.49 L710.868 1161.49 L710.868 1157.55 Z\" fill=\"#000000\" fill-rule=\"nonzero\" fill-opacity=\"1\" /><path clip-path=\"url(#clip920)\" d=\"M750.22 1130.01 Q746.609 1130.01 744.78 1133.57 Q742.975 1137.11 742.975 1144.24 Q742.975 1151.35 744.78 1154.91 Q746.609 1158.46 750.22 1158.46 Q753.854 1158.46 755.66 1154.91 Q757.488 1151.35 757.488 1144.24 Q757.488 1137.11 755.66 1133.57 Q753.854 1130.01 750.22 1130.01 M750.22 1126.3 Q756.03 1126.3 759.086 1130.91 Q762.164 1135.49 762.164 1144.24 Q762.164 1152.97 759.086 1157.58 Q756.03 1162.16 750.22 1162.16 Q744.41 1162.16 741.331 1157.58 Q738.276 1152.97 738.276 1144.24 Q738.276 1135.49 741.331 1130.91 Q744.41 1126.3 750.22 1126.3 Z\" fill=\"#000000\" fill-rule=\"nonzero\" fill-opacity=\"1\" /><path clip-path=\"url(#clip920)\" d=\"M1217 1157.55 L1233.32 1157.55 L1233.32 1161.49 L1211.37 1161.49 L1211.37 1157.55 Q1214.03 1154.8 1218.62 1150.17 Q1223.22 1145.52 1224.4 1144.17 Q1226.65 1141.65 1227.53 1139.91 Q1228.43 1138.15 1228.43 1136.46 Q1228.43 1133.71 1226.49 1131.97 Q1224.57 1130.24 1221.46 1130.24 Q1219.26 1130.24 1216.81 1131 Q1214.38 1131.77 1211.6 1133.32 L1211.6 1128.59 Q1214.43 1127.46 1216.88 1126.88 Q1219.33 1126.3 1221.37 1126.3 Q1226.74 1126.3 1229.94 1128.99 Q1233.13 1131.67 1233.13 1136.16 Q1233.13 1138.29 1232.32 1140.21 Q1231.53 1142.11 1229.43 1144.71 Q1228.85 1145.38 1225.75 1148.59 Q1222.64 1151.79 1217 1157.55 Z\" fill=\"#000000\" fill-rule=\"nonzero\" fill-opacity=\"1\" /><path clip-path=\"url(#clip920)\" d=\"M1253.13 1130.01 Q1249.52 1130.01 1247.69 1133.57 Q1245.88 1137.11 1245.88 1144.24 Q1245.88 1151.35 1247.69 1154.91 Q1249.52 1158.46 1253.13 1158.46 Q1256.76 1158.46 1258.57 1154.91 Q1260.4 1151.35 1260.4 1144.24 Q1260.4 1137.11 1258.57 1133.57 Q1256.76 1130.01 1253.13 1130.01 M1253.13 1126.3 Q1258.94 1126.3 1262 1130.91 Q1265.07 1135.49 1265.07 1144.24 Q1265.07 1152.97 1262 1157.58 Q1258.94 1162.16 1253.13 1162.16 Q1247.32 1162.16 1244.24 1157.58 Q1241.19 1152.97 1241.19 1144.24 Q1241.19 1135.49 1244.24 1130.91 Q1247.32 1126.3 1253.13 1126.3 Z\" fill=\"#000000\" fill-rule=\"nonzero\" fill-opacity=\"1\" /><path clip-path=\"url(#clip920)\" d=\"M1729.11 1142.85 Q1732.46 1143.57 1734.34 1145.84 Q1736.24 1148.11 1736.24 1151.44 Q1736.24 1156.56 1732.72 1159.36 Q1729.2 1162.16 1722.72 1162.16 Q1720.54 1162.16 1718.23 1161.72 Q1715.94 1161.3 1713.48 1160.45 L1713.48 1155.93 Q1715.43 1157.07 1717.74 1157.65 Q1720.06 1158.22 1722.58 1158.22 Q1726.98 1158.22 1729.27 1156.49 Q1731.58 1154.75 1731.58 1151.44 Q1731.58 1148.39 1729.43 1146.67 Q1727.3 1144.94 1723.48 1144.94 L1719.45 1144.94 L1719.45 1141.09 L1723.67 1141.09 Q1727.12 1141.09 1728.95 1139.73 Q1730.77 1138.34 1730.77 1135.75 Q1730.77 1133.09 1728.88 1131.67 Q1727 1130.24 1723.48 1130.24 Q1721.56 1130.24 1719.36 1130.65 Q1717.16 1131.07 1714.52 1131.95 L1714.52 1127.78 Q1717.19 1127.04 1719.5 1126.67 Q1721.84 1126.3 1723.9 1126.3 Q1729.22 1126.3 1732.32 1128.73 Q1735.43 1131.14 1735.43 1135.26 Q1735.43 1138.13 1733.78 1140.12 Q1732.14 1142.09 1729.11 1142.85 Z\" fill=\"#000000\" fill-rule=\"nonzero\" fill-opacity=\"1\" /><path clip-path=\"url(#clip920)\" d=\"M1755.1 1130.01 Q1751.49 1130.01 1749.66 1133.57 Q1747.86 1137.11 1747.86 1144.24 Q1747.86 1151.35 1749.66 1154.91 Q1751.49 1158.46 1755.1 1158.46 Q1758.74 1158.46 1760.54 1154.91 Q1762.37 1151.35 1762.37 1144.24 Q1762.37 1137.11 1760.54 1133.57 Q1758.74 1130.01 1755.1 1130.01 M1755.1 1126.3 Q1760.91 1126.3 1763.97 1130.91 Q1767.05 1135.49 1767.05 1144.24 Q1767.05 1152.97 1763.97 1157.58 Q1760.91 1162.16 1755.1 1162.16 Q1749.29 1162.16 1746.21 1157.58 Q1743.16 1152.97 1743.16 1144.24 Q1743.16 1135.49 1746.21 1130.91 Q1749.29 1126.3 1755.1 1126.3 Z\" fill=\"#000000\" fill-rule=\"nonzero\" fill-opacity=\"1\" /><path clip-path=\"url(#clip920)\" d=\"M2230.48 1131 L2218.67 1149.45 L2230.48 1149.45 L2230.48 1131 M2229.25 1126.93 L2235.13 1126.93 L2235.13 1149.45 L2240.06 1149.45 L2240.06 1153.34 L2235.13 1153.34 L2235.13 1161.49 L2230.48 1161.49 L2230.48 1153.34 L2214.88 1153.34 L2214.88 1148.83 L2229.25 1126.93 Z\" fill=\"#000000\" fill-rule=\"nonzero\" fill-opacity=\"1\" /><path clip-path=\"url(#clip920)\" d=\"M2257.79 1130.01 Q2254.18 1130.01 2252.35 1133.57 Q2250.55 1137.11 2250.55 1144.24 Q2250.55 1151.35 2252.35 1154.91 Q2254.18 1158.46 2257.79 1158.46 Q2261.43 1158.46 2263.23 1154.91 Q2265.06 1151.35 2265.06 1144.24 Q2265.06 1137.11 2263.23 1133.57 Q2261.43 1130.01 2257.79 1130.01 M2257.79 1126.3 Q2263.6 1126.3 2266.66 1130.91 Q2269.74 1135.49 2269.74 1144.24 Q2269.74 1152.97 2266.66 1157.58 Q2263.6 1162.16 2257.79 1162.16 Q2251.98 1162.16 2248.9 1157.58 Q2245.85 1152.97 2245.85 1144.24 Q2245.85 1135.49 2248.9 1130.91 Q2251.98 1126.3 2257.79 1126.3 Z\" fill=\"#000000\" fill-rule=\"nonzero\" fill-opacity=\"1\" /><polyline clip-path=\"url(#clip920)\" style=\"stroke:#000000; stroke-linecap:round; stroke-linejoin:round; stroke-width:4; stroke-opacity:1; fill:none\" points=\"224.098,1099.09 224.098,47.2441 \"/>\n",
       "<polyline clip-path=\"url(#clip920)\" style=\"stroke:#000000; stroke-linecap:round; stroke-linejoin:round; stroke-width:4; stroke-opacity:1; fill:none\" points=\"224.098,1010.9 242.996,1010.9 \"/>\n",
       "<polyline clip-path=\"url(#clip920)\" style=\"stroke:#000000; stroke-linecap:round; stroke-linejoin:round; stroke-width:4; stroke-opacity:1; fill:none\" points=\"224.098,794.109 242.996,794.109 \"/>\n",
       "<polyline clip-path=\"url(#clip920)\" style=\"stroke:#000000; stroke-linecap:round; stroke-linejoin:round; stroke-width:4; stroke-opacity:1; fill:none\" points=\"224.098,577.319 242.996,577.319 \"/>\n",
       "<polyline clip-path=\"url(#clip920)\" style=\"stroke:#000000; stroke-linecap:round; stroke-linejoin:round; stroke-width:4; stroke-opacity:1; fill:none\" points=\"224.098,360.529 242.996,360.529 \"/>\n",
       "<polyline clip-path=\"url(#clip920)\" style=\"stroke:#000000; stroke-linecap:round; stroke-linejoin:round; stroke-width:4; stroke-opacity:1; fill:none\" points=\"224.098,143.74 242.996,143.74 \"/>\n",
       "<path clip-path=\"url(#clip920)\" d=\"M50.9921 1011.35 L80.6679 1011.35 L80.6679 1015.29 L50.9921 1015.29 L50.9921 1011.35 Z\" fill=\"#000000\" fill-rule=\"nonzero\" fill-opacity=\"1\" /><path clip-path=\"url(#clip920)\" d=\"M100.76 996.697 Q97.1493 996.697 95.3206 1000.26 Q93.515 1003.8 93.515 1010.93 Q93.515 1018.04 95.3206 1021.6 Q97.1493 1025.15 100.76 1025.15 Q104.395 1025.15 106.2 1021.6 Q108.029 1018.04 108.029 1010.93 Q108.029 1003.8 106.2 1000.26 Q104.395 996.697 100.76 996.697 M100.76 992.993 Q106.571 992.993 109.626 997.6 Q112.705 1002.18 112.705 1010.93 Q112.705 1019.66 109.626 1024.27 Q106.571 1028.85 100.76 1028.85 Q94.9502 1028.85 91.8715 1024.27 Q88.816 1019.66 88.816 1010.93 Q88.816 1002.18 91.8715 997.6 Q94.9502 992.993 100.76 992.993 Z\" fill=\"#000000\" fill-rule=\"nonzero\" fill-opacity=\"1\" /><path clip-path=\"url(#clip920)\" d=\"M120.922 1022.3 L125.807 1022.3 L125.807 1028.18 L120.922 1028.18 L120.922 1022.3 Z\" fill=\"#000000\" fill-rule=\"nonzero\" fill-opacity=\"1\" /><path clip-path=\"url(#clip920)\" d=\"M136.802 1024.24 L144.441 1024.24 L144.441 997.878 L136.131 999.544 L136.131 995.285 L144.394 993.618 L149.07 993.618 L149.07 1024.24 L156.709 1024.24 L156.709 1028.18 L136.802 1028.18 L136.802 1024.24 Z\" fill=\"#000000\" fill-rule=\"nonzero\" fill-opacity=\"1\" /><path clip-path=\"url(#clip920)\" d=\"M176.153 996.697 Q172.542 996.697 170.714 1000.26 Q168.908 1003.8 168.908 1010.93 Q168.908 1018.04 170.714 1021.6 Q172.542 1025.15 176.153 1025.15 Q179.788 1025.15 181.593 1021.6 Q183.422 1018.04 183.422 1010.93 Q183.422 1003.8 181.593 1000.26 Q179.788 996.697 176.153 996.697 M176.153 992.993 Q181.964 992.993 185.019 997.6 Q188.098 1002.18 188.098 1010.93 Q188.098 1019.66 185.019 1024.27 Q181.964 1028.85 176.153 1028.85 Q170.343 1028.85 167.265 1024.27 Q164.209 1019.66 164.209 1010.93 Q164.209 1002.18 167.265 997.6 Q170.343 992.993 176.153 992.993 Z\" fill=\"#000000\" fill-rule=\"nonzero\" fill-opacity=\"1\" /><path clip-path=\"url(#clip920)\" d=\"M51.9875 794.56 L81.6633 794.56 L81.6633 798.495 L51.9875 798.495 L51.9875 794.56 Z\" fill=\"#000000\" fill-rule=\"nonzero\" fill-opacity=\"1\" /><path clip-path=\"url(#clip920)\" d=\"M101.756 779.907 Q98.1447 779.907 96.316 783.472 Q94.5104 787.014 94.5104 794.143 Q94.5104 801.25 96.316 804.815 Q98.1447 808.356 101.756 808.356 Q105.39 808.356 107.196 804.815 Q109.024 801.25 109.024 794.143 Q109.024 787.014 107.196 783.472 Q105.39 779.907 101.756 779.907 M101.756 776.204 Q107.566 776.204 110.621 780.81 Q113.7 785.394 113.7 794.143 Q113.7 802.87 110.621 807.477 Q107.566 812.06 101.756 812.06 Q95.9456 812.06 92.8669 807.477 Q89.8114 802.87 89.8114 794.143 Q89.8114 785.394 92.8669 780.81 Q95.9456 776.204 101.756 776.204 Z\" fill=\"#000000\" fill-rule=\"nonzero\" fill-opacity=\"1\" /><path clip-path=\"url(#clip920)\" d=\"M121.918 805.509 L126.802 805.509 L126.802 811.389 L121.918 811.389 L121.918 805.509 Z\" fill=\"#000000\" fill-rule=\"nonzero\" fill-opacity=\"1\" /><path clip-path=\"url(#clip920)\" d=\"M146.987 779.907 Q143.376 779.907 141.547 783.472 Q139.742 787.014 139.742 794.143 Q139.742 801.25 141.547 804.815 Q143.376 808.356 146.987 808.356 Q150.621 808.356 152.427 804.815 Q154.255 801.25 154.255 794.143 Q154.255 787.014 152.427 783.472 Q150.621 779.907 146.987 779.907 M146.987 776.204 Q152.797 776.204 155.853 780.81 Q158.931 785.394 158.931 794.143 Q158.931 802.87 155.853 807.477 Q152.797 812.06 146.987 812.06 Q141.177 812.06 138.098 807.477 Q135.043 802.87 135.043 794.143 Q135.043 785.394 138.098 780.81 Q141.177 776.204 146.987 776.204 Z\" fill=\"#000000\" fill-rule=\"nonzero\" fill-opacity=\"1\" /><path clip-path=\"url(#clip920)\" d=\"M167.195 776.829 L185.552 776.829 L185.552 780.764 L171.478 780.764 L171.478 789.236 Q172.496 788.889 173.515 788.727 Q174.533 788.542 175.552 788.542 Q181.339 788.542 184.718 791.713 Q188.098 794.884 188.098 800.301 Q188.098 805.88 184.626 808.981 Q181.153 812.06 174.834 812.06 Q172.658 812.06 170.39 811.69 Q168.144 811.319 165.737 810.579 L165.737 805.88 Q167.82 807.014 170.042 807.569 Q172.265 808.125 174.741 808.125 Q178.746 808.125 181.084 806.018 Q183.422 803.912 183.422 800.301 Q183.422 796.69 181.084 794.583 Q178.746 792.477 174.741 792.477 Q172.866 792.477 170.991 792.893 Q169.14 793.31 167.195 794.19 L167.195 776.829 Z\" fill=\"#000000\" fill-rule=\"nonzero\" fill-opacity=\"1\" /><path clip-path=\"url(#clip920)\" d=\"M100.76 563.118 Q97.1493 563.118 95.3206 566.683 Q93.515 570.224 93.515 577.354 Q93.515 584.46 95.3206 588.025 Q97.1493 591.567 100.76 591.567 Q104.395 591.567 106.2 588.025 Q108.029 584.46 108.029 577.354 Q108.029 570.224 106.2 566.683 Q104.395 563.118 100.76 563.118 M100.76 559.414 Q106.571 559.414 109.626 564.021 Q112.705 568.604 112.705 577.354 Q112.705 586.081 109.626 590.687 Q106.571 595.27 100.76 595.27 Q94.9502 595.27 91.8715 590.687 Q88.816 586.081 88.816 577.354 Q88.816 568.604 91.8715 564.021 Q94.9502 559.414 100.76 559.414 Z\" fill=\"#000000\" fill-rule=\"nonzero\" fill-opacity=\"1\" /><path clip-path=\"url(#clip920)\" d=\"M120.922 588.719 L125.807 588.719 L125.807 594.599 L120.922 594.599 L120.922 588.719 Z\" fill=\"#000000\" fill-rule=\"nonzero\" fill-opacity=\"1\" /><path clip-path=\"url(#clip920)\" d=\"M145.992 563.118 Q142.381 563.118 140.552 566.683 Q138.746 570.224 138.746 577.354 Q138.746 584.46 140.552 588.025 Q142.381 591.567 145.992 591.567 Q149.626 591.567 151.431 588.025 Q153.26 584.46 153.26 577.354 Q153.26 570.224 151.431 566.683 Q149.626 563.118 145.992 563.118 M145.992 559.414 Q151.802 559.414 154.857 564.021 Q157.936 568.604 157.936 577.354 Q157.936 586.081 154.857 590.687 Q151.802 595.27 145.992 595.27 Q140.181 595.27 137.103 590.687 Q134.047 586.081 134.047 577.354 Q134.047 568.604 137.103 564.021 Q140.181 559.414 145.992 559.414 Z\" fill=\"#000000\" fill-rule=\"nonzero\" fill-opacity=\"1\" /><path clip-path=\"url(#clip920)\" d=\"M176.153 563.118 Q172.542 563.118 170.714 566.683 Q168.908 570.224 168.908 577.354 Q168.908 584.46 170.714 588.025 Q172.542 591.567 176.153 591.567 Q179.788 591.567 181.593 588.025 Q183.422 584.46 183.422 577.354 Q183.422 570.224 181.593 566.683 Q179.788 563.118 176.153 563.118 M176.153 559.414 Q181.964 559.414 185.019 564.021 Q188.098 568.604 188.098 577.354 Q188.098 586.081 185.019 590.687 Q181.964 595.27 176.153 595.27 Q170.343 595.27 167.265 590.687 Q164.209 586.081 164.209 577.354 Q164.209 568.604 167.265 564.021 Q170.343 559.414 176.153 559.414 Z\" fill=\"#000000\" fill-rule=\"nonzero\" fill-opacity=\"1\" /><path clip-path=\"url(#clip920)\" d=\"M101.756 346.328 Q98.1447 346.328 96.316 349.893 Q94.5104 353.435 94.5104 360.564 Q94.5104 367.671 96.316 371.235 Q98.1447 374.777 101.756 374.777 Q105.39 374.777 107.196 371.235 Q109.024 367.671 109.024 360.564 Q109.024 353.435 107.196 349.893 Q105.39 346.328 101.756 346.328 M101.756 342.624 Q107.566 342.624 110.621 347.231 Q113.7 351.814 113.7 360.564 Q113.7 369.291 110.621 373.897 Q107.566 378.481 101.756 378.481 Q95.9456 378.481 92.8669 373.897 Q89.8114 369.291 89.8114 360.564 Q89.8114 351.814 92.8669 347.231 Q95.9456 342.624 101.756 342.624 Z\" fill=\"#000000\" fill-rule=\"nonzero\" fill-opacity=\"1\" /><path clip-path=\"url(#clip920)\" d=\"M121.918 371.93 L126.802 371.93 L126.802 377.809 L121.918 377.809 L121.918 371.93 Z\" fill=\"#000000\" fill-rule=\"nonzero\" fill-opacity=\"1\" /><path clip-path=\"url(#clip920)\" d=\"M146.987 346.328 Q143.376 346.328 141.547 349.893 Q139.742 353.435 139.742 360.564 Q139.742 367.671 141.547 371.235 Q143.376 374.777 146.987 374.777 Q150.621 374.777 152.427 371.235 Q154.255 367.671 154.255 360.564 Q154.255 353.435 152.427 349.893 Q150.621 346.328 146.987 346.328 M146.987 342.624 Q152.797 342.624 155.853 347.231 Q158.931 351.814 158.931 360.564 Q158.931 369.291 155.853 373.897 Q152.797 378.481 146.987 378.481 Q141.177 378.481 138.098 373.897 Q135.043 369.291 135.043 360.564 Q135.043 351.814 138.098 347.231 Q141.177 342.624 146.987 342.624 Z\" fill=\"#000000\" fill-rule=\"nonzero\" fill-opacity=\"1\" /><path clip-path=\"url(#clip920)\" d=\"M167.195 343.249 L185.552 343.249 L185.552 347.185 L171.478 347.185 L171.478 355.657 Q172.496 355.31 173.515 355.147 Q174.533 354.962 175.552 354.962 Q181.339 354.962 184.718 358.134 Q188.098 361.305 188.098 366.721 Q188.098 372.3 184.626 375.402 Q181.153 378.481 174.834 378.481 Q172.658 378.481 170.39 378.11 Q168.144 377.74 165.737 376.999 L165.737 372.3 Q167.82 373.434 170.042 373.99 Q172.265 374.546 174.741 374.546 Q178.746 374.546 181.084 372.439 Q183.422 370.333 183.422 366.721 Q183.422 363.11 181.084 361.004 Q178.746 358.897 174.741 358.897 Q172.866 358.897 170.991 359.314 Q169.14 359.731 167.195 360.61 L167.195 343.249 Z\" fill=\"#000000\" fill-rule=\"nonzero\" fill-opacity=\"1\" /><path clip-path=\"url(#clip920)\" d=\"M100.76 129.538 Q97.1493 129.538 95.3206 133.103 Q93.515 136.645 93.515 143.774 Q93.515 150.881 95.3206 154.446 Q97.1493 157.987 100.76 157.987 Q104.395 157.987 106.2 154.446 Q108.029 150.881 108.029 143.774 Q108.029 136.645 106.2 133.103 Q104.395 129.538 100.76 129.538 M100.76 125.835 Q106.571 125.835 109.626 130.441 Q112.705 135.024 112.705 143.774 Q112.705 152.501 109.626 157.108 Q106.571 161.691 100.76 161.691 Q94.9502 161.691 91.8715 157.108 Q88.816 152.501 88.816 143.774 Q88.816 135.024 91.8715 130.441 Q94.9502 125.835 100.76 125.835 Z\" fill=\"#000000\" fill-rule=\"nonzero\" fill-opacity=\"1\" /><path clip-path=\"url(#clip920)\" d=\"M120.922 155.14 L125.807 155.14 L125.807 161.02 L120.922 161.02 L120.922 155.14 Z\" fill=\"#000000\" fill-rule=\"nonzero\" fill-opacity=\"1\" /><path clip-path=\"url(#clip920)\" d=\"M136.802 157.085 L144.441 157.085 L144.441 130.719 L136.131 132.386 L136.131 128.126 L144.394 126.46 L149.07 126.46 L149.07 157.085 L156.709 157.085 L156.709 161.02 L136.802 161.02 L136.802 157.085 Z\" fill=\"#000000\" fill-rule=\"nonzero\" fill-opacity=\"1\" /><path clip-path=\"url(#clip920)\" d=\"M176.153 129.538 Q172.542 129.538 170.714 133.103 Q168.908 136.645 168.908 143.774 Q168.908 150.881 170.714 154.446 Q172.542 157.987 176.153 157.987 Q179.788 157.987 181.593 154.446 Q183.422 150.881 183.422 143.774 Q183.422 136.645 181.593 133.103 Q179.788 129.538 176.153 129.538 M176.153 125.835 Q181.964 125.835 185.019 130.441 Q188.098 135.024 188.098 143.774 Q188.098 152.501 185.019 157.108 Q181.964 161.691 176.153 161.691 Q170.343 161.691 167.265 157.108 Q164.209 152.501 164.209 143.774 Q164.209 135.024 167.265 130.441 Q170.343 125.835 176.153 125.835 Z\" fill=\"#000000\" fill-rule=\"nonzero\" fill-opacity=\"1\" /><path clip-path=\"url(#clip922)\" d=\"M284.343 746.189 L334.547 758.155 L384.751 788.095 L434.956 829.409 L485.16 876.391 L535.364 924.203 L585.568 968.828 L635.772 1007.04 L685.977 1036.33 L736.181 1054.91 L786.385 1061.58 L836.589 1055.75 L886.793 1037.3 L936.997 1006.6 L987.202 964.403 L1037.41 911.798 L1087.61 850.178 L1137.81 781.176 L1188.02 706.614 L1238.22 628.45 L1288.43 548.733 L1338.63 469.547 L1388.84 392.96 L1439.04 320.977 L1489.24 255.485 L1539.45 198.206 L1589.65 150.644 L1639.86 114.037 L1690.06 89.3077 L1740.26 77.0133 L1790.47 77.3021 L1840.67 89.8688 L1890.88 113.914 L1941.08 148.107 L1991.29 190.539 L2041.49 238.677 L2091.69 289.299 L2141.9 338.433 L2192.1 381.289 L2242.31 412.205 L2292.51 424.583 L2292.51 425.793 L2242.31 413.332 L2192.1 382.064 L2141.9 338.699 L2091.69 289.047 L2041.49 238.064 L1991.29 189.89 L1941.08 147.893 L1890.88 114.7 L1840.67 92.2393 L1790.47 81.7922 L1740.26 84.0507 L1690.06 99.1796 L1639.86 126.878 L1589.65 166.436 L1539.45 216.793 L1489.24 276.587 L1439.04 344.211 L1388.84 417.858 L1338.63 495.582 L1288.43 575.339 L1238.22 655.042 L1188.02 732.614 L1137.81 806.034 L1087.61 873.389 L1037.41 932.925 L987.202 983.098 L936.997 1022.62 L886.793 1050.51 L836.589 1066.15 L786.385 1069.32 L736.181 1060.26 L685.977 1039.69 L635.772 1008.89 L585.568 969.709 L535.364 924.618 L485.16 876.766 L434.956 830.031 L384.751 789.082 L334.547 759.438 L284.343 747.538  Z\" fill=\"#009af9\" fill-rule=\"evenodd\" fill-opacity=\"0.2\"/>\n",
       "<polyline clip-path=\"url(#clip922)\" style=\"stroke:#009af9; stroke-linecap:round; stroke-linejoin:round; stroke-width:4; stroke-opacity:1; fill:none\" points=\"284.343,746.864 334.547,758.796 384.751,788.589 434.956,829.72 485.16,876.579 535.364,924.41 585.568,969.269 635.772,1007.96 685.977,1038.01 736.181,1057.58 786.385,1065.45 836.589,1060.95 886.793,1043.91 936.997,1014.61 987.202,973.75 1037.41,922.361 1087.61,861.783 1137.81,793.605 1188.02,719.614 1238.22,641.746 1288.43,562.036 1338.63,482.565 1388.84,405.409 1439.04,332.594 1489.24,266.036 1539.45,207.5 1589.65,158.54 1639.86,120.458 1690.06,94.2436 1740.26,80.532 1790.47,79.5471 1840.67,91.0541 1890.88,114.307 1941.08,148 1991.29,190.215 2041.49,238.37 2091.69,289.173 2141.9,338.566 2192.1,381.676 2242.31,412.768 2292.51,425.188 \"/>\n",
       "<path clip-path=\"url(#clip920)\" d=\"M295.053 185.986 L832.963 185.986 L832.963 82.3056 L295.053 82.3056  Z\" fill=\"#ffffff\" fill-rule=\"evenodd\" fill-opacity=\"1\"/>\n",
       "<polyline clip-path=\"url(#clip920)\" style=\"stroke:#000000; stroke-linecap:round; stroke-linejoin:round; stroke-width:4; stroke-opacity:1; fill:none\" points=\"295.053,185.986 832.963,185.986 832.963,82.3056 295.053,82.3056 295.053,185.986 \"/>\n",
       "<polyline clip-path=\"url(#clip920)\" style=\"stroke:#009af9; stroke-linecap:round; stroke-linejoin:round; stroke-width:4; stroke-opacity:1; fill:none\" points=\"318.705,134.146 460.615,134.146 \"/>\n",
       "<path clip-path=\"url(#clip920)\" d=\"M484.267 125.5 L488.526 125.5 L488.526 151.426 L484.267 151.426 L484.267 125.5 M484.267 115.407 L488.526 115.407 L488.526 120.801 L484.267 120.801 L484.267 115.407 Z\" fill=\"#000000\" fill-rule=\"nonzero\" fill-opacity=\"1\" /><path clip-path=\"url(#clip920)\" d=\"M518.989 135.777 L518.989 151.426 L514.73 151.426 L514.73 135.916 Q514.73 132.236 513.295 130.407 Q511.86 128.578 508.989 128.578 Q505.54 128.578 503.549 130.778 Q501.559 132.977 501.559 136.773 L501.559 151.426 L497.276 151.426 L497.276 125.5 L501.559 125.5 L501.559 129.528 Q503.087 127.19 505.147 126.032 Q507.23 124.875 509.938 124.875 Q514.406 124.875 516.698 127.653 Q518.989 130.407 518.989 135.777 Z\" fill=\"#000000\" fill-rule=\"nonzero\" fill-opacity=\"1\" /><path clip-path=\"url(#clip920)\" d=\"M540.609 115.407 L540.609 118.949 L536.535 118.949 Q534.244 118.949 533.341 119.875 Q532.461 120.801 532.461 123.208 L532.461 125.5 L539.475 125.5 L539.475 128.81 L532.461 128.81 L532.461 151.426 L528.179 151.426 L528.179 128.81 L524.105 128.81 L524.105 125.5 L528.179 125.5 L528.179 123.694 Q528.179 119.366 530.193 117.398 Q532.207 115.407 536.582 115.407 L540.609 115.407 Z\" fill=\"#000000\" fill-rule=\"nonzero\" fill-opacity=\"1\" /><path clip-path=\"url(#clip920)\" d=\"M566.35 137.398 L566.35 139.481 L546.767 139.481 Q547.045 143.879 549.406 146.194 Q551.79 148.486 556.026 148.486 Q558.48 148.486 560.771 147.884 Q563.086 147.282 565.355 146.078 L565.355 150.106 Q563.063 151.078 560.656 151.588 Q558.248 152.097 555.771 152.097 Q549.568 152.097 545.934 148.486 Q542.322 144.875 542.322 138.717 Q542.322 132.352 545.748 128.625 Q549.197 124.875 555.031 124.875 Q560.262 124.875 563.295 128.254 Q566.35 131.611 566.35 137.398 M562.091 136.148 Q562.045 132.653 560.123 130.569 Q558.225 128.486 555.077 128.486 Q551.512 128.486 549.359 130.5 Q547.23 132.514 546.906 136.171 L562.091 136.148 Z\" fill=\"#000000\" fill-rule=\"nonzero\" fill-opacity=\"1\" /><path clip-path=\"url(#clip920)\" d=\"M588.364 129.481 Q587.646 129.065 586.79 128.879 Q585.956 128.671 584.938 128.671 Q581.327 128.671 579.382 131.032 Q577.461 133.37 577.461 137.768 L577.461 151.426 L573.179 151.426 L573.179 125.5 L577.461 125.5 L577.461 129.528 Q578.804 127.166 580.956 126.032 Q583.109 124.875 586.188 124.875 Q586.628 124.875 587.16 124.944 Q587.693 124.991 588.341 125.106 L588.364 129.481 Z\" fill=\"#000000\" fill-rule=\"nonzero\" fill-opacity=\"1\" /><path clip-path=\"url(#clip920)\" d=\"M607.021 129.481 Q606.304 129.065 605.447 128.879 Q604.614 128.671 603.595 128.671 Q599.984 128.671 598.04 131.032 Q596.118 133.37 596.118 137.768 L596.118 151.426 L591.836 151.426 L591.836 125.5 L596.118 125.5 L596.118 129.528 Q597.461 127.166 599.614 126.032 Q601.767 124.875 604.845 124.875 Q605.285 124.875 605.817 124.944 Q606.35 124.991 606.998 125.106 L607.021 129.481 Z\" fill=\"#000000\" fill-rule=\"nonzero\" fill-opacity=\"1\" /><path clip-path=\"url(#clip920)\" d=\"M632.623 137.398 L632.623 139.481 L613.04 139.481 Q613.317 143.879 615.679 146.194 Q618.063 148.486 622.299 148.486 Q624.753 148.486 627.044 147.884 Q629.359 147.282 631.628 146.078 L631.628 150.106 Q629.336 151.078 626.928 151.588 Q624.521 152.097 622.044 152.097 Q615.841 152.097 612.206 148.486 Q608.595 144.875 608.595 138.717 Q608.595 132.352 612.021 128.625 Q615.47 124.875 621.303 124.875 Q626.535 124.875 629.567 128.254 Q632.623 131.611 632.623 137.398 M628.364 136.148 Q628.317 132.653 626.396 130.569 Q624.498 128.486 621.35 128.486 Q617.785 128.486 615.632 130.5 Q613.503 132.514 613.179 136.171 L628.364 136.148 Z\" fill=\"#000000\" fill-rule=\"nonzero\" fill-opacity=\"1\" /><path clip-path=\"url(#clip920)\" d=\"M656.674 129.435 L656.674 115.407 L660.933 115.407 L660.933 151.426 L656.674 151.426 L656.674 147.537 Q655.331 149.851 653.271 150.986 Q651.234 152.097 648.364 152.097 Q643.664 152.097 640.702 148.347 Q637.762 144.597 637.762 138.486 Q637.762 132.375 640.702 128.625 Q643.664 124.875 648.364 124.875 Q651.234 124.875 653.271 126.009 Q655.331 127.12 656.674 129.435 M642.16 138.486 Q642.16 143.185 644.081 145.87 Q646.026 148.532 649.405 148.532 Q652.785 148.532 654.729 145.87 Q656.674 143.185 656.674 138.486 Q656.674 133.787 654.729 131.125 Q652.785 128.44 649.405 128.44 Q646.026 128.44 644.081 131.125 Q642.16 133.787 642.16 138.486 Z\" fill=\"#000000\" fill-rule=\"nonzero\" fill-opacity=\"1\" /><path clip-path=\"url(#clip920)\" d=\"M696.558 138.393 Q691.396 138.393 689.405 139.574 Q687.414 140.754 687.414 143.602 Q687.414 145.87 688.896 147.213 Q690.4 148.532 692.97 148.532 Q696.511 148.532 698.641 146.032 Q700.794 143.509 700.794 139.342 L700.794 138.393 L696.558 138.393 M705.053 136.634 L705.053 151.426 L700.794 151.426 L700.794 147.49 Q699.335 149.851 697.16 150.986 Q694.984 152.097 691.836 152.097 Q687.854 152.097 685.493 149.875 Q683.155 147.629 683.155 143.879 Q683.155 139.504 686.072 137.282 Q689.011 135.06 694.822 135.06 L700.794 135.06 L700.794 134.643 Q700.794 131.703 698.849 130.106 Q696.928 128.486 693.433 128.486 Q691.211 128.486 689.104 129.018 Q686.998 129.551 685.053 130.615 L685.053 126.68 Q687.391 125.778 689.59 125.338 Q691.789 124.875 693.873 124.875 Q699.498 124.875 702.275 127.791 Q705.053 130.708 705.053 136.634 Z\" fill=\"#000000\" fill-rule=\"nonzero\" fill-opacity=\"1\" /><path clip-path=\"url(#clip920)\" d=\"M735.377 135.777 L735.377 151.426 L731.118 151.426 L731.118 135.916 Q731.118 132.236 729.683 130.407 Q728.247 128.578 725.377 128.578 Q721.928 128.578 719.937 130.778 Q717.946 132.977 717.946 136.773 L717.946 151.426 L713.664 151.426 L713.664 125.5 L717.946 125.5 L717.946 129.528 Q719.474 127.19 721.534 126.032 Q723.618 124.875 726.326 124.875 Q730.794 124.875 733.085 127.653 Q735.377 130.407 735.377 135.777 Z\" fill=\"#000000\" fill-rule=\"nonzero\" fill-opacity=\"1\" /><path clip-path=\"url(#clip920)\" d=\"M760.932 138.162 Q760.932 133.532 759.011 130.986 Q757.113 128.44 753.664 128.44 Q750.238 128.44 748.317 130.986 Q746.419 133.532 746.419 138.162 Q746.419 142.768 748.317 145.314 Q750.238 147.861 753.664 147.861 Q757.113 147.861 759.011 145.314 Q760.932 142.768 760.932 138.162 M765.192 148.208 Q765.192 154.828 762.252 158.046 Q759.312 161.287 753.247 161.287 Q751.002 161.287 749.011 160.939 Q747.02 160.615 745.145 159.921 L745.145 155.777 Q747.02 156.796 748.849 157.282 Q750.678 157.768 752.576 157.768 Q756.766 157.768 758.849 155.569 Q760.932 153.393 760.932 148.972 L760.932 146.865 Q759.613 149.157 757.553 150.291 Q755.493 151.426 752.622 151.426 Q747.854 151.426 744.937 147.791 Q742.02 144.157 742.02 138.162 Q742.02 132.143 744.937 128.509 Q747.854 124.875 752.622 124.875 Q755.493 124.875 757.553 126.009 Q759.613 127.143 760.932 129.435 L760.932 125.5 L765.192 125.5 L765.192 148.208 Z\" fill=\"#000000\" fill-rule=\"nonzero\" fill-opacity=\"1\" /><path clip-path=\"url(#clip920)\" d=\"M773.965 115.407 L778.224 115.407 L778.224 151.426 L773.965 151.426 L773.965 115.407 Z\" fill=\"#000000\" fill-rule=\"nonzero\" fill-opacity=\"1\" /><path clip-path=\"url(#clip920)\" d=\"M809.312 137.398 L809.312 139.481 L789.729 139.481 Q790.006 143.879 792.367 146.194 Q794.752 148.486 798.988 148.486 Q801.441 148.486 803.733 147.884 Q806.048 147.282 808.316 146.078 L808.316 150.106 Q806.025 151.078 803.617 151.588 Q801.21 152.097 798.733 152.097 Q792.529 152.097 788.895 148.486 Q785.284 144.875 785.284 138.717 Q785.284 132.352 788.71 128.625 Q792.159 124.875 797.992 124.875 Q803.224 124.875 806.256 128.254 Q809.312 131.611 809.312 137.398 M805.053 136.148 Q805.006 132.653 803.085 130.569 Q801.187 128.486 798.039 128.486 Q794.474 128.486 792.321 130.5 Q790.191 132.514 789.867 136.171 L805.053 136.148 Z\" fill=\"#000000\" fill-rule=\"nonzero\" fill-opacity=\"1\" /></svg>\n"
      ],
      "text/html": [
       "<?xml version=\"1.0\" encoding=\"utf-8\"?>\n",
       "<svg xmlns=\"http://www.w3.org/2000/svg\" xmlns:xlink=\"http://www.w3.org/1999/xlink\" width=\"600\" height=\"300\" viewBox=\"0 0 2400 1200\">\n",
       "<defs>\n",
       "  <clipPath id=\"clip970\">\n",
       "    <rect x=\"0\" y=\"0\" width=\"2400\" height=\"1200\"/>\n",
       "  </clipPath>\n",
       "</defs>\n",
       "<path clip-path=\"url(#clip970)\" d=\"M0 1200 L2400 1200 L2400 0 L0 0  Z\" fill=\"#ffffff\" fill-rule=\"evenodd\" fill-opacity=\"1\"/>\n",
       "<defs>\n",
       "  <clipPath id=\"clip971\">\n",
       "    <rect x=\"480\" y=\"0\" width=\"1681\" height=\"1200\"/>\n",
       "  </clipPath>\n",
       "</defs>\n",
       "<path clip-path=\"url(#clip970)\" d=\"M224.098 1099.09 L2352.76 1099.09 L2352.76 47.2441 L224.098 47.2441  Z\" fill=\"#ffffff\" fill-rule=\"evenodd\" fill-opacity=\"1\"/>\n",
       "<defs>\n",
       "  <clipPath id=\"clip972\">\n",
       "    <rect x=\"224\" y=\"47\" width=\"2130\" height=\"1053\"/>\n",
       "  </clipPath>\n",
       "</defs>\n",
       "<polyline clip-path=\"url(#clip972)\" style=\"stroke:#000000; stroke-linecap:round; stroke-linejoin:round; stroke-width:2; stroke-opacity:0.1; fill:none\" points=\"234.139,1099.09 234.139,47.2441 \"/>\n",
       "<polyline clip-path=\"url(#clip972)\" style=\"stroke:#000000; stroke-linecap:round; stroke-linejoin:round; stroke-width:2; stroke-opacity:0.1; fill:none\" points=\"736.181,1099.09 736.181,47.2441 \"/>\n",
       "<polyline clip-path=\"url(#clip972)\" style=\"stroke:#000000; stroke-linecap:round; stroke-linejoin:round; stroke-width:2; stroke-opacity:0.1; fill:none\" points=\"1238.22,1099.09 1238.22,47.2441 \"/>\n",
       "<polyline clip-path=\"url(#clip972)\" style=\"stroke:#000000; stroke-linecap:round; stroke-linejoin:round; stroke-width:2; stroke-opacity:0.1; fill:none\" points=\"1740.26,1099.09 1740.26,47.2441 \"/>\n",
       "<polyline clip-path=\"url(#clip972)\" style=\"stroke:#000000; stroke-linecap:round; stroke-linejoin:round; stroke-width:2; stroke-opacity:0.1; fill:none\" points=\"2242.31,1099.09 2242.31,47.2441 \"/>\n",
       "<polyline clip-path=\"url(#clip972)\" style=\"stroke:#000000; stroke-linecap:round; stroke-linejoin:round; stroke-width:2; stroke-opacity:0.1; fill:none\" points=\"224.098,1010.9 2352.76,1010.9 \"/>\n",
       "<polyline clip-path=\"url(#clip972)\" style=\"stroke:#000000; stroke-linecap:round; stroke-linejoin:round; stroke-width:2; stroke-opacity:0.1; fill:none\" points=\"224.098,794.109 2352.76,794.109 \"/>\n",
       "<polyline clip-path=\"url(#clip972)\" style=\"stroke:#000000; stroke-linecap:round; stroke-linejoin:round; stroke-width:2; stroke-opacity:0.1; fill:none\" points=\"224.098,577.319 2352.76,577.319 \"/>\n",
       "<polyline clip-path=\"url(#clip972)\" style=\"stroke:#000000; stroke-linecap:round; stroke-linejoin:round; stroke-width:2; stroke-opacity:0.1; fill:none\" points=\"224.098,360.529 2352.76,360.529 \"/>\n",
       "<polyline clip-path=\"url(#clip972)\" style=\"stroke:#000000; stroke-linecap:round; stroke-linejoin:round; stroke-width:2; stroke-opacity:0.1; fill:none\" points=\"224.098,143.74 2352.76,143.74 \"/>\n",
       "<polyline clip-path=\"url(#clip970)\" style=\"stroke:#000000; stroke-linecap:round; stroke-linejoin:round; stroke-width:4; stroke-opacity:1; fill:none\" points=\"224.098,1099.09 2352.76,1099.09 \"/>\n",
       "<polyline clip-path=\"url(#clip970)\" style=\"stroke:#000000; stroke-linecap:round; stroke-linejoin:round; stroke-width:4; stroke-opacity:1; fill:none\" points=\"234.139,1099.09 234.139,1080.19 \"/>\n",
       "<polyline clip-path=\"url(#clip970)\" style=\"stroke:#000000; stroke-linecap:round; stroke-linejoin:round; stroke-width:4; stroke-opacity:1; fill:none\" points=\"736.181,1099.09 736.181,1080.19 \"/>\n",
       "<polyline clip-path=\"url(#clip970)\" style=\"stroke:#000000; stroke-linecap:round; stroke-linejoin:round; stroke-width:4; stroke-opacity:1; fill:none\" points=\"1238.22,1099.09 1238.22,1080.19 \"/>\n",
       "<polyline clip-path=\"url(#clip970)\" style=\"stroke:#000000; stroke-linecap:round; stroke-linejoin:round; stroke-width:4; stroke-opacity:1; fill:none\" points=\"1740.26,1099.09 1740.26,1080.19 \"/>\n",
       "<polyline clip-path=\"url(#clip970)\" style=\"stroke:#000000; stroke-linecap:round; stroke-linejoin:round; stroke-width:4; stroke-opacity:1; fill:none\" points=\"2242.31,1099.09 2242.31,1080.19 \"/>\n",
       "<path clip-path=\"url(#clip970)\" d=\"M234.139 1130.01 Q230.528 1130.01 228.699 1133.57 Q226.893 1137.11 226.893 1144.24 Q226.893 1151.35 228.699 1154.91 Q230.528 1158.46 234.139 1158.46 Q237.773 1158.46 239.578 1154.91 Q241.407 1151.35 241.407 1144.24 Q241.407 1137.11 239.578 1133.57 Q237.773 1130.01 234.139 1130.01 M234.139 1126.3 Q239.949 1126.3 243.004 1130.91 Q246.083 1135.49 246.083 1144.24 Q246.083 1152.97 243.004 1157.58 Q239.949 1162.16 234.139 1162.16 Q228.329 1162.16 225.25 1157.58 Q222.194 1152.97 222.194 1144.24 Q222.194 1135.49 225.25 1130.91 Q228.329 1126.3 234.139 1126.3 Z\" fill=\"#000000\" fill-rule=\"nonzero\" fill-opacity=\"1\" /><path clip-path=\"url(#clip970)\" d=\"M710.868 1157.55 L718.507 1157.55 L718.507 1131.19 L710.197 1132.85 L710.197 1128.59 L718.461 1126.93 L723.137 1126.93 L723.137 1157.55 L730.776 1157.55 L730.776 1161.49 L710.868 1161.49 L710.868 1157.55 Z\" fill=\"#000000\" fill-rule=\"nonzero\" fill-opacity=\"1\" /><path clip-path=\"url(#clip970)\" d=\"M750.22 1130.01 Q746.609 1130.01 744.78 1133.57 Q742.975 1137.11 742.975 1144.24 Q742.975 1151.35 744.78 1154.91 Q746.609 1158.46 750.22 1158.46 Q753.854 1158.46 755.66 1154.91 Q757.488 1151.35 757.488 1144.24 Q757.488 1137.11 755.66 1133.57 Q753.854 1130.01 750.22 1130.01 M750.22 1126.3 Q756.03 1126.3 759.086 1130.91 Q762.164 1135.49 762.164 1144.24 Q762.164 1152.97 759.086 1157.58 Q756.03 1162.16 750.22 1162.16 Q744.41 1162.16 741.331 1157.58 Q738.276 1152.97 738.276 1144.24 Q738.276 1135.49 741.331 1130.91 Q744.41 1126.3 750.22 1126.3 Z\" fill=\"#000000\" fill-rule=\"nonzero\" fill-opacity=\"1\" /><path clip-path=\"url(#clip970)\" d=\"M1217 1157.55 L1233.32 1157.55 L1233.32 1161.49 L1211.37 1161.49 L1211.37 1157.55 Q1214.03 1154.8 1218.62 1150.17 Q1223.22 1145.52 1224.4 1144.17 Q1226.65 1141.65 1227.53 1139.91 Q1228.43 1138.15 1228.43 1136.46 Q1228.43 1133.71 1226.49 1131.97 Q1224.57 1130.24 1221.46 1130.24 Q1219.26 1130.24 1216.81 1131 Q1214.38 1131.77 1211.6 1133.32 L1211.6 1128.59 Q1214.43 1127.46 1216.88 1126.88 Q1219.33 1126.3 1221.37 1126.3 Q1226.74 1126.3 1229.94 1128.99 Q1233.13 1131.67 1233.13 1136.16 Q1233.13 1138.29 1232.32 1140.21 Q1231.53 1142.11 1229.43 1144.71 Q1228.85 1145.38 1225.75 1148.59 Q1222.64 1151.79 1217 1157.55 Z\" fill=\"#000000\" fill-rule=\"nonzero\" fill-opacity=\"1\" /><path clip-path=\"url(#clip970)\" d=\"M1253.13 1130.01 Q1249.52 1130.01 1247.69 1133.57 Q1245.88 1137.11 1245.88 1144.24 Q1245.88 1151.35 1247.69 1154.91 Q1249.52 1158.46 1253.13 1158.46 Q1256.76 1158.46 1258.57 1154.91 Q1260.4 1151.35 1260.4 1144.24 Q1260.4 1137.11 1258.57 1133.57 Q1256.76 1130.01 1253.13 1130.01 M1253.13 1126.3 Q1258.94 1126.3 1262 1130.91 Q1265.07 1135.49 1265.07 1144.24 Q1265.07 1152.97 1262 1157.58 Q1258.94 1162.16 1253.13 1162.16 Q1247.32 1162.16 1244.24 1157.58 Q1241.19 1152.97 1241.19 1144.24 Q1241.19 1135.49 1244.24 1130.91 Q1247.32 1126.3 1253.13 1126.3 Z\" fill=\"#000000\" fill-rule=\"nonzero\" fill-opacity=\"1\" /><path clip-path=\"url(#clip970)\" d=\"M1729.11 1142.85 Q1732.46 1143.57 1734.34 1145.84 Q1736.24 1148.11 1736.24 1151.44 Q1736.24 1156.56 1732.72 1159.36 Q1729.2 1162.16 1722.72 1162.16 Q1720.54 1162.16 1718.23 1161.72 Q1715.94 1161.3 1713.48 1160.45 L1713.48 1155.93 Q1715.43 1157.07 1717.74 1157.65 Q1720.06 1158.22 1722.58 1158.22 Q1726.98 1158.22 1729.27 1156.49 Q1731.58 1154.75 1731.58 1151.44 Q1731.58 1148.39 1729.43 1146.67 Q1727.3 1144.94 1723.48 1144.94 L1719.45 1144.94 L1719.45 1141.09 L1723.67 1141.09 Q1727.12 1141.09 1728.95 1139.73 Q1730.77 1138.34 1730.77 1135.75 Q1730.77 1133.09 1728.88 1131.67 Q1727 1130.24 1723.48 1130.24 Q1721.56 1130.24 1719.36 1130.65 Q1717.16 1131.07 1714.52 1131.95 L1714.52 1127.78 Q1717.19 1127.04 1719.5 1126.67 Q1721.84 1126.3 1723.9 1126.3 Q1729.22 1126.3 1732.32 1128.73 Q1735.43 1131.14 1735.43 1135.26 Q1735.43 1138.13 1733.78 1140.12 Q1732.14 1142.09 1729.11 1142.85 Z\" fill=\"#000000\" fill-rule=\"nonzero\" fill-opacity=\"1\" /><path clip-path=\"url(#clip970)\" d=\"M1755.1 1130.01 Q1751.49 1130.01 1749.66 1133.57 Q1747.86 1137.11 1747.86 1144.24 Q1747.86 1151.35 1749.66 1154.91 Q1751.49 1158.46 1755.1 1158.46 Q1758.74 1158.46 1760.54 1154.91 Q1762.37 1151.35 1762.37 1144.24 Q1762.37 1137.11 1760.54 1133.57 Q1758.74 1130.01 1755.1 1130.01 M1755.1 1126.3 Q1760.91 1126.3 1763.97 1130.91 Q1767.05 1135.49 1767.05 1144.24 Q1767.05 1152.97 1763.97 1157.58 Q1760.91 1162.16 1755.1 1162.16 Q1749.29 1162.16 1746.21 1157.58 Q1743.16 1152.97 1743.16 1144.24 Q1743.16 1135.49 1746.21 1130.91 Q1749.29 1126.3 1755.1 1126.3 Z\" fill=\"#000000\" fill-rule=\"nonzero\" fill-opacity=\"1\" /><path clip-path=\"url(#clip970)\" d=\"M2230.48 1131 L2218.67 1149.45 L2230.48 1149.45 L2230.48 1131 M2229.25 1126.93 L2235.13 1126.93 L2235.13 1149.45 L2240.06 1149.45 L2240.06 1153.34 L2235.13 1153.34 L2235.13 1161.49 L2230.48 1161.49 L2230.48 1153.34 L2214.88 1153.34 L2214.88 1148.83 L2229.25 1126.93 Z\" fill=\"#000000\" fill-rule=\"nonzero\" fill-opacity=\"1\" /><path clip-path=\"url(#clip970)\" d=\"M2257.79 1130.01 Q2254.18 1130.01 2252.35 1133.57 Q2250.55 1137.11 2250.55 1144.24 Q2250.55 1151.35 2252.35 1154.91 Q2254.18 1158.46 2257.79 1158.46 Q2261.43 1158.46 2263.23 1154.91 Q2265.06 1151.35 2265.06 1144.24 Q2265.06 1137.11 2263.23 1133.57 Q2261.43 1130.01 2257.79 1130.01 M2257.79 1126.3 Q2263.6 1126.3 2266.66 1130.91 Q2269.74 1135.49 2269.74 1144.24 Q2269.74 1152.97 2266.66 1157.58 Q2263.6 1162.16 2257.79 1162.16 Q2251.98 1162.16 2248.9 1157.58 Q2245.85 1152.97 2245.85 1144.24 Q2245.85 1135.49 2248.9 1130.91 Q2251.98 1126.3 2257.79 1126.3 Z\" fill=\"#000000\" fill-rule=\"nonzero\" fill-opacity=\"1\" /><polyline clip-path=\"url(#clip970)\" style=\"stroke:#000000; stroke-linecap:round; stroke-linejoin:round; stroke-width:4; stroke-opacity:1; fill:none\" points=\"224.098,1099.09 224.098,47.2441 \"/>\n",
       "<polyline clip-path=\"url(#clip970)\" style=\"stroke:#000000; stroke-linecap:round; stroke-linejoin:round; stroke-width:4; stroke-opacity:1; fill:none\" points=\"224.098,1010.9 242.996,1010.9 \"/>\n",
       "<polyline clip-path=\"url(#clip970)\" style=\"stroke:#000000; stroke-linecap:round; stroke-linejoin:round; stroke-width:4; stroke-opacity:1; fill:none\" points=\"224.098,794.109 242.996,794.109 \"/>\n",
       "<polyline clip-path=\"url(#clip970)\" style=\"stroke:#000000; stroke-linecap:round; stroke-linejoin:round; stroke-width:4; stroke-opacity:1; fill:none\" points=\"224.098,577.319 242.996,577.319 \"/>\n",
       "<polyline clip-path=\"url(#clip970)\" style=\"stroke:#000000; stroke-linecap:round; stroke-linejoin:round; stroke-width:4; stroke-opacity:1; fill:none\" points=\"224.098,360.529 242.996,360.529 \"/>\n",
       "<polyline clip-path=\"url(#clip970)\" style=\"stroke:#000000; stroke-linecap:round; stroke-linejoin:round; stroke-width:4; stroke-opacity:1; fill:none\" points=\"224.098,143.74 242.996,143.74 \"/>\n",
       "<path clip-path=\"url(#clip970)\" d=\"M50.9921 1011.35 L80.6679 1011.35 L80.6679 1015.29 L50.9921 1015.29 L50.9921 1011.35 Z\" fill=\"#000000\" fill-rule=\"nonzero\" fill-opacity=\"1\" /><path clip-path=\"url(#clip970)\" d=\"M100.76 996.697 Q97.1493 996.697 95.3206 1000.26 Q93.515 1003.8 93.515 1010.93 Q93.515 1018.04 95.3206 1021.6 Q97.1493 1025.15 100.76 1025.15 Q104.395 1025.15 106.2 1021.6 Q108.029 1018.04 108.029 1010.93 Q108.029 1003.8 106.2 1000.26 Q104.395 996.697 100.76 996.697 M100.76 992.993 Q106.571 992.993 109.626 997.6 Q112.705 1002.18 112.705 1010.93 Q112.705 1019.66 109.626 1024.27 Q106.571 1028.85 100.76 1028.85 Q94.9502 1028.85 91.8715 1024.27 Q88.816 1019.66 88.816 1010.93 Q88.816 1002.18 91.8715 997.6 Q94.9502 992.993 100.76 992.993 Z\" fill=\"#000000\" fill-rule=\"nonzero\" fill-opacity=\"1\" /><path clip-path=\"url(#clip970)\" d=\"M120.922 1022.3 L125.807 1022.3 L125.807 1028.18 L120.922 1028.18 L120.922 1022.3 Z\" fill=\"#000000\" fill-rule=\"nonzero\" fill-opacity=\"1\" /><path clip-path=\"url(#clip970)\" d=\"M136.802 1024.24 L144.441 1024.24 L144.441 997.878 L136.131 999.544 L136.131 995.285 L144.394 993.618 L149.07 993.618 L149.07 1024.24 L156.709 1024.24 L156.709 1028.18 L136.802 1028.18 L136.802 1024.24 Z\" fill=\"#000000\" fill-rule=\"nonzero\" fill-opacity=\"1\" /><path clip-path=\"url(#clip970)\" d=\"M176.153 996.697 Q172.542 996.697 170.714 1000.26 Q168.908 1003.8 168.908 1010.93 Q168.908 1018.04 170.714 1021.6 Q172.542 1025.15 176.153 1025.15 Q179.788 1025.15 181.593 1021.6 Q183.422 1018.04 183.422 1010.93 Q183.422 1003.8 181.593 1000.26 Q179.788 996.697 176.153 996.697 M176.153 992.993 Q181.964 992.993 185.019 997.6 Q188.098 1002.18 188.098 1010.93 Q188.098 1019.66 185.019 1024.27 Q181.964 1028.85 176.153 1028.85 Q170.343 1028.85 167.265 1024.27 Q164.209 1019.66 164.209 1010.93 Q164.209 1002.18 167.265 997.6 Q170.343 992.993 176.153 992.993 Z\" fill=\"#000000\" fill-rule=\"nonzero\" fill-opacity=\"1\" /><path clip-path=\"url(#clip970)\" d=\"M51.9875 794.56 L81.6633 794.56 L81.6633 798.495 L51.9875 798.495 L51.9875 794.56 Z\" fill=\"#000000\" fill-rule=\"nonzero\" fill-opacity=\"1\" /><path clip-path=\"url(#clip970)\" d=\"M101.756 779.907 Q98.1447 779.907 96.316 783.472 Q94.5104 787.014 94.5104 794.143 Q94.5104 801.25 96.316 804.815 Q98.1447 808.356 101.756 808.356 Q105.39 808.356 107.196 804.815 Q109.024 801.25 109.024 794.143 Q109.024 787.014 107.196 783.472 Q105.39 779.907 101.756 779.907 M101.756 776.204 Q107.566 776.204 110.621 780.81 Q113.7 785.394 113.7 794.143 Q113.7 802.87 110.621 807.477 Q107.566 812.06 101.756 812.06 Q95.9456 812.06 92.8669 807.477 Q89.8114 802.87 89.8114 794.143 Q89.8114 785.394 92.8669 780.81 Q95.9456 776.204 101.756 776.204 Z\" fill=\"#000000\" fill-rule=\"nonzero\" fill-opacity=\"1\" /><path clip-path=\"url(#clip970)\" d=\"M121.918 805.509 L126.802 805.509 L126.802 811.389 L121.918 811.389 L121.918 805.509 Z\" fill=\"#000000\" fill-rule=\"nonzero\" fill-opacity=\"1\" /><path clip-path=\"url(#clip970)\" d=\"M146.987 779.907 Q143.376 779.907 141.547 783.472 Q139.742 787.014 139.742 794.143 Q139.742 801.25 141.547 804.815 Q143.376 808.356 146.987 808.356 Q150.621 808.356 152.427 804.815 Q154.255 801.25 154.255 794.143 Q154.255 787.014 152.427 783.472 Q150.621 779.907 146.987 779.907 M146.987 776.204 Q152.797 776.204 155.853 780.81 Q158.931 785.394 158.931 794.143 Q158.931 802.87 155.853 807.477 Q152.797 812.06 146.987 812.06 Q141.177 812.06 138.098 807.477 Q135.043 802.87 135.043 794.143 Q135.043 785.394 138.098 780.81 Q141.177 776.204 146.987 776.204 Z\" fill=\"#000000\" fill-rule=\"nonzero\" fill-opacity=\"1\" /><path clip-path=\"url(#clip970)\" d=\"M167.195 776.829 L185.552 776.829 L185.552 780.764 L171.478 780.764 L171.478 789.236 Q172.496 788.889 173.515 788.727 Q174.533 788.542 175.552 788.542 Q181.339 788.542 184.718 791.713 Q188.098 794.884 188.098 800.301 Q188.098 805.88 184.626 808.981 Q181.153 812.06 174.834 812.06 Q172.658 812.06 170.39 811.69 Q168.144 811.319 165.737 810.579 L165.737 805.88 Q167.82 807.014 170.042 807.569 Q172.265 808.125 174.741 808.125 Q178.746 808.125 181.084 806.018 Q183.422 803.912 183.422 800.301 Q183.422 796.69 181.084 794.583 Q178.746 792.477 174.741 792.477 Q172.866 792.477 170.991 792.893 Q169.14 793.31 167.195 794.19 L167.195 776.829 Z\" fill=\"#000000\" fill-rule=\"nonzero\" fill-opacity=\"1\" /><path clip-path=\"url(#clip970)\" d=\"M100.76 563.118 Q97.1493 563.118 95.3206 566.683 Q93.515 570.224 93.515 577.354 Q93.515 584.46 95.3206 588.025 Q97.1493 591.567 100.76 591.567 Q104.395 591.567 106.2 588.025 Q108.029 584.46 108.029 577.354 Q108.029 570.224 106.2 566.683 Q104.395 563.118 100.76 563.118 M100.76 559.414 Q106.571 559.414 109.626 564.021 Q112.705 568.604 112.705 577.354 Q112.705 586.081 109.626 590.687 Q106.571 595.27 100.76 595.27 Q94.9502 595.27 91.8715 590.687 Q88.816 586.081 88.816 577.354 Q88.816 568.604 91.8715 564.021 Q94.9502 559.414 100.76 559.414 Z\" fill=\"#000000\" fill-rule=\"nonzero\" fill-opacity=\"1\" /><path clip-path=\"url(#clip970)\" d=\"M120.922 588.719 L125.807 588.719 L125.807 594.599 L120.922 594.599 L120.922 588.719 Z\" fill=\"#000000\" fill-rule=\"nonzero\" fill-opacity=\"1\" /><path clip-path=\"url(#clip970)\" d=\"M145.992 563.118 Q142.381 563.118 140.552 566.683 Q138.746 570.224 138.746 577.354 Q138.746 584.46 140.552 588.025 Q142.381 591.567 145.992 591.567 Q149.626 591.567 151.431 588.025 Q153.26 584.46 153.26 577.354 Q153.26 570.224 151.431 566.683 Q149.626 563.118 145.992 563.118 M145.992 559.414 Q151.802 559.414 154.857 564.021 Q157.936 568.604 157.936 577.354 Q157.936 586.081 154.857 590.687 Q151.802 595.27 145.992 595.27 Q140.181 595.27 137.103 590.687 Q134.047 586.081 134.047 577.354 Q134.047 568.604 137.103 564.021 Q140.181 559.414 145.992 559.414 Z\" fill=\"#000000\" fill-rule=\"nonzero\" fill-opacity=\"1\" /><path clip-path=\"url(#clip970)\" d=\"M176.153 563.118 Q172.542 563.118 170.714 566.683 Q168.908 570.224 168.908 577.354 Q168.908 584.46 170.714 588.025 Q172.542 591.567 176.153 591.567 Q179.788 591.567 181.593 588.025 Q183.422 584.46 183.422 577.354 Q183.422 570.224 181.593 566.683 Q179.788 563.118 176.153 563.118 M176.153 559.414 Q181.964 559.414 185.019 564.021 Q188.098 568.604 188.098 577.354 Q188.098 586.081 185.019 590.687 Q181.964 595.27 176.153 595.27 Q170.343 595.27 167.265 590.687 Q164.209 586.081 164.209 577.354 Q164.209 568.604 167.265 564.021 Q170.343 559.414 176.153 559.414 Z\" fill=\"#000000\" fill-rule=\"nonzero\" fill-opacity=\"1\" /><path clip-path=\"url(#clip970)\" d=\"M101.756 346.328 Q98.1447 346.328 96.316 349.893 Q94.5104 353.435 94.5104 360.564 Q94.5104 367.671 96.316 371.235 Q98.1447 374.777 101.756 374.777 Q105.39 374.777 107.196 371.235 Q109.024 367.671 109.024 360.564 Q109.024 353.435 107.196 349.893 Q105.39 346.328 101.756 346.328 M101.756 342.624 Q107.566 342.624 110.621 347.231 Q113.7 351.814 113.7 360.564 Q113.7 369.291 110.621 373.897 Q107.566 378.481 101.756 378.481 Q95.9456 378.481 92.8669 373.897 Q89.8114 369.291 89.8114 360.564 Q89.8114 351.814 92.8669 347.231 Q95.9456 342.624 101.756 342.624 Z\" fill=\"#000000\" fill-rule=\"nonzero\" fill-opacity=\"1\" /><path clip-path=\"url(#clip970)\" d=\"M121.918 371.93 L126.802 371.93 L126.802 377.809 L121.918 377.809 L121.918 371.93 Z\" fill=\"#000000\" fill-rule=\"nonzero\" fill-opacity=\"1\" /><path clip-path=\"url(#clip970)\" d=\"M146.987 346.328 Q143.376 346.328 141.547 349.893 Q139.742 353.435 139.742 360.564 Q139.742 367.671 141.547 371.235 Q143.376 374.777 146.987 374.777 Q150.621 374.777 152.427 371.235 Q154.255 367.671 154.255 360.564 Q154.255 353.435 152.427 349.893 Q150.621 346.328 146.987 346.328 M146.987 342.624 Q152.797 342.624 155.853 347.231 Q158.931 351.814 158.931 360.564 Q158.931 369.291 155.853 373.897 Q152.797 378.481 146.987 378.481 Q141.177 378.481 138.098 373.897 Q135.043 369.291 135.043 360.564 Q135.043 351.814 138.098 347.231 Q141.177 342.624 146.987 342.624 Z\" fill=\"#000000\" fill-rule=\"nonzero\" fill-opacity=\"1\" /><path clip-path=\"url(#clip970)\" d=\"M167.195 343.249 L185.552 343.249 L185.552 347.185 L171.478 347.185 L171.478 355.657 Q172.496 355.31 173.515 355.147 Q174.533 354.962 175.552 354.962 Q181.339 354.962 184.718 358.134 Q188.098 361.305 188.098 366.721 Q188.098 372.3 184.626 375.402 Q181.153 378.481 174.834 378.481 Q172.658 378.481 170.39 378.11 Q168.144 377.74 165.737 376.999 L165.737 372.3 Q167.82 373.434 170.042 373.99 Q172.265 374.546 174.741 374.546 Q178.746 374.546 181.084 372.439 Q183.422 370.333 183.422 366.721 Q183.422 363.11 181.084 361.004 Q178.746 358.897 174.741 358.897 Q172.866 358.897 170.991 359.314 Q169.14 359.731 167.195 360.61 L167.195 343.249 Z\" fill=\"#000000\" fill-rule=\"nonzero\" fill-opacity=\"1\" /><path clip-path=\"url(#clip970)\" d=\"M100.76 129.538 Q97.1493 129.538 95.3206 133.103 Q93.515 136.645 93.515 143.774 Q93.515 150.881 95.3206 154.446 Q97.1493 157.987 100.76 157.987 Q104.395 157.987 106.2 154.446 Q108.029 150.881 108.029 143.774 Q108.029 136.645 106.2 133.103 Q104.395 129.538 100.76 129.538 M100.76 125.835 Q106.571 125.835 109.626 130.441 Q112.705 135.024 112.705 143.774 Q112.705 152.501 109.626 157.108 Q106.571 161.691 100.76 161.691 Q94.9502 161.691 91.8715 157.108 Q88.816 152.501 88.816 143.774 Q88.816 135.024 91.8715 130.441 Q94.9502 125.835 100.76 125.835 Z\" fill=\"#000000\" fill-rule=\"nonzero\" fill-opacity=\"1\" /><path clip-path=\"url(#clip970)\" d=\"M120.922 155.14 L125.807 155.14 L125.807 161.02 L120.922 161.02 L120.922 155.14 Z\" fill=\"#000000\" fill-rule=\"nonzero\" fill-opacity=\"1\" /><path clip-path=\"url(#clip970)\" d=\"M136.802 157.085 L144.441 157.085 L144.441 130.719 L136.131 132.386 L136.131 128.126 L144.394 126.46 L149.07 126.46 L149.07 157.085 L156.709 157.085 L156.709 161.02 L136.802 161.02 L136.802 157.085 Z\" fill=\"#000000\" fill-rule=\"nonzero\" fill-opacity=\"1\" /><path clip-path=\"url(#clip970)\" d=\"M176.153 129.538 Q172.542 129.538 170.714 133.103 Q168.908 136.645 168.908 143.774 Q168.908 150.881 170.714 154.446 Q172.542 157.987 176.153 157.987 Q179.788 157.987 181.593 154.446 Q183.422 150.881 183.422 143.774 Q183.422 136.645 181.593 133.103 Q179.788 129.538 176.153 129.538 M176.153 125.835 Q181.964 125.835 185.019 130.441 Q188.098 135.024 188.098 143.774 Q188.098 152.501 185.019 157.108 Q181.964 161.691 176.153 161.691 Q170.343 161.691 167.265 157.108 Q164.209 152.501 164.209 143.774 Q164.209 135.024 167.265 130.441 Q170.343 125.835 176.153 125.835 Z\" fill=\"#000000\" fill-rule=\"nonzero\" fill-opacity=\"1\" /><path clip-path=\"url(#clip972)\" d=\"M284.343 746.189 L334.547 758.155 L384.751 788.095 L434.956 829.409 L485.16 876.391 L535.364 924.203 L585.568 968.828 L635.772 1007.04 L685.977 1036.33 L736.181 1054.91 L786.385 1061.58 L836.589 1055.75 L886.793 1037.3 L936.997 1006.6 L987.202 964.403 L1037.41 911.798 L1087.61 850.178 L1137.81 781.176 L1188.02 706.614 L1238.22 628.45 L1288.43 548.733 L1338.63 469.547 L1388.84 392.96 L1439.04 320.977 L1489.24 255.485 L1539.45 198.206 L1589.65 150.644 L1639.86 114.037 L1690.06 89.3077 L1740.26 77.0133 L1790.47 77.3021 L1840.67 89.8688 L1890.88 113.914 L1941.08 148.107 L1991.29 190.539 L2041.49 238.677 L2091.69 289.299 L2141.9 338.433 L2192.1 381.289 L2242.31 412.205 L2292.51 424.583 L2292.51 425.793 L2242.31 413.332 L2192.1 382.064 L2141.9 338.699 L2091.69 289.047 L2041.49 238.064 L1991.29 189.89 L1941.08 147.893 L1890.88 114.7 L1840.67 92.2393 L1790.47 81.7922 L1740.26 84.0507 L1690.06 99.1796 L1639.86 126.878 L1589.65 166.436 L1539.45 216.793 L1489.24 276.587 L1439.04 344.211 L1388.84 417.858 L1338.63 495.582 L1288.43 575.339 L1238.22 655.042 L1188.02 732.614 L1137.81 806.034 L1087.61 873.389 L1037.41 932.925 L987.202 983.098 L936.997 1022.62 L886.793 1050.51 L836.589 1066.15 L786.385 1069.32 L736.181 1060.26 L685.977 1039.69 L635.772 1008.89 L585.568 969.709 L535.364 924.618 L485.16 876.766 L434.956 830.031 L384.751 789.082 L334.547 759.438 L284.343 747.538  Z\" fill=\"#009af9\" fill-rule=\"evenodd\" fill-opacity=\"0.2\"/>\n",
       "<polyline clip-path=\"url(#clip972)\" style=\"stroke:#009af9; stroke-linecap:round; stroke-linejoin:round; stroke-width:4; stroke-opacity:1; fill:none\" points=\"284.343,746.864 334.547,758.796 384.751,788.589 434.956,829.72 485.16,876.579 535.364,924.41 585.568,969.269 635.772,1007.96 685.977,1038.01 736.181,1057.58 786.385,1065.45 836.589,1060.95 886.793,1043.91 936.997,1014.61 987.202,973.75 1037.41,922.361 1087.61,861.783 1137.81,793.605 1188.02,719.614 1238.22,641.746 1288.43,562.036 1338.63,482.565 1388.84,405.409 1439.04,332.594 1489.24,266.036 1539.45,207.5 1589.65,158.54 1639.86,120.458 1690.06,94.2436 1740.26,80.532 1790.47,79.5471 1840.67,91.0541 1890.88,114.307 1941.08,148 1991.29,190.215 2041.49,238.37 2091.69,289.173 2141.9,338.566 2192.1,381.676 2242.31,412.768 2292.51,425.188 \"/>\n",
       "<path clip-path=\"url(#clip970)\" d=\"M295.053 185.986 L832.963 185.986 L832.963 82.3056 L295.053 82.3056  Z\" fill=\"#ffffff\" fill-rule=\"evenodd\" fill-opacity=\"1\"/>\n",
       "<polyline clip-path=\"url(#clip970)\" style=\"stroke:#000000; stroke-linecap:round; stroke-linejoin:round; stroke-width:4; stroke-opacity:1; fill:none\" points=\"295.053,185.986 832.963,185.986 832.963,82.3056 295.053,82.3056 295.053,185.986 \"/>\n",
       "<polyline clip-path=\"url(#clip970)\" style=\"stroke:#009af9; stroke-linecap:round; stroke-linejoin:round; stroke-width:4; stroke-opacity:1; fill:none\" points=\"318.705,134.146 460.615,134.146 \"/>\n",
       "<path clip-path=\"url(#clip970)\" d=\"M484.267 125.5 L488.526 125.5 L488.526 151.426 L484.267 151.426 L484.267 125.5 M484.267 115.407 L488.526 115.407 L488.526 120.801 L484.267 120.801 L484.267 115.407 Z\" fill=\"#000000\" fill-rule=\"nonzero\" fill-opacity=\"1\" /><path clip-path=\"url(#clip970)\" d=\"M518.989 135.777 L518.989 151.426 L514.73 151.426 L514.73 135.916 Q514.73 132.236 513.295 130.407 Q511.86 128.578 508.989 128.578 Q505.54 128.578 503.549 130.778 Q501.559 132.977 501.559 136.773 L501.559 151.426 L497.276 151.426 L497.276 125.5 L501.559 125.5 L501.559 129.528 Q503.087 127.19 505.147 126.032 Q507.23 124.875 509.938 124.875 Q514.406 124.875 516.698 127.653 Q518.989 130.407 518.989 135.777 Z\" fill=\"#000000\" fill-rule=\"nonzero\" fill-opacity=\"1\" /><path clip-path=\"url(#clip970)\" d=\"M540.609 115.407 L540.609 118.949 L536.535 118.949 Q534.244 118.949 533.341 119.875 Q532.461 120.801 532.461 123.208 L532.461 125.5 L539.475 125.5 L539.475 128.81 L532.461 128.81 L532.461 151.426 L528.179 151.426 L528.179 128.81 L524.105 128.81 L524.105 125.5 L528.179 125.5 L528.179 123.694 Q528.179 119.366 530.193 117.398 Q532.207 115.407 536.582 115.407 L540.609 115.407 Z\" fill=\"#000000\" fill-rule=\"nonzero\" fill-opacity=\"1\" /><path clip-path=\"url(#clip970)\" d=\"M566.35 137.398 L566.35 139.481 L546.767 139.481 Q547.045 143.879 549.406 146.194 Q551.79 148.486 556.026 148.486 Q558.48 148.486 560.771 147.884 Q563.086 147.282 565.355 146.078 L565.355 150.106 Q563.063 151.078 560.656 151.588 Q558.248 152.097 555.771 152.097 Q549.568 152.097 545.934 148.486 Q542.322 144.875 542.322 138.717 Q542.322 132.352 545.748 128.625 Q549.197 124.875 555.031 124.875 Q560.262 124.875 563.295 128.254 Q566.35 131.611 566.35 137.398 M562.091 136.148 Q562.045 132.653 560.123 130.569 Q558.225 128.486 555.077 128.486 Q551.512 128.486 549.359 130.5 Q547.23 132.514 546.906 136.171 L562.091 136.148 Z\" fill=\"#000000\" fill-rule=\"nonzero\" fill-opacity=\"1\" /><path clip-path=\"url(#clip970)\" d=\"M588.364 129.481 Q587.646 129.065 586.79 128.879 Q585.956 128.671 584.938 128.671 Q581.327 128.671 579.382 131.032 Q577.461 133.37 577.461 137.768 L577.461 151.426 L573.179 151.426 L573.179 125.5 L577.461 125.5 L577.461 129.528 Q578.804 127.166 580.956 126.032 Q583.109 124.875 586.188 124.875 Q586.628 124.875 587.16 124.944 Q587.693 124.991 588.341 125.106 L588.364 129.481 Z\" fill=\"#000000\" fill-rule=\"nonzero\" fill-opacity=\"1\" /><path clip-path=\"url(#clip970)\" d=\"M607.021 129.481 Q606.304 129.065 605.447 128.879 Q604.614 128.671 603.595 128.671 Q599.984 128.671 598.04 131.032 Q596.118 133.37 596.118 137.768 L596.118 151.426 L591.836 151.426 L591.836 125.5 L596.118 125.5 L596.118 129.528 Q597.461 127.166 599.614 126.032 Q601.767 124.875 604.845 124.875 Q605.285 124.875 605.817 124.944 Q606.35 124.991 606.998 125.106 L607.021 129.481 Z\" fill=\"#000000\" fill-rule=\"nonzero\" fill-opacity=\"1\" /><path clip-path=\"url(#clip970)\" d=\"M632.623 137.398 L632.623 139.481 L613.04 139.481 Q613.317 143.879 615.679 146.194 Q618.063 148.486 622.299 148.486 Q624.753 148.486 627.044 147.884 Q629.359 147.282 631.628 146.078 L631.628 150.106 Q629.336 151.078 626.928 151.588 Q624.521 152.097 622.044 152.097 Q615.841 152.097 612.206 148.486 Q608.595 144.875 608.595 138.717 Q608.595 132.352 612.021 128.625 Q615.47 124.875 621.303 124.875 Q626.535 124.875 629.567 128.254 Q632.623 131.611 632.623 137.398 M628.364 136.148 Q628.317 132.653 626.396 130.569 Q624.498 128.486 621.35 128.486 Q617.785 128.486 615.632 130.5 Q613.503 132.514 613.179 136.171 L628.364 136.148 Z\" fill=\"#000000\" fill-rule=\"nonzero\" fill-opacity=\"1\" /><path clip-path=\"url(#clip970)\" d=\"M656.674 129.435 L656.674 115.407 L660.933 115.407 L660.933 151.426 L656.674 151.426 L656.674 147.537 Q655.331 149.851 653.271 150.986 Q651.234 152.097 648.364 152.097 Q643.664 152.097 640.702 148.347 Q637.762 144.597 637.762 138.486 Q637.762 132.375 640.702 128.625 Q643.664 124.875 648.364 124.875 Q651.234 124.875 653.271 126.009 Q655.331 127.12 656.674 129.435 M642.16 138.486 Q642.16 143.185 644.081 145.87 Q646.026 148.532 649.405 148.532 Q652.785 148.532 654.729 145.87 Q656.674 143.185 656.674 138.486 Q656.674 133.787 654.729 131.125 Q652.785 128.44 649.405 128.44 Q646.026 128.44 644.081 131.125 Q642.16 133.787 642.16 138.486 Z\" fill=\"#000000\" fill-rule=\"nonzero\" fill-opacity=\"1\" /><path clip-path=\"url(#clip970)\" d=\"M696.558 138.393 Q691.396 138.393 689.405 139.574 Q687.414 140.754 687.414 143.602 Q687.414 145.87 688.896 147.213 Q690.4 148.532 692.97 148.532 Q696.511 148.532 698.641 146.032 Q700.794 143.509 700.794 139.342 L700.794 138.393 L696.558 138.393 M705.053 136.634 L705.053 151.426 L700.794 151.426 L700.794 147.49 Q699.335 149.851 697.16 150.986 Q694.984 152.097 691.836 152.097 Q687.854 152.097 685.493 149.875 Q683.155 147.629 683.155 143.879 Q683.155 139.504 686.072 137.282 Q689.011 135.06 694.822 135.06 L700.794 135.06 L700.794 134.643 Q700.794 131.703 698.849 130.106 Q696.928 128.486 693.433 128.486 Q691.211 128.486 689.104 129.018 Q686.998 129.551 685.053 130.615 L685.053 126.68 Q687.391 125.778 689.59 125.338 Q691.789 124.875 693.873 124.875 Q699.498 124.875 702.275 127.791 Q705.053 130.708 705.053 136.634 Z\" fill=\"#000000\" fill-rule=\"nonzero\" fill-opacity=\"1\" /><path clip-path=\"url(#clip970)\" d=\"M735.377 135.777 L735.377 151.426 L731.118 151.426 L731.118 135.916 Q731.118 132.236 729.683 130.407 Q728.247 128.578 725.377 128.578 Q721.928 128.578 719.937 130.778 Q717.946 132.977 717.946 136.773 L717.946 151.426 L713.664 151.426 L713.664 125.5 L717.946 125.5 L717.946 129.528 Q719.474 127.19 721.534 126.032 Q723.618 124.875 726.326 124.875 Q730.794 124.875 733.085 127.653 Q735.377 130.407 735.377 135.777 Z\" fill=\"#000000\" fill-rule=\"nonzero\" fill-opacity=\"1\" /><path clip-path=\"url(#clip970)\" d=\"M760.932 138.162 Q760.932 133.532 759.011 130.986 Q757.113 128.44 753.664 128.44 Q750.238 128.44 748.317 130.986 Q746.419 133.532 746.419 138.162 Q746.419 142.768 748.317 145.314 Q750.238 147.861 753.664 147.861 Q757.113 147.861 759.011 145.314 Q760.932 142.768 760.932 138.162 M765.192 148.208 Q765.192 154.828 762.252 158.046 Q759.312 161.287 753.247 161.287 Q751.002 161.287 749.011 160.939 Q747.02 160.615 745.145 159.921 L745.145 155.777 Q747.02 156.796 748.849 157.282 Q750.678 157.768 752.576 157.768 Q756.766 157.768 758.849 155.569 Q760.932 153.393 760.932 148.972 L760.932 146.865 Q759.613 149.157 757.553 150.291 Q755.493 151.426 752.622 151.426 Q747.854 151.426 744.937 147.791 Q742.02 144.157 742.02 138.162 Q742.02 132.143 744.937 128.509 Q747.854 124.875 752.622 124.875 Q755.493 124.875 757.553 126.009 Q759.613 127.143 760.932 129.435 L760.932 125.5 L765.192 125.5 L765.192 148.208 Z\" fill=\"#000000\" fill-rule=\"nonzero\" fill-opacity=\"1\" /><path clip-path=\"url(#clip970)\" d=\"M773.965 115.407 L778.224 115.407 L778.224 151.426 L773.965 151.426 L773.965 115.407 Z\" fill=\"#000000\" fill-rule=\"nonzero\" fill-opacity=\"1\" /><path clip-path=\"url(#clip970)\" d=\"M809.312 137.398 L809.312 139.481 L789.729 139.481 Q790.006 143.879 792.367 146.194 Q794.752 148.486 798.988 148.486 Q801.441 148.486 803.733 147.884 Q806.048 147.282 808.316 146.078 L808.316 150.106 Q806.025 151.078 803.617 151.588 Q801.21 152.097 798.733 152.097 Q792.529 152.097 788.895 148.486 Q785.284 144.875 785.284 138.717 Q785.284 132.352 788.71 128.625 Q792.159 124.875 797.992 124.875 Q803.224 124.875 806.256 128.254 Q809.312 131.611 809.312 137.398 M805.053 136.148 Q805.006 132.653 803.085 130.569 Q801.187 128.486 798.039 128.486 Q794.474 128.486 792.321 130.5 Q790.191 132.514 789.867 136.171 L805.053 136.148 Z\" fill=\"#000000\" fill-rule=\"nonzero\" fill-opacity=\"1\" /></svg>\n"
      ]
     },
     "metadata": {},
     "output_type": "display_data"
    }
   ],
   "source": [
    "let \n",
    "    inferred_angle_mean = map(p -> mean(p)[5], results.posteriors[:s])\n",
    "    inferred_angle_std  = map(p -> std(p)[5],  results.posteriors[:s])\n",
    "    plot(inferred_angle_mean; ribbon = inferred_angle_std, fillalpha = 0.2, label = \"inferred angle\", size=(600,300))\n",
    "end"
   ]
  },
  {
   "cell_type": "code",
   "execution_count": 18,
   "metadata": {},
   "outputs": [
    {
     "data": {
      "image/png": "[encoded data removed]",
      "image/svg+xml": [
       "<?xml version=\"1.0\" encoding=\"utf-8\"?>\n",
       "<svg xmlns=\"http://www.w3.org/2000/svg\" xmlns:xlink=\"http://www.w3.org/1999/xlink\" width=\"600\" height=\"300\" viewBox=\"0 0 2400 1200\">\n",
       "<defs>\n",
       "  <clipPath id=\"clip010\">\n",
       "    <rect x=\"0\" y=\"0\" width=\"2400\" height=\"1200\"/>\n",
       "  </clipPath>\n",
       "</defs>\n",
       "<path clip-path=\"url(#clip010)\" d=\"M0 1200 L2400 1200 L2400 0 L0 0  Z\" fill=\"#ffffff\" fill-rule=\"evenodd\" fill-opacity=\"1\"/>\n",
       "<defs>\n",
       "  <clipPath id=\"clip011\">\n",
       "    <rect x=\"480\" y=\"0\" width=\"1681\" height=\"1200\"/>\n",
       "  </clipPath>\n",
       "</defs>\n",
       "<path clip-path=\"url(#clip010)\" d=\"M184.191 1099.09 L2352.76 1099.09 L2352.76 47.2441 L184.191 47.2441  Z\" fill=\"#ffffff\" fill-rule=\"evenodd\" fill-opacity=\"1\"/>\n",
       "<defs>\n",
       "  <clipPath id=\"clip012\">\n",
       "    <rect x=\"184\" y=\"47\" width=\"2170\" height=\"1053\"/>\n",
       "  </clipPath>\n",
       "</defs>\n",
       "<polyline clip-path=\"url(#clip012)\" style=\"stroke:#000000; stroke-linecap:round; stroke-linejoin:round; stroke-width:2; stroke-opacity:0.1; fill:none\" points=\"193.108,1099.09 193.108,47.2441 \"/>\n",
       "<polyline clip-path=\"url(#clip012)\" style=\"stroke:#000000; stroke-linecap:round; stroke-linejoin:round; stroke-width:2; stroke-opacity:0.1; fill:none\" points=\"717.677,1099.09 717.677,47.2441 \"/>\n",
       "<polyline clip-path=\"url(#clip012)\" style=\"stroke:#000000; stroke-linecap:round; stroke-linejoin:round; stroke-width:2; stroke-opacity:0.1; fill:none\" points=\"1242.24,1099.09 1242.24,47.2441 \"/>\n",
       "<polyline clip-path=\"url(#clip012)\" style=\"stroke:#000000; stroke-linecap:round; stroke-linejoin:round; stroke-width:2; stroke-opacity:0.1; fill:none\" points=\"1766.81,1099.09 1766.81,47.2441 \"/>\n",
       "<polyline clip-path=\"url(#clip012)\" style=\"stroke:#000000; stroke-linecap:round; stroke-linejoin:round; stroke-width:2; stroke-opacity:0.1; fill:none\" points=\"2291.38,1099.09 2291.38,47.2441 \"/>\n",
       "<polyline clip-path=\"url(#clip012)\" style=\"stroke:#000000; stroke-linecap:round; stroke-linejoin:round; stroke-width:2; stroke-opacity:0.1; fill:none\" points=\"184.191,948.371 2352.76,948.371 \"/>\n",
       "<polyline clip-path=\"url(#clip012)\" style=\"stroke:#000000; stroke-linecap:round; stroke-linejoin:round; stroke-width:2; stroke-opacity:0.1; fill:none\" points=\"184.191,753.385 2352.76,753.385 \"/>\n",
       "<polyline clip-path=\"url(#clip012)\" style=\"stroke:#000000; stroke-linecap:round; stroke-linejoin:round; stroke-width:2; stroke-opacity:0.1; fill:none\" points=\"184.191,558.4 2352.76,558.4 \"/>\n",
       "<polyline clip-path=\"url(#clip012)\" style=\"stroke:#000000; stroke-linecap:round; stroke-linejoin:round; stroke-width:2; stroke-opacity:0.1; fill:none\" points=\"184.191,363.415 2352.76,363.415 \"/>\n",
       "<polyline clip-path=\"url(#clip012)\" style=\"stroke:#000000; stroke-linecap:round; stroke-linejoin:round; stroke-width:2; stroke-opacity:0.1; fill:none\" points=\"184.191,168.43 2352.76,168.43 \"/>\n",
       "<polyline clip-path=\"url(#clip010)\" style=\"stroke:#000000; stroke-linecap:round; stroke-linejoin:round; stroke-width:4; stroke-opacity:1; fill:none\" points=\"184.191,1099.09 2352.76,1099.09 \"/>\n",
       "<polyline clip-path=\"url(#clip010)\" style=\"stroke:#000000; stroke-linecap:round; stroke-linejoin:round; stroke-width:4; stroke-opacity:1; fill:none\" points=\"193.108,1099.09 193.108,1080.19 \"/>\n",
       "<polyline clip-path=\"url(#clip010)\" style=\"stroke:#000000; stroke-linecap:round; stroke-linejoin:round; stroke-width:4; stroke-opacity:1; fill:none\" points=\"717.677,1099.09 717.677,1080.19 \"/>\n",
       "<polyline clip-path=\"url(#clip010)\" style=\"stroke:#000000; stroke-linecap:round; stroke-linejoin:round; stroke-width:4; stroke-opacity:1; fill:none\" points=\"1242.24,1099.09 1242.24,1080.19 \"/>\n",
       "<polyline clip-path=\"url(#clip010)\" style=\"stroke:#000000; stroke-linecap:round; stroke-linejoin:round; stroke-width:4; stroke-opacity:1; fill:none\" points=\"1766.81,1099.09 1766.81,1080.19 \"/>\n",
       "<polyline clip-path=\"url(#clip010)\" style=\"stroke:#000000; stroke-linecap:round; stroke-linejoin:round; stroke-width:4; stroke-opacity:1; fill:none\" points=\"2291.38,1099.09 2291.38,1080.19 \"/>\n",
       "<path clip-path=\"url(#clip010)\" d=\"M193.108 1130.01 Q189.497 1130.01 187.669 1133.57 Q185.863 1137.11 185.863 1144.24 Q185.863 1151.35 187.669 1154.91 Q189.497 1158.46 193.108 1158.46 Q196.743 1158.46 198.548 1154.91 Q200.377 1151.35 200.377 1144.24 Q200.377 1137.11 198.548 1133.57 Q196.743 1130.01 193.108 1130.01 M193.108 1126.3 Q198.918 1126.3 201.974 1130.91 Q205.053 1135.49 205.053 1144.24 Q205.053 1152.97 201.974 1157.58 Q198.918 1162.16 193.108 1162.16 Q187.298 1162.16 184.219 1157.58 Q181.164 1152.97 181.164 1144.24 Q181.164 1135.49 184.219 1130.91 Q187.298 1126.3 193.108 1126.3 Z\" fill=\"#000000\" fill-rule=\"nonzero\" fill-opacity=\"1\" /><path clip-path=\"url(#clip010)\" d=\"M692.364 1157.55 L700.003 1157.55 L700.003 1131.19 L691.693 1132.85 L691.693 1128.59 L699.957 1126.93 L704.633 1126.93 L704.633 1157.55 L712.272 1157.55 L712.272 1161.49 L692.364 1161.49 L692.364 1157.55 Z\" fill=\"#000000\" fill-rule=\"nonzero\" fill-opacity=\"1\" /><path clip-path=\"url(#clip010)\" d=\"M731.716 1130.01 Q728.105 1130.01 726.276 1133.57 Q724.471 1137.11 724.471 1144.24 Q724.471 1151.35 726.276 1154.91 Q728.105 1158.46 731.716 1158.46 Q735.35 1158.46 737.156 1154.91 Q738.984 1151.35 738.984 1144.24 Q738.984 1137.11 737.156 1133.57 Q735.35 1130.01 731.716 1130.01 M731.716 1126.3 Q737.526 1126.3 740.582 1130.91 Q743.66 1135.49 743.66 1144.24 Q743.66 1152.97 740.582 1157.58 Q737.526 1162.16 731.716 1162.16 Q725.906 1162.16 722.827 1157.58 Q719.772 1152.97 719.772 1144.24 Q719.772 1135.49 722.827 1130.91 Q725.906 1126.3 731.716 1126.3 Z\" fill=\"#000000\" fill-rule=\"nonzero\" fill-opacity=\"1\" /><path clip-path=\"url(#clip010)\" d=\"M1221.02 1157.55 L1237.34 1157.55 L1237.34 1161.49 L1215.39 1161.49 L1215.39 1157.55 Q1218.06 1154.8 1222.64 1150.17 Q1227.24 1145.52 1228.43 1144.17 Q1230.67 1141.65 1231.55 1139.91 Q1232.45 1138.15 1232.45 1136.46 Q1232.45 1133.71 1230.51 1131.97 Q1228.59 1130.24 1225.49 1130.24 Q1223.29 1130.24 1220.83 1131 Q1218.4 1131.77 1215.62 1133.32 L1215.62 1128.59 Q1218.45 1127.46 1220.9 1126.88 Q1223.36 1126.3 1225.39 1126.3 Q1230.76 1126.3 1233.96 1128.99 Q1237.15 1131.67 1237.15 1136.16 Q1237.15 1138.29 1236.34 1140.21 Q1235.56 1142.11 1233.45 1144.71 Q1232.87 1145.38 1229.77 1148.59 Q1226.67 1151.79 1221.02 1157.55 Z\" fill=\"#000000\" fill-rule=\"nonzero\" fill-opacity=\"1\" /><path clip-path=\"url(#clip010)\" d=\"M1257.15 1130.01 Q1253.54 1130.01 1251.71 1133.57 Q1249.91 1137.11 1249.91 1144.24 Q1249.91 1151.35 1251.71 1154.91 Q1253.54 1158.46 1257.15 1158.46 Q1260.79 1158.46 1262.59 1154.91 Q1264.42 1151.35 1264.42 1144.24 Q1264.42 1137.11 1262.59 1133.57 Q1260.79 1130.01 1257.15 1130.01 M1257.15 1126.3 Q1262.96 1126.3 1266.02 1130.91 Q1269.1 1135.49 1269.1 1144.24 Q1269.1 1152.97 1266.02 1157.58 Q1262.96 1162.16 1257.15 1162.16 Q1251.34 1162.16 1248.26 1157.58 Q1245.21 1152.97 1245.21 1144.24 Q1245.21 1135.49 1248.26 1130.91 Q1251.34 1126.3 1257.15 1126.3 Z\" fill=\"#000000\" fill-rule=\"nonzero\" fill-opacity=\"1\" /><path clip-path=\"url(#clip010)\" d=\"M1755.66 1142.85 Q1759.01 1143.57 1760.89 1145.84 Q1762.79 1148.11 1762.79 1151.44 Q1762.79 1156.56 1759.27 1159.36 Q1755.75 1162.16 1749.27 1162.16 Q1747.09 1162.16 1744.78 1161.72 Q1742.48 1161.3 1740.03 1160.45 L1740.03 1155.93 Q1741.98 1157.07 1744.29 1157.65 Q1746.6 1158.22 1749.13 1158.22 Q1753.53 1158.22 1755.82 1156.49 Q1758.13 1154.75 1758.13 1151.44 Q1758.13 1148.39 1755.98 1146.67 Q1753.85 1144.94 1750.03 1144.94 L1746 1144.94 L1746 1141.09 L1750.22 1141.09 Q1753.67 1141.09 1755.49 1139.73 Q1757.32 1138.34 1757.32 1135.75 Q1757.32 1133.09 1755.42 1131.67 Q1753.55 1130.24 1750.03 1130.24 Q1748.11 1130.24 1745.91 1130.65 Q1743.71 1131.07 1741.07 1131.95 L1741.07 1127.78 Q1743.73 1127.04 1746.05 1126.67 Q1748.39 1126.3 1750.45 1126.3 Q1755.77 1126.3 1758.87 1128.73 Q1761.98 1131.14 1761.98 1135.26 Q1761.98 1138.13 1760.33 1140.12 Q1758.69 1142.09 1755.66 1142.85 Z\" fill=\"#000000\" fill-rule=\"nonzero\" fill-opacity=\"1\" /><path clip-path=\"url(#clip010)\" d=\"M1781.65 1130.01 Q1778.04 1130.01 1776.21 1133.57 Q1774.41 1137.11 1774.41 1144.24 Q1774.41 1151.35 1776.21 1154.91 Q1778.04 1158.46 1781.65 1158.46 Q1785.29 1158.46 1787.09 1154.91 Q1788.92 1151.35 1788.92 1144.24 Q1788.92 1137.11 1787.09 1133.57 Q1785.29 1130.01 1781.65 1130.01 M1781.65 1126.3 Q1787.46 1126.3 1790.52 1130.91 Q1793.6 1135.49 1793.6 1144.24 Q1793.6 1152.97 1790.52 1157.58 Q1787.46 1162.16 1781.65 1162.16 Q1775.84 1162.16 1772.76 1157.58 Q1769.71 1152.97 1769.71 1144.24 Q1769.71 1135.49 1772.76 1130.91 Q1775.84 1126.3 1781.65 1126.3 Z\" fill=\"#000000\" fill-rule=\"nonzero\" fill-opacity=\"1\" /><path clip-path=\"url(#clip010)\" d=\"M2279.55 1131 L2267.75 1149.45 L2279.55 1149.45 L2279.55 1131 M2278.33 1126.93 L2284.21 1126.93 L2284.21 1149.45 L2289.14 1149.45 L2289.14 1153.34 L2284.21 1153.34 L2284.21 1161.49 L2279.55 1161.49 L2279.55 1153.34 L2263.95 1153.34 L2263.95 1148.83 L2278.33 1126.93 Z\" fill=\"#000000\" fill-rule=\"nonzero\" fill-opacity=\"1\" /><path clip-path=\"url(#clip010)\" d=\"M2306.87 1130.01 Q2303.26 1130.01 2301.43 1133.57 Q2299.62 1137.11 2299.62 1144.24 Q2299.62 1151.35 2301.43 1154.91 Q2303.26 1158.46 2306.87 1158.46 Q2310.5 1158.46 2312.31 1154.91 Q2314.14 1151.35 2314.14 1144.24 Q2314.14 1137.11 2312.31 1133.57 Q2310.5 1130.01 2306.87 1130.01 M2306.87 1126.3 Q2312.68 1126.3 2315.73 1130.91 Q2318.81 1135.49 2318.81 1144.24 Q2318.81 1152.97 2315.73 1157.58 Q2312.68 1162.16 2306.87 1162.16 Q2301.06 1162.16 2297.98 1157.58 Q2294.92 1152.97 2294.92 1144.24 Q2294.92 1135.49 2297.98 1130.91 Q2301.06 1126.3 2306.87 1126.3 Z\" fill=\"#000000\" fill-rule=\"nonzero\" fill-opacity=\"1\" /><polyline clip-path=\"url(#clip010)\" style=\"stroke:#000000; stroke-linecap:round; stroke-linejoin:round; stroke-width:4; stroke-opacity:1; fill:none\" points=\"184.191,1099.09 184.191,47.2441 \"/>\n",
       "<polyline clip-path=\"url(#clip010)\" style=\"stroke:#000000; stroke-linecap:round; stroke-linejoin:round; stroke-width:4; stroke-opacity:1; fill:none\" points=\"184.191,948.371 203.088,948.371 \"/>\n",
       "<polyline clip-path=\"url(#clip010)\" style=\"stroke:#000000; stroke-linecap:round; stroke-linejoin:round; stroke-width:4; stroke-opacity:1; fill:none\" points=\"184.191,753.385 203.088,753.385 \"/>\n",
       "<polyline clip-path=\"url(#clip010)\" style=\"stroke:#000000; stroke-linecap:round; stroke-linejoin:round; stroke-width:4; stroke-opacity:1; fill:none\" points=\"184.191,558.4 203.088,558.4 \"/>\n",
       "<polyline clip-path=\"url(#clip010)\" style=\"stroke:#000000; stroke-linecap:round; stroke-linejoin:round; stroke-width:4; stroke-opacity:1; fill:none\" points=\"184.191,363.415 203.088,363.415 \"/>\n",
       "<polyline clip-path=\"url(#clip010)\" style=\"stroke:#000000; stroke-linecap:round; stroke-linejoin:round; stroke-width:4; stroke-opacity:1; fill:none\" points=\"184.191,168.43 203.088,168.43 \"/>\n",
       "<path clip-path=\"url(#clip010)\" d=\"M91.0151 934.169 Q87.404 934.169 85.5753 937.734 Q83.7697 941.276 83.7697 948.405 Q83.7697 955.512 85.5753 959.077 Q87.404 962.618 91.0151 962.618 Q94.6493 962.618 96.4548 959.077 Q98.2835 955.512 98.2835 948.405 Q98.2835 941.276 96.4548 937.734 Q94.6493 934.169 91.0151 934.169 M91.0151 930.466 Q96.8252 930.466 99.8808 935.072 Q102.959 939.655 102.959 948.405 Q102.959 957.132 99.8808 961.739 Q96.8252 966.322 91.0151 966.322 Q85.2049 966.322 82.1262 961.739 Q79.0707 957.132 79.0707 948.405 Q79.0707 939.655 82.1262 935.072 Q85.2049 930.466 91.0151 930.466 Z\" fill=\"#000000\" fill-rule=\"nonzero\" fill-opacity=\"1\" /><path clip-path=\"url(#clip010)\" d=\"M111.177 959.771 L116.061 959.771 L116.061 965.651 L111.177 965.651 L111.177 959.771 Z\" fill=\"#000000\" fill-rule=\"nonzero\" fill-opacity=\"1\" /><path clip-path=\"url(#clip010)\" d=\"M136.246 934.169 Q132.635 934.169 130.807 937.734 Q129.001 941.276 129.001 948.405 Q129.001 955.512 130.807 959.077 Q132.635 962.618 136.246 962.618 Q139.881 962.618 141.686 959.077 Q143.515 955.512 143.515 948.405 Q143.515 941.276 141.686 937.734 Q139.881 934.169 136.246 934.169 M136.246 930.466 Q142.056 930.466 145.112 935.072 Q148.191 939.655 148.191 948.405 Q148.191 957.132 145.112 961.739 Q142.056 966.322 136.246 966.322 Q130.436 966.322 127.357 961.739 Q124.302 957.132 124.302 948.405 Q124.302 939.655 127.357 935.072 Q130.436 930.466 136.246 930.466 Z\" fill=\"#000000\" fill-rule=\"nonzero\" fill-opacity=\"1\" /><path clip-path=\"url(#clip010)\" d=\"M86.0382 766.73 L102.358 766.73 L102.358 770.665 L80.4133 770.665 L80.4133 766.73 Q83.0753 763.976 87.6586 759.346 Q92.2651 754.693 93.4456 753.351 Q95.691 750.827 96.5706 749.091 Q97.4734 747.332 97.4734 745.642 Q97.4734 742.888 95.5289 741.152 Q93.6076 739.415 90.5058 739.415 Q88.3067 739.415 85.8531 740.179 Q83.4225 740.943 80.6447 742.494 L80.6447 737.772 Q83.4688 736.638 85.9225 736.059 Q88.3762 735.48 90.4132 735.48 Q95.7836 735.48 98.978 738.165 Q102.172 740.851 102.172 745.341 Q102.172 747.471 101.362 749.392 Q100.575 751.29 98.4687 753.883 Q97.89 754.554 94.7882 757.772 Q91.6864 760.966 86.0382 766.73 Z\" fill=\"#000000\" fill-rule=\"nonzero\" fill-opacity=\"1\" /><path clip-path=\"url(#clip010)\" d=\"M112.172 764.786 L117.057 764.786 L117.057 770.665 L112.172 770.665 L112.172 764.786 Z\" fill=\"#000000\" fill-rule=\"nonzero\" fill-opacity=\"1\" /><path clip-path=\"url(#clip010)\" d=\"M127.288 736.105 L145.644 736.105 L145.644 740.04 L131.57 740.04 L131.57 748.513 Q132.589 748.165 133.607 748.003 Q134.626 747.818 135.644 747.818 Q141.431 747.818 144.811 750.99 Q148.191 754.161 148.191 759.577 Q148.191 765.156 144.718 768.258 Q141.246 771.337 134.927 771.337 Q132.751 771.337 130.482 770.966 Q128.237 770.596 125.83 769.855 L125.83 765.156 Q127.913 766.29 130.135 766.846 Q132.357 767.401 134.834 767.401 Q138.839 767.401 141.177 765.295 Q143.515 763.189 143.515 759.577 Q143.515 755.966 141.177 753.86 Q138.839 751.753 134.834 751.753 Q132.959 751.753 131.084 752.17 Q129.232 752.587 127.288 753.466 L127.288 736.105 Z\" fill=\"#000000\" fill-rule=\"nonzero\" fill-opacity=\"1\" /><path clip-path=\"url(#clip010)\" d=\"M81.0614 541.12 L99.4178 541.12 L99.4178 545.055 L85.3438 545.055 L85.3438 553.527 Q86.3623 553.18 87.3808 553.018 Q88.3993 552.833 89.4178 552.833 Q95.2049 552.833 98.5845 556.004 Q101.964 559.176 101.964 564.592 Q101.964 570.171 98.4919 573.273 Q95.0197 576.351 88.7003 576.351 Q86.5243 576.351 84.2558 575.981 Q82.0105 575.611 79.6031 574.87 L79.6031 570.171 Q81.6864 571.305 83.9086 571.861 Q86.1308 572.416 88.6077 572.416 Q92.6123 572.416 94.9502 570.31 Q97.2882 568.203 97.2882 564.592 Q97.2882 560.981 94.9502 558.875 Q92.6123 556.768 88.6077 556.768 Q86.7327 556.768 84.8577 557.185 Q83.0058 557.601 81.0614 558.481 L81.0614 541.12 Z\" fill=\"#000000\" fill-rule=\"nonzero\" fill-opacity=\"1\" /><path clip-path=\"url(#clip010)\" d=\"M111.177 569.8 L116.061 569.8 L116.061 575.68 L111.177 575.68 L111.177 569.8 Z\" fill=\"#000000\" fill-rule=\"nonzero\" fill-opacity=\"1\" /><path clip-path=\"url(#clip010)\" d=\"M136.246 544.199 Q132.635 544.199 130.807 547.764 Q129.001 551.305 129.001 558.435 Q129.001 565.541 130.807 569.106 Q132.635 572.648 136.246 572.648 Q139.881 572.648 141.686 569.106 Q143.515 565.541 143.515 558.435 Q143.515 551.305 141.686 547.764 Q139.881 544.199 136.246 544.199 M136.246 540.495 Q142.056 540.495 145.112 545.102 Q148.191 549.685 148.191 558.435 Q148.191 567.162 145.112 571.768 Q142.056 576.351 136.246 576.351 Q130.436 576.351 127.357 571.768 Q124.302 567.162 124.302 558.435 Q124.302 549.685 127.357 545.102 Q130.436 540.495 136.246 540.495 Z\" fill=\"#000000\" fill-rule=\"nonzero\" fill-opacity=\"1\" /><path clip-path=\"url(#clip010)\" d=\"M80.8299 346.135 L103.052 346.135 L103.052 348.126 L90.5058 380.695 L85.6216 380.695 L97.4271 350.07 L80.8299 350.07 L80.8299 346.135 Z\" fill=\"#000000\" fill-rule=\"nonzero\" fill-opacity=\"1\" /><path clip-path=\"url(#clip010)\" d=\"M112.172 374.815 L117.057 374.815 L117.057 380.695 L112.172 380.695 L112.172 374.815 Z\" fill=\"#000000\" fill-rule=\"nonzero\" fill-opacity=\"1\" /><path clip-path=\"url(#clip010)\" d=\"M127.288 346.135 L145.644 346.135 L145.644 350.07 L131.57 350.07 L131.57 358.542 Q132.589 358.195 133.607 358.033 Q134.626 357.848 135.644 357.848 Q141.431 357.848 144.811 361.019 Q148.191 364.19 148.191 369.607 Q148.191 375.186 144.718 378.287 Q141.246 381.366 134.927 381.366 Q132.751 381.366 130.482 380.996 Q128.237 380.625 125.83 379.885 L125.83 375.186 Q127.913 376.32 130.135 376.875 Q132.357 377.431 134.834 377.431 Q138.839 377.431 141.177 375.325 Q143.515 373.218 143.515 369.607 Q143.515 365.996 141.177 363.889 Q138.839 361.783 134.834 361.783 Q132.959 361.783 131.084 362.2 Q129.232 362.616 127.288 363.496 L127.288 346.135 Z\" fill=\"#000000\" fill-rule=\"nonzero\" fill-opacity=\"1\" /><path clip-path=\"url(#clip010)\" d=\"M51.6634 181.774 L59.3023 181.774 L59.3023 155.409 L50.9921 157.076 L50.9921 152.816 L59.256 151.15 L63.9319 151.15 L63.9319 181.774 L71.5707 181.774 L71.5707 185.71 L51.6634 185.71 L51.6634 181.774 Z\" fill=\"#000000\" fill-rule=\"nonzero\" fill-opacity=\"1\" /><path clip-path=\"url(#clip010)\" d=\"M91.0151 154.228 Q87.404 154.228 85.5753 157.793 Q83.7697 161.335 83.7697 168.464 Q83.7697 175.571 85.5753 179.136 Q87.404 182.677 91.0151 182.677 Q94.6493 182.677 96.4548 179.136 Q98.2835 175.571 98.2835 168.464 Q98.2835 161.335 96.4548 157.793 Q94.6493 154.228 91.0151 154.228 M91.0151 150.525 Q96.8252 150.525 99.8808 155.131 Q102.959 159.714 102.959 168.464 Q102.959 177.191 99.8808 181.798 Q96.8252 186.381 91.0151 186.381 Q85.2049 186.381 82.1262 181.798 Q79.0707 177.191 79.0707 168.464 Q79.0707 159.714 82.1262 155.131 Q85.2049 150.525 91.0151 150.525 Z\" fill=\"#000000\" fill-rule=\"nonzero\" fill-opacity=\"1\" /><path clip-path=\"url(#clip010)\" d=\"M111.177 179.83 L116.061 179.83 L116.061 185.71 L111.177 185.71 L111.177 179.83 Z\" fill=\"#000000\" fill-rule=\"nonzero\" fill-opacity=\"1\" /><path clip-path=\"url(#clip010)\" d=\"M136.246 154.228 Q132.635 154.228 130.807 157.793 Q129.001 161.335 129.001 168.464 Q129.001 175.571 130.807 179.136 Q132.635 182.677 136.246 182.677 Q139.881 182.677 141.686 179.136 Q143.515 175.571 143.515 168.464 Q143.515 161.335 141.686 157.793 Q139.881 154.228 136.246 154.228 M136.246 150.525 Q142.056 150.525 145.112 155.131 Q148.191 159.714 148.191 168.464 Q148.191 177.191 145.112 181.798 Q142.056 186.381 136.246 186.381 Q130.436 186.381 127.357 181.798 Q124.302 177.191 124.302 168.464 Q124.302 159.714 127.357 155.131 Q130.436 150.525 136.246 150.525 Z\" fill=\"#000000\" fill-rule=\"nonzero\" fill-opacity=\"1\" /><path clip-path=\"url(#clip012)\" d=\"M245.565 986.934 L298.022 864.561 L350.479 758.5 L402.936 667.974 L455.392 592.172 L507.849 530.26 L560.306 481.384 L612.763 444.677 L665.22 419.259 L717.677 404.24 L770.133 398.722 L822.59 401.801 L875.047 412.568 L927.504 430.111 L979.961 453.516 L1032.42 481.865 L1084.87 514.243 L1137.33 549.734 L1189.79 587.421 L1242.24 626.391 L1294.7 665.73 L1347.16 704.527 L1399.62 741.872 L1452.07 776.856 L1504.53 808.573 L1556.99 836.115 L1609.44 858.576 L1661.9 875.048 L1714.36 884.623 L1766.81 886.391 L1819.27 879.435 L1871.73 862.836 L1924.18 835.668 L1976.64 796.997 L2029.1 745.876 L2081.55 681.351 L2134.01 602.448 L2186.47 508.176 L2238.92 397.519 L2291.38 269.428 L2291.38 127.98 L2238.92 252.743 L2186.47 361.082 L2134.01 453.771 L2081.55 531.617 L2029.1 595.451 L1976.64 646.125 L1924.18 684.505 L1871.73 711.47 L1819.27 727.908 L1766.81 734.716 L1714.36 732.798 L1661.9 723.062 L1609.44 706.421 L1556.99 683.788 L1504.53 656.079 L1452.07 624.212 L1399.62 589.104 L1347.16 551.669 L1294.7 512.822 L1242.24 473.478 L1189.79 434.547 L1137.33 396.941 L1084.87 361.567 L1032.42 329.334 L979.961 301.149 L927.504 277.917 L875.047 260.547 L822.59 249.947 L770.133 247.028 L717.677 252.704 L665.22 267.894 L612.763 293.524 L560.306 330.528 L507.849 379.849 L455.392 442.441 L402.936 519.276 L350.479 611.342 L298.022 719.651 L245.565 845.25  Z\" fill=\"#009af9\" fill-rule=\"evenodd\" fill-opacity=\"0.2\"/>\n",
       "<polyline clip-path=\"url(#clip012)\" style=\"stroke:#009af9; stroke-linecap:round; stroke-linejoin:round; stroke-width:4; stroke-opacity:1; fill:none\" points=\"245.565,916.092 298.022,792.106 350.479,684.921 402.936,593.625 455.392,517.307 507.849,455.054 560.306,405.956 612.763,369.101 665.22,343.577 717.677,328.472 770.133,322.875 822.59,325.874 875.047,336.558 927.504,354.014 979.961,377.332 1032.42,405.6 1084.87,437.905 1137.33,473.338 1189.79,510.984 1242.24,549.935 1294.7,589.276 1347.16,628.098 1399.62,665.488 1452.07,700.534 1504.53,732.326 1556.99,759.951 1609.44,782.498 1661.9,799.055 1714.36,808.711 1766.81,810.553 1819.27,803.671 1871.73,787.153 1924.18,760.087 1976.64,721.561 2029.1,670.664 2081.55,606.484 2134.01,528.109 2186.47,434.629 2238.92,325.131 2291.38,198.704 \"/>\n",
       "<path clip-path=\"url(#clip012)\" d=\"M245.565 218.697 L298.022 347.715 L350.479 459.444 L402.936 554.929 L455.392 635.183 L507.849 701.194 L560.306 753.934 L612.763 794.357 L665.22 823.407 L717.677 842.017 L770.133 851.112 L822.59 851.612 L875.047 844.431 L927.504 830.48 L979.961 810.668 L1032.42 785.902 L1084.87 757.088 L1137.33 725.134 L1189.79 690.946 L1242.24 655.435 L1294.7 619.51 L1347.16 584.083 L1399.62 550.067 L1452.07 518.378 L1504.53 489.93 L1556.99 465.641 L1609.44 446.427 L1661.9 433.205 L1714.36 426.888 L1766.81 428.39 L1819.27 438.617 L1871.73 458.475 L1924.18 488.858 L1976.64 530.658 L2029.1 584.751 L2081.55 652.005 L2134.01 733.27 L2186.47 829.378 L2238.92 941.137 L2291.38 1069.32 L2291.38 927.871 L2238.92 796.36 L2186.47 682.284 L2134.01 584.592 L2081.55 502.27 L2029.1 434.326 L1976.64 379.786 L1924.18 337.695 L1871.73 307.108 L1819.27 287.09 L1766.81 276.715 L1714.36 275.063 L1661.9 281.219 L1609.44 294.272 L1556.99 313.314 L1504.53 337.437 L1452.07 365.734 L1399.62 397.299 L1347.16 431.225 L1294.7 466.602 L1242.24 502.522 L1189.79 538.072 L1137.33 572.34 L1084.87 604.412 L1032.42 633.371 L979.961 658.301 L927.504 678.286 L875.047 692.41 L822.59 699.758 L770.133 699.418 L717.677 690.48 L665.22 672.042 L612.763 643.204 L560.306 603.078 L507.849 550.783 L455.392 485.452 L402.936 406.231 L350.479 312.285 L298.022 202.805 L245.565 77.0133  Z\" fill=\"#e26f46\" fill-rule=\"evenodd\" fill-opacity=\"0.2\"/>\n",
       "<polyline clip-path=\"url(#clip012)\" style=\"stroke:#e26f46; stroke-linecap:round; stroke-linejoin:round; stroke-width:4; stroke-opacity:1; fill:none\" points=\"245.565,147.855 298.022,275.26 350.479,385.865 402.936,480.58 455.392,560.317 507.849,625.989 560.306,678.506 612.763,718.781 665.22,747.724 717.677,766.249 770.133,775.265 822.59,775.685 875.047,768.421 927.504,754.383 979.961,734.485 1032.42,709.636 1084.87,680.75 1137.33,648.737 1189.79,614.509 1242.24,578.978 1294.7,543.056 1347.16,507.654 1399.62,473.683 1452.07,442.056 1504.53,413.683 1556.99,389.478 1609.44,370.35 1661.9,357.212 1714.36,350.976 1766.81,352.552 1819.27,362.854 1871.73,382.791 1924.18,413.277 1976.64,455.222 2029.1,509.538 2081.55,577.138 2134.01,658.931 2186.47,755.831 2238.92,868.748 2291.38,998.595 \"/>\n",
       "<polyline clip-path=\"url(#clip012)\" style=\"stroke:#3da44d; stroke-linecap:round; stroke-linejoin:round; stroke-width:4; stroke-opacity:1; fill:none\" points=\"-1984.37,565.81 4521.32,565.81 \"/>\n",
       "<path clip-path=\"url(#clip010)\" d=\"M256.476 1064.03 L567.429 1064.03 L567.429 856.666 L256.476 856.666  Z\" fill=\"#ffffff\" fill-rule=\"evenodd\" fill-opacity=\"1\"/>\n",
       "<polyline clip-path=\"url(#clip010)\" style=\"stroke:#000000; stroke-linecap:round; stroke-linejoin:round; stroke-width:4; stroke-opacity:1; fill:none\" points=\"256.476,1064.03 567.429,1064.03 567.429,856.666 256.476,856.666 256.476,1064.03 \"/>\n",
       "<polyline clip-path=\"url(#clip010)\" style=\"stroke:#009af9; stroke-linecap:round; stroke-linejoin:round; stroke-width:4; stroke-opacity:1; fill:none\" points=\"280.571,908.506 425.142,908.506 \"/>\n",
       "<path clip-path=\"url(#clip010)\" d=\"M449.238 891.226 L469.099 891.226 L469.099 895.162 L453.913 895.162 L453.913 905.347 L467.617 905.347 L467.617 909.282 L453.913 909.282 L453.913 925.786 L449.238 925.786 L449.238 891.226 Z\" fill=\"#000000\" fill-rule=\"nonzero\" fill-opacity=\"1\" /><path clip-path=\"url(#clip010)\" d=\"M476.321 889.768 L480.58 889.768 L480.58 925.786 L476.321 925.786 L476.321 889.768 Z\" fill=\"#000000\" fill-rule=\"nonzero\" fill-opacity=\"1\" /><polyline clip-path=\"url(#clip010)\" style=\"stroke:#e26f46; stroke-linecap:round; stroke-linejoin:round; stroke-width:4; stroke-opacity:1; fill:none\" points=\"280.571,960.346 425.142,960.346 \"/>\n",
       "<path clip-path=\"url(#clip010)\" d=\"M449.238 943.066 L469.099 943.066 L469.099 947.002 L453.913 947.002 L453.913 957.187 L467.617 957.187 L467.617 961.122 L453.913 961.122 L453.913 977.626 L449.238 977.626 L449.238 943.066 Z\" fill=\"#000000\" fill-rule=\"nonzero\" fill-opacity=\"1\" /><path clip-path=\"url(#clip010)\" d=\"M487.895 955.682 Q487.177 955.265 486.321 955.08 Q485.487 954.872 484.469 954.872 Q480.858 954.872 478.913 957.233 Q476.992 959.571 476.992 963.969 L476.992 977.626 L472.71 977.626 L472.71 951.701 L476.992 951.701 L476.992 955.728 Q478.335 953.367 480.487 952.233 Q482.64 951.076 485.719 951.076 Q486.159 951.076 486.691 951.145 Q487.223 951.191 487.872 951.307 L487.895 955.682 Z\" fill=\"#000000\" fill-rule=\"nonzero\" fill-opacity=\"1\" /><polyline clip-path=\"url(#clip010)\" style=\"stroke:#3da44d; stroke-linecap:round; stroke-linejoin:round; stroke-width:4; stroke-opacity:1; fill:none\" points=\"280.571,1012.19 425.142,1012.19 \"/>\n",
       "<path clip-path=\"url(#clip010)\" d=\"M449.238 994.906 L469.099 994.906 L469.099 998.842 L453.913 998.842 L453.913 1009.03 L467.617 1009.03 L467.617 1012.96 L453.913 1012.96 L453.913 1029.47 L449.238 1029.47 L449.238 994.906 Z\" fill=\"#000000\" fill-rule=\"nonzero\" fill-opacity=\"1\" /><path clip-path=\"url(#clip010)\" d=\"M493.381 1016.2 Q493.381 1011.57 491.46 1009.03 Q489.561 1006.48 486.112 1006.48 Q482.686 1006.48 480.765 1009.03 Q478.867 1011.57 478.867 1016.2 Q478.867 1020.81 480.765 1023.36 Q482.686 1025.9 486.112 1025.9 Q489.561 1025.9 491.46 1023.36 Q493.381 1020.81 493.381 1016.2 M497.64 1026.25 Q497.64 1032.87 494.7 1036.09 Q491.76 1039.33 485.696 1039.33 Q483.45 1039.33 481.46 1038.98 Q479.469 1038.66 477.594 1037.96 L477.594 1033.82 Q479.469 1034.84 481.298 1035.32 Q483.126 1035.81 485.024 1035.81 Q489.214 1035.81 491.298 1033.61 Q493.381 1031.43 493.381 1027.01 L493.381 1024.91 Q492.061 1027.2 490.001 1028.33 Q487.941 1029.47 485.071 1029.47 Q480.302 1029.47 477.386 1025.83 Q474.469 1022.2 474.469 1016.2 Q474.469 1010.18 477.386 1006.55 Q480.302 1002.92 485.071 1002.92 Q487.941 1002.92 490.001 1004.05 Q492.061 1005.18 493.381 1007.48 L493.381 1003.54 L497.64 1003.54 L497.64 1026.25 Z\" fill=\"#000000\" fill-rule=\"nonzero\" fill-opacity=\"1\" /><path clip-path=\"url(#clip010)\" d=\"M513.983 994.906 L517.918 994.906 L505.881 1033.86 L501.946 1033.86 L513.983 994.906 Z\" fill=\"#000000\" fill-rule=\"nonzero\" fill-opacity=\"1\" /><path clip-path=\"url(#clip010)\" d=\"M527.015 1025.53 L543.334 1025.53 L543.334 1029.47 L521.39 1029.47 L521.39 1025.53 Q524.052 1022.78 528.635 1018.15 Q533.242 1013.49 534.422 1012.15 Q536.668 1009.63 537.547 1007.89 Q538.45 1006.13 538.45 1004.44 Q538.45 1001.69 536.506 999.953 Q534.584 998.217 531.482 998.217 Q529.283 998.217 526.83 998.98 Q524.399 999.744 521.621 1001.3 L521.621 996.573 Q524.445 995.439 526.899 994.86 Q529.353 994.281 531.39 994.281 Q536.76 994.281 539.955 996.967 Q543.149 999.652 543.149 1004.14 Q543.149 1006.27 542.339 1008.19 Q541.552 1010.09 539.445 1012.68 Q538.867 1013.36 535.765 1016.57 Q532.663 1019.77 527.015 1025.53 Z\" fill=\"#000000\" fill-rule=\"nonzero\" fill-opacity=\"1\" /></svg>\n"
      ],
      "text/html": [
       "<?xml version=\"1.0\" encoding=\"utf-8\"?>\n",
       "<svg xmlns=\"http://www.w3.org/2000/svg\" xmlns:xlink=\"http://www.w3.org/1999/xlink\" width=\"600\" height=\"300\" viewBox=\"0 0 2400 1200\">\n",
       "<defs>\n",
       "  <clipPath id=\"clip060\">\n",
       "    <rect x=\"0\" y=\"0\" width=\"2400\" height=\"1200\"/>\n",
       "  </clipPath>\n",
       "</defs>\n",
       "<path clip-path=\"url(#clip060)\" d=\"M0 1200 L2400 1200 L2400 0 L0 0  Z\" fill=\"#ffffff\" fill-rule=\"evenodd\" fill-opacity=\"1\"/>\n",
       "<defs>\n",
       "  <clipPath id=\"clip061\">\n",
       "    <rect x=\"480\" y=\"0\" width=\"1681\" height=\"1200\"/>\n",
       "  </clipPath>\n",
       "</defs>\n",
       "<path clip-path=\"url(#clip060)\" d=\"M184.191 1099.09 L2352.76 1099.09 L2352.76 47.2441 L184.191 47.2441  Z\" fill=\"#ffffff\" fill-rule=\"evenodd\" fill-opacity=\"1\"/>\n",
       "<defs>\n",
       "  <clipPath id=\"clip062\">\n",
       "    <rect x=\"184\" y=\"47\" width=\"2170\" height=\"1053\"/>\n",
       "  </clipPath>\n",
       "</defs>\n",
       "<polyline clip-path=\"url(#clip062)\" style=\"stroke:#000000; stroke-linecap:round; stroke-linejoin:round; stroke-width:2; stroke-opacity:0.1; fill:none\" points=\"193.108,1099.09 193.108,47.2441 \"/>\n",
       "<polyline clip-path=\"url(#clip062)\" style=\"stroke:#000000; stroke-linecap:round; stroke-linejoin:round; stroke-width:2; stroke-opacity:0.1; fill:none\" points=\"717.677,1099.09 717.677,47.2441 \"/>\n",
       "<polyline clip-path=\"url(#clip062)\" style=\"stroke:#000000; stroke-linecap:round; stroke-linejoin:round; stroke-width:2; stroke-opacity:0.1; fill:none\" points=\"1242.24,1099.09 1242.24,47.2441 \"/>\n",
       "<polyline clip-path=\"url(#clip062)\" style=\"stroke:#000000; stroke-linecap:round; stroke-linejoin:round; stroke-width:2; stroke-opacity:0.1; fill:none\" points=\"1766.81,1099.09 1766.81,47.2441 \"/>\n",
       "<polyline clip-path=\"url(#clip062)\" style=\"stroke:#000000; stroke-linecap:round; stroke-linejoin:round; stroke-width:2; stroke-opacity:0.1; fill:none\" points=\"2291.38,1099.09 2291.38,47.2441 \"/>\n",
       "<polyline clip-path=\"url(#clip062)\" style=\"stroke:#000000; stroke-linecap:round; stroke-linejoin:round; stroke-width:2; stroke-opacity:0.1; fill:none\" points=\"184.191,948.371 2352.76,948.371 \"/>\n",
       "<polyline clip-path=\"url(#clip062)\" style=\"stroke:#000000; stroke-linecap:round; stroke-linejoin:round; stroke-width:2; stroke-opacity:0.1; fill:none\" points=\"184.191,753.385 2352.76,753.385 \"/>\n",
       "<polyline clip-path=\"url(#clip062)\" style=\"stroke:#000000; stroke-linecap:round; stroke-linejoin:round; stroke-width:2; stroke-opacity:0.1; fill:none\" points=\"184.191,558.4 2352.76,558.4 \"/>\n",
       "<polyline clip-path=\"url(#clip062)\" style=\"stroke:#000000; stroke-linecap:round; stroke-linejoin:round; stroke-width:2; stroke-opacity:0.1; fill:none\" points=\"184.191,363.415 2352.76,363.415 \"/>\n",
       "<polyline clip-path=\"url(#clip062)\" style=\"stroke:#000000; stroke-linecap:round; stroke-linejoin:round; stroke-width:2; stroke-opacity:0.1; fill:none\" points=\"184.191,168.43 2352.76,168.43 \"/>\n",
       "<polyline clip-path=\"url(#clip060)\" style=\"stroke:#000000; stroke-linecap:round; stroke-linejoin:round; stroke-width:4; stroke-opacity:1; fill:none\" points=\"184.191,1099.09 2352.76,1099.09 \"/>\n",
       "<polyline clip-path=\"url(#clip060)\" style=\"stroke:#000000; stroke-linecap:round; stroke-linejoin:round; stroke-width:4; stroke-opacity:1; fill:none\" points=\"193.108,1099.09 193.108,1080.19 \"/>\n",
       "<polyline clip-path=\"url(#clip060)\" style=\"stroke:#000000; stroke-linecap:round; stroke-linejoin:round; stroke-width:4; stroke-opacity:1; fill:none\" points=\"717.677,1099.09 717.677,1080.19 \"/>\n",
       "<polyline clip-path=\"url(#clip060)\" style=\"stroke:#000000; stroke-linecap:round; stroke-linejoin:round; stroke-width:4; stroke-opacity:1; fill:none\" points=\"1242.24,1099.09 1242.24,1080.19 \"/>\n",
       "<polyline clip-path=\"url(#clip060)\" style=\"stroke:#000000; stroke-linecap:round; stroke-linejoin:round; stroke-width:4; stroke-opacity:1; fill:none\" points=\"1766.81,1099.09 1766.81,1080.19 \"/>\n",
       "<polyline clip-path=\"url(#clip060)\" style=\"stroke:#000000; stroke-linecap:round; stroke-linejoin:round; stroke-width:4; stroke-opacity:1; fill:none\" points=\"2291.38,1099.09 2291.38,1080.19 \"/>\n",
       "<path clip-path=\"url(#clip060)\" d=\"M193.108 1130.01 Q189.497 1130.01 187.669 1133.57 Q185.863 1137.11 185.863 1144.24 Q185.863 1151.35 187.669 1154.91 Q189.497 1158.46 193.108 1158.46 Q196.743 1158.46 198.548 1154.91 Q200.377 1151.35 200.377 1144.24 Q200.377 1137.11 198.548 1133.57 Q196.743 1130.01 193.108 1130.01 M193.108 1126.3 Q198.918 1126.3 201.974 1130.91 Q205.053 1135.49 205.053 1144.24 Q205.053 1152.97 201.974 1157.58 Q198.918 1162.16 193.108 1162.16 Q187.298 1162.16 184.219 1157.58 Q181.164 1152.97 181.164 1144.24 Q181.164 1135.49 184.219 1130.91 Q187.298 1126.3 193.108 1126.3 Z\" fill=\"#000000\" fill-rule=\"nonzero\" fill-opacity=\"1\" /><path clip-path=\"url(#clip060)\" d=\"M692.364 1157.55 L700.003 1157.55 L700.003 1131.19 L691.693 1132.85 L691.693 1128.59 L699.957 1126.93 L704.633 1126.93 L704.633 1157.55 L712.272 1157.55 L712.272 1161.49 L692.364 1161.49 L692.364 1157.55 Z\" fill=\"#000000\" fill-rule=\"nonzero\" fill-opacity=\"1\" /><path clip-path=\"url(#clip060)\" d=\"M731.716 1130.01 Q728.105 1130.01 726.276 1133.57 Q724.471 1137.11 724.471 1144.24 Q724.471 1151.35 726.276 1154.91 Q728.105 1158.46 731.716 1158.46 Q735.35 1158.46 737.156 1154.91 Q738.984 1151.35 738.984 1144.24 Q738.984 1137.11 737.156 1133.57 Q735.35 1130.01 731.716 1130.01 M731.716 1126.3 Q737.526 1126.3 740.582 1130.91 Q743.66 1135.49 743.66 1144.24 Q743.66 1152.97 740.582 1157.58 Q737.526 1162.16 731.716 1162.16 Q725.906 1162.16 722.827 1157.58 Q719.772 1152.97 719.772 1144.24 Q719.772 1135.49 722.827 1130.91 Q725.906 1126.3 731.716 1126.3 Z\" fill=\"#000000\" fill-rule=\"nonzero\" fill-opacity=\"1\" /><path clip-path=\"url(#clip060)\" d=\"M1221.02 1157.55 L1237.34 1157.55 L1237.34 1161.49 L1215.39 1161.49 L1215.39 1157.55 Q1218.06 1154.8 1222.64 1150.17 Q1227.24 1145.52 1228.43 1144.17 Q1230.67 1141.65 1231.55 1139.91 Q1232.45 1138.15 1232.45 1136.46 Q1232.45 1133.71 1230.51 1131.97 Q1228.59 1130.24 1225.49 1130.24 Q1223.29 1130.24 1220.83 1131 Q1218.4 1131.77 1215.62 1133.32 L1215.62 1128.59 Q1218.45 1127.46 1220.9 1126.88 Q1223.36 1126.3 1225.39 1126.3 Q1230.76 1126.3 1233.96 1128.99 Q1237.15 1131.67 1237.15 1136.16 Q1237.15 1138.29 1236.34 1140.21 Q1235.56 1142.11 1233.45 1144.71 Q1232.87 1145.38 1229.77 1148.59 Q1226.67 1151.79 1221.02 1157.55 Z\" fill=\"#000000\" fill-rule=\"nonzero\" fill-opacity=\"1\" /><path clip-path=\"url(#clip060)\" d=\"M1257.15 1130.01 Q1253.54 1130.01 1251.71 1133.57 Q1249.91 1137.11 1249.91 1144.24 Q1249.91 1151.35 1251.71 1154.91 Q1253.54 1158.46 1257.15 1158.46 Q1260.79 1158.46 1262.59 1154.91 Q1264.42 1151.35 1264.42 1144.24 Q1264.42 1137.11 1262.59 1133.57 Q1260.79 1130.01 1257.15 1130.01 M1257.15 1126.3 Q1262.96 1126.3 1266.02 1130.91 Q1269.1 1135.49 1269.1 1144.24 Q1269.1 1152.97 1266.02 1157.58 Q1262.96 1162.16 1257.15 1162.16 Q1251.34 1162.16 1248.26 1157.58 Q1245.21 1152.97 1245.21 1144.24 Q1245.21 1135.49 1248.26 1130.91 Q1251.34 1126.3 1257.15 1126.3 Z\" fill=\"#000000\" fill-rule=\"nonzero\" fill-opacity=\"1\" /><path clip-path=\"url(#clip060)\" d=\"M1755.66 1142.85 Q1759.01 1143.57 1760.89 1145.84 Q1762.79 1148.11 1762.79 1151.44 Q1762.79 1156.56 1759.27 1159.36 Q1755.75 1162.16 1749.27 1162.16 Q1747.09 1162.16 1744.78 1161.72 Q1742.48 1161.3 1740.03 1160.45 L1740.03 1155.93 Q1741.98 1157.07 1744.29 1157.65 Q1746.6 1158.22 1749.13 1158.22 Q1753.53 1158.22 1755.82 1156.49 Q1758.13 1154.75 1758.13 1151.44 Q1758.13 1148.39 1755.98 1146.67 Q1753.85 1144.94 1750.03 1144.94 L1746 1144.94 L1746 1141.09 L1750.22 1141.09 Q1753.67 1141.09 1755.49 1139.73 Q1757.32 1138.34 1757.32 1135.75 Q1757.32 1133.09 1755.42 1131.67 Q1753.55 1130.24 1750.03 1130.24 Q1748.11 1130.24 1745.91 1130.65 Q1743.71 1131.07 1741.07 1131.95 L1741.07 1127.78 Q1743.73 1127.04 1746.05 1126.67 Q1748.39 1126.3 1750.45 1126.3 Q1755.77 1126.3 1758.87 1128.73 Q1761.98 1131.14 1761.98 1135.26 Q1761.98 1138.13 1760.33 1140.12 Q1758.69 1142.09 1755.66 1142.85 Z\" fill=\"#000000\" fill-rule=\"nonzero\" fill-opacity=\"1\" /><path clip-path=\"url(#clip060)\" d=\"M1781.65 1130.01 Q1778.04 1130.01 1776.21 1133.57 Q1774.41 1137.11 1774.41 1144.24 Q1774.41 1151.35 1776.21 1154.91 Q1778.04 1158.46 1781.65 1158.46 Q1785.29 1158.46 1787.09 1154.91 Q1788.92 1151.35 1788.92 1144.24 Q1788.92 1137.11 1787.09 1133.57 Q1785.29 1130.01 1781.65 1130.01 M1781.65 1126.3 Q1787.46 1126.3 1790.52 1130.91 Q1793.6 1135.49 1793.6 1144.24 Q1793.6 1152.97 1790.52 1157.58 Q1787.46 1162.16 1781.65 1162.16 Q1775.84 1162.16 1772.76 1157.58 Q1769.71 1152.97 1769.71 1144.24 Q1769.71 1135.49 1772.76 1130.91 Q1775.84 1126.3 1781.65 1126.3 Z\" fill=\"#000000\" fill-rule=\"nonzero\" fill-opacity=\"1\" /><path clip-path=\"url(#clip060)\" d=\"M2279.55 1131 L2267.75 1149.45 L2279.55 1149.45 L2279.55 1131 M2278.33 1126.93 L2284.21 1126.93 L2284.21 1149.45 L2289.14 1149.45 L2289.14 1153.34 L2284.21 1153.34 L2284.21 1161.49 L2279.55 1161.49 L2279.55 1153.34 L2263.95 1153.34 L2263.95 1148.83 L2278.33 1126.93 Z\" fill=\"#000000\" fill-rule=\"nonzero\" fill-opacity=\"1\" /><path clip-path=\"url(#clip060)\" d=\"M2306.87 1130.01 Q2303.26 1130.01 2301.43 1133.57 Q2299.62 1137.11 2299.62 1144.24 Q2299.62 1151.35 2301.43 1154.91 Q2303.26 1158.46 2306.87 1158.46 Q2310.5 1158.46 2312.31 1154.91 Q2314.14 1151.35 2314.14 1144.24 Q2314.14 1137.11 2312.31 1133.57 Q2310.5 1130.01 2306.87 1130.01 M2306.87 1126.3 Q2312.68 1126.3 2315.73 1130.91 Q2318.81 1135.49 2318.81 1144.24 Q2318.81 1152.97 2315.73 1157.58 Q2312.68 1162.16 2306.87 1162.16 Q2301.06 1162.16 2297.98 1157.58 Q2294.92 1152.97 2294.92 1144.24 Q2294.92 1135.49 2297.98 1130.91 Q2301.06 1126.3 2306.87 1126.3 Z\" fill=\"#000000\" fill-rule=\"nonzero\" fill-opacity=\"1\" /><polyline clip-path=\"url(#clip060)\" style=\"stroke:#000000; stroke-linecap:round; stroke-linejoin:round; stroke-width:4; stroke-opacity:1; fill:none\" points=\"184.191,1099.09 184.191,47.2441 \"/>\n",
       "<polyline clip-path=\"url(#clip060)\" style=\"stroke:#000000; stroke-linecap:round; stroke-linejoin:round; stroke-width:4; stroke-opacity:1; fill:none\" points=\"184.191,948.371 203.088,948.371 \"/>\n",
       "<polyline clip-path=\"url(#clip060)\" style=\"stroke:#000000; stroke-linecap:round; stroke-linejoin:round; stroke-width:4; stroke-opacity:1; fill:none\" points=\"184.191,753.385 203.088,753.385 \"/>\n",
       "<polyline clip-path=\"url(#clip060)\" style=\"stroke:#000000; stroke-linecap:round; stroke-linejoin:round; stroke-width:4; stroke-opacity:1; fill:none\" points=\"184.191,558.4 203.088,558.4 \"/>\n",
       "<polyline clip-path=\"url(#clip060)\" style=\"stroke:#000000; stroke-linecap:round; stroke-linejoin:round; stroke-width:4; stroke-opacity:1; fill:none\" points=\"184.191,363.415 203.088,363.415 \"/>\n",
       "<polyline clip-path=\"url(#clip060)\" style=\"stroke:#000000; stroke-linecap:round; stroke-linejoin:round; stroke-width:4; stroke-opacity:1; fill:none\" points=\"184.191,168.43 203.088,168.43 \"/>\n",
       "<path clip-path=\"url(#clip060)\" d=\"M91.0151 934.169 Q87.404 934.169 85.5753 937.734 Q83.7697 941.276 83.7697 948.405 Q83.7697 955.512 85.5753 959.077 Q87.404 962.618 91.0151 962.618 Q94.6493 962.618 96.4548 959.077 Q98.2835 955.512 98.2835 948.405 Q98.2835 941.276 96.4548 937.734 Q94.6493 934.169 91.0151 934.169 M91.0151 930.466 Q96.8252 930.466 99.8808 935.072 Q102.959 939.655 102.959 948.405 Q102.959 957.132 99.8808 961.739 Q96.8252 966.322 91.0151 966.322 Q85.2049 966.322 82.1262 961.739 Q79.0707 957.132 79.0707 948.405 Q79.0707 939.655 82.1262 935.072 Q85.2049 930.466 91.0151 930.466 Z\" fill=\"#000000\" fill-rule=\"nonzero\" fill-opacity=\"1\" /><path clip-path=\"url(#clip060)\" d=\"M111.177 959.771 L116.061 959.771 L116.061 965.651 L111.177 965.651 L111.177 959.771 Z\" fill=\"#000000\" fill-rule=\"nonzero\" fill-opacity=\"1\" /><path clip-path=\"url(#clip060)\" d=\"M136.246 934.169 Q132.635 934.169 130.807 937.734 Q129.001 941.276 129.001 948.405 Q129.001 955.512 130.807 959.077 Q132.635 962.618 136.246 962.618 Q139.881 962.618 141.686 959.077 Q143.515 955.512 143.515 948.405 Q143.515 941.276 141.686 937.734 Q139.881 934.169 136.246 934.169 M136.246 930.466 Q142.056 930.466 145.112 935.072 Q148.191 939.655 148.191 948.405 Q148.191 957.132 145.112 961.739 Q142.056 966.322 136.246 966.322 Q130.436 966.322 127.357 961.739 Q124.302 957.132 124.302 948.405 Q124.302 939.655 127.357 935.072 Q130.436 930.466 136.246 930.466 Z\" fill=\"#000000\" fill-rule=\"nonzero\" fill-opacity=\"1\" /><path clip-path=\"url(#clip060)\" d=\"M86.0382 766.73 L102.358 766.73 L102.358 770.665 L80.4133 770.665 L80.4133 766.73 Q83.0753 763.976 87.6586 759.346 Q92.2651 754.693 93.4456 753.351 Q95.691 750.827 96.5706 749.091 Q97.4734 747.332 97.4734 745.642 Q97.4734 742.888 95.5289 741.152 Q93.6076 739.415 90.5058 739.415 Q88.3067 739.415 85.8531 740.179 Q83.4225 740.943 80.6447 742.494 L80.6447 737.772 Q83.4688 736.638 85.9225 736.059 Q88.3762 735.48 90.4132 735.48 Q95.7836 735.48 98.978 738.165 Q102.172 740.851 102.172 745.341 Q102.172 747.471 101.362 749.392 Q100.575 751.29 98.4687 753.883 Q97.89 754.554 94.7882 757.772 Q91.6864 760.966 86.0382 766.73 Z\" fill=\"#000000\" fill-rule=\"nonzero\" fill-opacity=\"1\" /><path clip-path=\"url(#clip060)\" d=\"M112.172 764.786 L117.057 764.786 L117.057 770.665 L112.172 770.665 L112.172 764.786 Z\" fill=\"#000000\" fill-rule=\"nonzero\" fill-opacity=\"1\" /><path clip-path=\"url(#clip060)\" d=\"M127.288 736.105 L145.644 736.105 L145.644 740.04 L131.57 740.04 L131.57 748.513 Q132.589 748.165 133.607 748.003 Q134.626 747.818 135.644 747.818 Q141.431 747.818 144.811 750.99 Q148.191 754.161 148.191 759.577 Q148.191 765.156 144.718 768.258 Q141.246 771.337 134.927 771.337 Q132.751 771.337 130.482 770.966 Q128.237 770.596 125.83 769.855 L125.83 765.156 Q127.913 766.29 130.135 766.846 Q132.357 767.401 134.834 767.401 Q138.839 767.401 141.177 765.295 Q143.515 763.189 143.515 759.577 Q143.515 755.966 141.177 753.86 Q138.839 751.753 134.834 751.753 Q132.959 751.753 131.084 752.17 Q129.232 752.587 127.288 753.466 L127.288 736.105 Z\" fill=\"#000000\" fill-rule=\"nonzero\" fill-opacity=\"1\" /><path clip-path=\"url(#clip060)\" d=\"M81.0614 541.12 L99.4178 541.12 L99.4178 545.055 L85.3438 545.055 L85.3438 553.527 Q86.3623 553.18 87.3808 553.018 Q88.3993 552.833 89.4178 552.833 Q95.2049 552.833 98.5845 556.004 Q101.964 559.176 101.964 564.592 Q101.964 570.171 98.4919 573.273 Q95.0197 576.351 88.7003 576.351 Q86.5243 576.351 84.2558 575.981 Q82.0105 575.611 79.6031 574.87 L79.6031 570.171 Q81.6864 571.305 83.9086 571.861 Q86.1308 572.416 88.6077 572.416 Q92.6123 572.416 94.9502 570.31 Q97.2882 568.203 97.2882 564.592 Q97.2882 560.981 94.9502 558.875 Q92.6123 556.768 88.6077 556.768 Q86.7327 556.768 84.8577 557.185 Q83.0058 557.601 81.0614 558.481 L81.0614 541.12 Z\" fill=\"#000000\" fill-rule=\"nonzero\" fill-opacity=\"1\" /><path clip-path=\"url(#clip060)\" d=\"M111.177 569.8 L116.061 569.8 L116.061 575.68 L111.177 575.68 L111.177 569.8 Z\" fill=\"#000000\" fill-rule=\"nonzero\" fill-opacity=\"1\" /><path clip-path=\"url(#clip060)\" d=\"M136.246 544.199 Q132.635 544.199 130.807 547.764 Q129.001 551.305 129.001 558.435 Q129.001 565.541 130.807 569.106 Q132.635 572.648 136.246 572.648 Q139.881 572.648 141.686 569.106 Q143.515 565.541 143.515 558.435 Q143.515 551.305 141.686 547.764 Q139.881 544.199 136.246 544.199 M136.246 540.495 Q142.056 540.495 145.112 545.102 Q148.191 549.685 148.191 558.435 Q148.191 567.162 145.112 571.768 Q142.056 576.351 136.246 576.351 Q130.436 576.351 127.357 571.768 Q124.302 567.162 124.302 558.435 Q124.302 549.685 127.357 545.102 Q130.436 540.495 136.246 540.495 Z\" fill=\"#000000\" fill-rule=\"nonzero\" fill-opacity=\"1\" /><path clip-path=\"url(#clip060)\" d=\"M80.8299 346.135 L103.052 346.135 L103.052 348.126 L90.5058 380.695 L85.6216 380.695 L97.4271 350.07 L80.8299 350.07 L80.8299 346.135 Z\" fill=\"#000000\" fill-rule=\"nonzero\" fill-opacity=\"1\" /><path clip-path=\"url(#clip060)\" d=\"M112.172 374.815 L117.057 374.815 L117.057 380.695 L112.172 380.695 L112.172 374.815 Z\" fill=\"#000000\" fill-rule=\"nonzero\" fill-opacity=\"1\" /><path clip-path=\"url(#clip060)\" d=\"M127.288 346.135 L145.644 346.135 L145.644 350.07 L131.57 350.07 L131.57 358.542 Q132.589 358.195 133.607 358.033 Q134.626 357.848 135.644 357.848 Q141.431 357.848 144.811 361.019 Q148.191 364.19 148.191 369.607 Q148.191 375.186 144.718 378.287 Q141.246 381.366 134.927 381.366 Q132.751 381.366 130.482 380.996 Q128.237 380.625 125.83 379.885 L125.83 375.186 Q127.913 376.32 130.135 376.875 Q132.357 377.431 134.834 377.431 Q138.839 377.431 141.177 375.325 Q143.515 373.218 143.515 369.607 Q143.515 365.996 141.177 363.889 Q138.839 361.783 134.834 361.783 Q132.959 361.783 131.084 362.2 Q129.232 362.616 127.288 363.496 L127.288 346.135 Z\" fill=\"#000000\" fill-rule=\"nonzero\" fill-opacity=\"1\" /><path clip-path=\"url(#clip060)\" d=\"M51.6634 181.774 L59.3023 181.774 L59.3023 155.409 L50.9921 157.076 L50.9921 152.816 L59.256 151.15 L63.9319 151.15 L63.9319 181.774 L71.5707 181.774 L71.5707 185.71 L51.6634 185.71 L51.6634 181.774 Z\" fill=\"#000000\" fill-rule=\"nonzero\" fill-opacity=\"1\" /><path clip-path=\"url(#clip060)\" d=\"M91.0151 154.228 Q87.404 154.228 85.5753 157.793 Q83.7697 161.335 83.7697 168.464 Q83.7697 175.571 85.5753 179.136 Q87.404 182.677 91.0151 182.677 Q94.6493 182.677 96.4548 179.136 Q98.2835 175.571 98.2835 168.464 Q98.2835 161.335 96.4548 157.793 Q94.6493 154.228 91.0151 154.228 M91.0151 150.525 Q96.8252 150.525 99.8808 155.131 Q102.959 159.714 102.959 168.464 Q102.959 177.191 99.8808 181.798 Q96.8252 186.381 91.0151 186.381 Q85.2049 186.381 82.1262 181.798 Q79.0707 177.191 79.0707 168.464 Q79.0707 159.714 82.1262 155.131 Q85.2049 150.525 91.0151 150.525 Z\" fill=\"#000000\" fill-rule=\"nonzero\" fill-opacity=\"1\" /><path clip-path=\"url(#clip060)\" d=\"M111.177 179.83 L116.061 179.83 L116.061 185.71 L111.177 185.71 L111.177 179.83 Z\" fill=\"#000000\" fill-rule=\"nonzero\" fill-opacity=\"1\" /><path clip-path=\"url(#clip060)\" d=\"M136.246 154.228 Q132.635 154.228 130.807 157.793 Q129.001 161.335 129.001 168.464 Q129.001 175.571 130.807 179.136 Q132.635 182.677 136.246 182.677 Q139.881 182.677 141.686 179.136 Q143.515 175.571 143.515 168.464 Q143.515 161.335 141.686 157.793 Q139.881 154.228 136.246 154.228 M136.246 150.525 Q142.056 150.525 145.112 155.131 Q148.191 159.714 148.191 168.464 Q148.191 177.191 145.112 181.798 Q142.056 186.381 136.246 186.381 Q130.436 186.381 127.357 181.798 Q124.302 177.191 124.302 168.464 Q124.302 159.714 127.357 155.131 Q130.436 150.525 136.246 150.525 Z\" fill=\"#000000\" fill-rule=\"nonzero\" fill-opacity=\"1\" /><path clip-path=\"url(#clip062)\" d=\"M245.565 986.934 L298.022 864.561 L350.479 758.5 L402.936 667.974 L455.392 592.172 L507.849 530.26 L560.306 481.384 L612.763 444.677 L665.22 419.259 L717.677 404.24 L770.133 398.722 L822.59 401.801 L875.047 412.568 L927.504 430.111 L979.961 453.516 L1032.42 481.865 L1084.87 514.243 L1137.33 549.734 L1189.79 587.421 L1242.24 626.391 L1294.7 665.73 L1347.16 704.527 L1399.62 741.872 L1452.07 776.856 L1504.53 808.573 L1556.99 836.115 L1609.44 858.576 L1661.9 875.048 L1714.36 884.623 L1766.81 886.391 L1819.27 879.435 L1871.73 862.836 L1924.18 835.668 L1976.64 796.997 L2029.1 745.876 L2081.55 681.351 L2134.01 602.448 L2186.47 508.176 L2238.92 397.519 L2291.38 269.428 L2291.38 127.98 L2238.92 252.743 L2186.47 361.082 L2134.01 453.771 L2081.55 531.617 L2029.1 595.451 L1976.64 646.125 L1924.18 684.505 L1871.73 711.47 L1819.27 727.908 L1766.81 734.716 L1714.36 732.798 L1661.9 723.062 L1609.44 706.421 L1556.99 683.788 L1504.53 656.079 L1452.07 624.212 L1399.62 589.104 L1347.16 551.669 L1294.7 512.822 L1242.24 473.478 L1189.79 434.547 L1137.33 396.941 L1084.87 361.567 L1032.42 329.334 L979.961 301.149 L927.504 277.917 L875.047 260.547 L822.59 249.947 L770.133 247.028 L717.677 252.704 L665.22 267.894 L612.763 293.524 L560.306 330.528 L507.849 379.849 L455.392 442.441 L402.936 519.276 L350.479 611.342 L298.022 719.651 L245.565 845.25  Z\" fill=\"#009af9\" fill-rule=\"evenodd\" fill-opacity=\"0.2\"/>\n",
       "<polyline clip-path=\"url(#clip062)\" style=\"stroke:#009af9; stroke-linecap:round; stroke-linejoin:round; stroke-width:4; stroke-opacity:1; fill:none\" points=\"245.565,916.092 298.022,792.106 350.479,684.921 402.936,593.625 455.392,517.307 507.849,455.054 560.306,405.956 612.763,369.101 665.22,343.577 717.677,328.472 770.133,322.875 822.59,325.874 875.047,336.558 927.504,354.014 979.961,377.332 1032.42,405.6 1084.87,437.905 1137.33,473.338 1189.79,510.984 1242.24,549.935 1294.7,589.276 1347.16,628.098 1399.62,665.488 1452.07,700.534 1504.53,732.326 1556.99,759.951 1609.44,782.498 1661.9,799.055 1714.36,808.711 1766.81,810.553 1819.27,803.671 1871.73,787.153 1924.18,760.087 1976.64,721.561 2029.1,670.664 2081.55,606.484 2134.01,528.109 2186.47,434.629 2238.92,325.131 2291.38,198.704 \"/>\n",
       "<path clip-path=\"url(#clip062)\" d=\"M245.565 218.697 L298.022 347.715 L350.479 459.444 L402.936 554.929 L455.392 635.183 L507.849 701.194 L560.306 753.934 L612.763 794.357 L665.22 823.407 L717.677 842.017 L770.133 851.112 L822.59 851.612 L875.047 844.431 L927.504 830.48 L979.961 810.668 L1032.42 785.902 L1084.87 757.088 L1137.33 725.134 L1189.79 690.946 L1242.24 655.435 L1294.7 619.51 L1347.16 584.083 L1399.62 550.067 L1452.07 518.378 L1504.53 489.93 L1556.99 465.641 L1609.44 446.427 L1661.9 433.205 L1714.36 426.888 L1766.81 428.39 L1819.27 438.617 L1871.73 458.475 L1924.18 488.858 L1976.64 530.658 L2029.1 584.751 L2081.55 652.005 L2134.01 733.27 L2186.47 829.378 L2238.92 941.137 L2291.38 1069.32 L2291.38 927.871 L2238.92 796.36 L2186.47 682.284 L2134.01 584.592 L2081.55 502.27 L2029.1 434.326 L1976.64 379.786 L1924.18 337.695 L1871.73 307.108 L1819.27 287.09 L1766.81 276.715 L1714.36 275.063 L1661.9 281.219 L1609.44 294.272 L1556.99 313.314 L1504.53 337.437 L1452.07 365.734 L1399.62 397.299 L1347.16 431.225 L1294.7 466.602 L1242.24 502.522 L1189.79 538.072 L1137.33 572.34 L1084.87 604.412 L1032.42 633.371 L979.961 658.301 L927.504 678.286 L875.047 692.41 L822.59 699.758 L770.133 699.418 L717.677 690.48 L665.22 672.042 L612.763 643.204 L560.306 603.078 L507.849 550.783 L455.392 485.452 L402.936 406.231 L350.479 312.285 L298.022 202.805 L245.565 77.0133  Z\" fill=\"#e26f46\" fill-rule=\"evenodd\" fill-opacity=\"0.2\"/>\n",
       "<polyline clip-path=\"url(#clip062)\" style=\"stroke:#e26f46; stroke-linecap:round; stroke-linejoin:round; stroke-width:4; stroke-opacity:1; fill:none\" points=\"245.565,147.855 298.022,275.26 350.479,385.865 402.936,480.58 455.392,560.317 507.849,625.989 560.306,678.506 612.763,718.781 665.22,747.724 717.677,766.249 770.133,775.265 822.59,775.685 875.047,768.421 927.504,754.383 979.961,734.485 1032.42,709.636 1084.87,680.75 1137.33,648.737 1189.79,614.509 1242.24,578.978 1294.7,543.056 1347.16,507.654 1399.62,473.683 1452.07,442.056 1504.53,413.683 1556.99,389.478 1609.44,370.35 1661.9,357.212 1714.36,350.976 1766.81,352.552 1819.27,362.854 1871.73,382.791 1924.18,413.277 1976.64,455.222 2029.1,509.538 2081.55,577.138 2134.01,658.931 2186.47,755.831 2238.92,868.748 2291.38,998.595 \"/>\n",
       "<polyline clip-path=\"url(#clip062)\" style=\"stroke:#3da44d; stroke-linecap:round; stroke-linejoin:round; stroke-width:4; stroke-opacity:1; fill:none\" points=\"-1984.37,565.81 4521.32,565.81 \"/>\n",
       "<path clip-path=\"url(#clip060)\" d=\"M256.476 1064.03 L567.429 1064.03 L567.429 856.666 L256.476 856.666  Z\" fill=\"#ffffff\" fill-rule=\"evenodd\" fill-opacity=\"1\"/>\n",
       "<polyline clip-path=\"url(#clip060)\" style=\"stroke:#000000; stroke-linecap:round; stroke-linejoin:round; stroke-width:4; stroke-opacity:1; fill:none\" points=\"256.476,1064.03 567.429,1064.03 567.429,856.666 256.476,856.666 256.476,1064.03 \"/>\n",
       "<polyline clip-path=\"url(#clip060)\" style=\"stroke:#009af9; stroke-linecap:round; stroke-linejoin:round; stroke-width:4; stroke-opacity:1; fill:none\" points=\"280.571,908.506 425.142,908.506 \"/>\n",
       "<path clip-path=\"url(#clip060)\" d=\"M449.238 891.226 L469.099 891.226 L469.099 895.162 L453.913 895.162 L453.913 905.347 L467.617 905.347 L467.617 909.282 L453.913 909.282 L453.913 925.786 L449.238 925.786 L449.238 891.226 Z\" fill=\"#000000\" fill-rule=\"nonzero\" fill-opacity=\"1\" /><path clip-path=\"url(#clip060)\" d=\"M476.321 889.768 L480.58 889.768 L480.58 925.786 L476.321 925.786 L476.321 889.768 Z\" fill=\"#000000\" fill-rule=\"nonzero\" fill-opacity=\"1\" /><polyline clip-path=\"url(#clip060)\" style=\"stroke:#e26f46; stroke-linecap:round; stroke-linejoin:round; stroke-width:4; stroke-opacity:1; fill:none\" points=\"280.571,960.346 425.142,960.346 \"/>\n",
       "<path clip-path=\"url(#clip060)\" d=\"M449.238 943.066 L469.099 943.066 L469.099 947.002 L453.913 947.002 L453.913 957.187 L467.617 957.187 L467.617 961.122 L453.913 961.122 L453.913 977.626 L449.238 977.626 L449.238 943.066 Z\" fill=\"#000000\" fill-rule=\"nonzero\" fill-opacity=\"1\" /><path clip-path=\"url(#clip060)\" d=\"M487.895 955.682 Q487.177 955.265 486.321 955.08 Q485.487 954.872 484.469 954.872 Q480.858 954.872 478.913 957.233 Q476.992 959.571 476.992 963.969 L476.992 977.626 L472.71 977.626 L472.71 951.701 L476.992 951.701 L476.992 955.728 Q478.335 953.367 480.487 952.233 Q482.64 951.076 485.719 951.076 Q486.159 951.076 486.691 951.145 Q487.223 951.191 487.872 951.307 L487.895 955.682 Z\" fill=\"#000000\" fill-rule=\"nonzero\" fill-opacity=\"1\" /><polyline clip-path=\"url(#clip060)\" style=\"stroke:#3da44d; stroke-linecap:round; stroke-linejoin:round; stroke-width:4; stroke-opacity:1; fill:none\" points=\"280.571,1012.19 425.142,1012.19 \"/>\n",
       "<path clip-path=\"url(#clip060)\" d=\"M449.238 994.906 L469.099 994.906 L469.099 998.842 L453.913 998.842 L453.913 1009.03 L467.617 1009.03 L467.617 1012.96 L453.913 1012.96 L453.913 1029.47 L449.238 1029.47 L449.238 994.906 Z\" fill=\"#000000\" fill-rule=\"nonzero\" fill-opacity=\"1\" /><path clip-path=\"url(#clip060)\" d=\"M493.381 1016.2 Q493.381 1011.57 491.46 1009.03 Q489.561 1006.48 486.112 1006.48 Q482.686 1006.48 480.765 1009.03 Q478.867 1011.57 478.867 1016.2 Q478.867 1020.81 480.765 1023.36 Q482.686 1025.9 486.112 1025.9 Q489.561 1025.9 491.46 1023.36 Q493.381 1020.81 493.381 1016.2 M497.64 1026.25 Q497.64 1032.87 494.7 1036.09 Q491.76 1039.33 485.696 1039.33 Q483.45 1039.33 481.46 1038.98 Q479.469 1038.66 477.594 1037.96 L477.594 1033.82 Q479.469 1034.84 481.298 1035.32 Q483.126 1035.81 485.024 1035.81 Q489.214 1035.81 491.298 1033.61 Q493.381 1031.43 493.381 1027.01 L493.381 1024.91 Q492.061 1027.2 490.001 1028.33 Q487.941 1029.47 485.071 1029.47 Q480.302 1029.47 477.386 1025.83 Q474.469 1022.2 474.469 1016.2 Q474.469 1010.18 477.386 1006.55 Q480.302 1002.92 485.071 1002.92 Q487.941 1002.92 490.001 1004.05 Q492.061 1005.18 493.381 1007.48 L493.381 1003.54 L497.64 1003.54 L497.64 1026.25 Z\" fill=\"#000000\" fill-rule=\"nonzero\" fill-opacity=\"1\" /><path clip-path=\"url(#clip060)\" d=\"M513.983 994.906 L517.918 994.906 L505.881 1033.86 L501.946 1033.86 L513.983 994.906 Z\" fill=\"#000000\" fill-rule=\"nonzero\" fill-opacity=\"1\" /><path clip-path=\"url(#clip060)\" d=\"M527.015 1025.53 L543.334 1025.53 L543.334 1029.47 L521.39 1029.47 L521.39 1025.53 Q524.052 1022.78 528.635 1018.15 Q533.242 1013.49 534.422 1012.15 Q536.668 1009.63 537.547 1007.89 Q538.45 1006.13 538.45 1004.44 Q538.45 1001.69 536.506 999.953 Q534.584 998.217 531.482 998.217 Q529.283 998.217 526.83 998.98 Q524.399 999.744 521.621 1001.3 L521.621 996.573 Q524.445 995.439 526.899 994.86 Q529.353 994.281 531.39 994.281 Q536.76 994.281 539.955 996.967 Q543.149 999.652 543.149 1004.14 Q543.149 1006.27 542.339 1008.19 Q541.552 1010.09 539.445 1012.68 Q538.867 1013.36 535.765 1016.57 Q532.663 1019.77 527.015 1025.53 Z\" fill=\"#000000\" fill-rule=\"nonzero\" fill-opacity=\"1\" /></svg>\n"
      ]
     },
     "metadata": {},
     "output_type": "display_data"
    }
   ],
   "source": [
    "let \n",
    "    inferred_forces_mean = hcat(map(p -> mean(p), results.posteriors[:u])...)'\n",
    "    inferred_forces_std  = hcat(map(p -> sqrt.(var(p)),  results.posteriors[:u])...)'\n",
    "    plot(inferred_forces_mean[:,1]; ribbon = inferred_forces_std[:,1], fillalpha = 0.2, label = \"Fl\", size=(600,300))\n",
    "    plot!(inferred_forces_mean[:,2]; ribbon = inferred_forces_std[:,2], fillalpha = 0.2, label = \"Fr\", size=(600,300))\n",
    "    \n",
    "    hline!([get_mass(drone) * get_gravity(env) / 2], label = \"Fg/2\")\n",
    "end"
   ]
  },
  {
   "cell_type": "markdown",
   "metadata": {},
   "source": [
    "## 3D Drone Extension\n",
    "\n",
    "This section extends our 2D drone model into three-dimensional space, allowing for full spatial navigation. The model includes:\n",
    "\n",
    "- 6 degrees of freedom (position and orientation)\n",
    "- Four-motor configuration\n",
    "- Basic aerodynamic forces\n",
    "\n",
    "> **Note:** This implementation is a simplified model intended for educational purposes. While it captures the fundamental dynamics of a quadcopter, it omits advanced aerodynamic effects and motor dynamics for clarity."
   ]
  },
  {
   "cell_type": "code",
   "execution_count": 19,
   "metadata": {},
   "outputs": [
    {
     "data": {
      "text/plain": [
       "Drone3D"
      ]
     },
     "metadata": {},
     "output_type": "display_data"
    }
   ],
   "source": [
    "# Extended Drone structure for 4 motors\n",
    "Base.@kwdef struct Drone3D\n",
    "    mass::Float64\n",
    "    inertia::Matrix{Float64}  # 3x3 inertia matrix\n",
    "    radius::Float64\n",
    "    arm_length::Float64\n",
    "    force_limit::Float64\n",
    "end"
   ]
  },
  {
   "cell_type": "code",
   "execution_count": 20,
   "metadata": {},
   "outputs": [
    {
     "data": {
      "text/plain": [
       "get_properties (generic function with 2 methods)"
      ]
     },
     "metadata": {},
     "output_type": "display_data"
    }
   ],
   "source": [
    "function get_properties(drone::Drone3D)\n",
    "    return (\n",
    "        drone.mass,\n",
    "        drone.inertia,\n",
    "        drone.radius,\n",
    "        drone.arm_length,\n",
    "        drone.force_limit\n",
    "    )\n",
    "end"
   ]
  },
  {
   "cell_type": "code",
   "execution_count": 21,
   "metadata": {},
   "outputs": [],
   "source": [
    "# Extended State for 3D\n",
    "struct State3D\n",
    "    x::Float64   # position\n",
    "    y::Float64\n",
    "    z::Float64\n",
    "    vx::Float64  # velocity\n",
    "    vy::Float64\n",
    "    vz::Float64\n",
    "    ϕ::Float64   # roll\n",
    "    θ::Float64   # pitch\n",
    "    ψ::Float64   # yaw\n",
    "    ωx::Float64  # angular velocity\n",
    "    ωy::Float64\n",
    "    ωz::Float64\n",
    "end"
   ]
  },
  {
   "cell_type": "code",
   "execution_count": 22,
   "metadata": {},
   "outputs": [
    {
     "data": {
      "text/plain": [
       "get_state (generic function with 2 methods)"
      ]
     },
     "metadata": {},
     "output_type": "display_data"
    }
   ],
   "source": [
    "function get_state(state::State3D)\n",
    "    return (\n",
    "        state.x, state.y, state.z,\n",
    "        state.vx, state.vy, state.vz,\n",
    "        state.ϕ, state.θ, state.ψ,\n",
    "        state.ωx, state.ωy, state.ωz\n",
    "    )\n",
    "end"
   ]
  },
  {
   "cell_type": "code",
   "execution_count": 23,
   "metadata": {},
   "outputs": [
    {
     "data": {
      "text/plain": [
       "rotation_matrix"
      ]
     },
     "metadata": {},
     "output_type": "display_data"
    }
   ],
   "source": [
    "\"\"\"\n",
    "    rotation_matrix(ψ, θ, ϕ)\n",
    "\n",
    "Create a 3D rotation matrix from yaw (ψ), pitch (θ), and roll (ϕ) angles.\n",
    "\"\"\"\n",
    "function rotation_matrix(ψ, θ, ϕ)\n",
    "    # Rotation matrices for each axis\n",
    "    Rz = [cos(ψ) -sin(ψ) 0;\n",
    "          sin(ψ)  cos(ψ) 0;\n",
    "          0       0      1]\n",
    "    \n",
    "    Ry = [cos(θ)  0  sin(θ);\n",
    "          0       1  0;\n",
    "         -sin(θ)  0  cos(θ)]\n",
    "    \n",
    "    Rx = [1  0       0;\n",
    "          0  cos(ϕ) -sin(ϕ);\n",
    "          0  sin(ϕ)  cos(ϕ)]\n",
    "    \n",
    "    # Combined rotation matrix (ZYX order)\n",
    "    return Rz * Ry * Rx\n",
    "end"
   ]
  },
  {
   "cell_type": "code",
   "execution_count": 24,
   "metadata": {},
   "outputs": [
    {
     "data": {
      "text/plain": [
       "state_transition_3d"
      ]
     },
     "metadata": {},
     "output_type": "display_data"
    }
   ],
   "source": [
    "\"\"\"\n",
    "    state_transition_3d(state, actions, drone, environment, dt)\n",
    "\n",
    "Compute the next state of the 3D drone given current state and four motor forces.\n",
    "\"\"\"\n",
    "function state_transition_3d(state, actions, drone::Drone3D, environment::Environment, dt)\n",
    "    # Extract properties\n",
    "    m, I, r, L, limit = get_properties(drone)\n",
    "    g = get_gravity(environment)\n",
    "    \n",
    "    # Clamp motor forces\n",
    "    F1, F2, F3, F4 = clamp.(actions, 0, limit)\n",
    "    \n",
    "    # Extract state\n",
    "    x, y, z, vx, vy, vz, ϕ, θ, ψ, ωx, ωy, ωz = state\n",
    "    \n",
    "    # Current rotation matrix\n",
    "    R = rotation_matrix(ψ, θ, ϕ)\n",
    "    \n",
    "    # Total thrust force in body frame\n",
    "    F_total = sum([F1, F2, F3, F4])\n",
    "    \n",
    "    # Compute torques\n",
    "    τx = L * (F2 - F4)  # roll torque\n",
    "    τy = L * (F1 - F3)   # pitch torque\n",
    "    τz = (F1 + F3 - F2 - F4) * r  # yaw torque\n",
    "    \n",
    "    # Forces in world frame\n",
    "    F_world = R * [0, 0, F_total]\n",
    "    \n",
    "    # Accelerations\n",
    "    ax = F_world[1] / m\n",
    "    ay = F_world[2] / m\n",
    "    az = F_world[3] / m - g\n",
    "    \n",
    "    # Angular accelerations\n",
    "    α = I \\ ([τx, τy, τz] - cross([ωx, ωy, ωz], I * [ωx, ωy, ωz]))\n",
    "    \n",
    "    # Update velocities\n",
    "    vx_new = vx + ax * dt\n",
    "    vy_new = vy + ay * dt\n",
    "    vz_new = vz + az * dt\n",
    "    \n",
    "    # Update positions\n",
    "    x_new = x + vx * dt + ax * dt^2 / 2\n",
    "    y_new = y + vy * dt + ay * dt^2 / 2\n",
    "    z_new = z + vz * dt + az * dt^2 / 2\n",
    "    \n",
    "    # Update angular velocities\n",
    "    ωx_new = ωx + α[1] * dt\n",
    "    ωy_new = ωy + α[2] * dt\n",
    "    ωz_new = ωz + α[3] * dt\n",
    "    \n",
    "    # Update angles\n",
    "    ϕ_new = ϕ + ωx * dt + α[1] * dt^2 / 2\n",
    "    θ_new = θ + ωy * dt + α[2] * dt^2 / 2\n",
    "    ψ_new = ψ + ωz * dt + α[3] * dt^2 / 2\n",
    "    \n",
    "    return [\n",
    "        x_new, y_new, z_new,\n",
    "        vx_new, vy_new, vz_new,\n",
    "        ϕ_new, θ_new, ψ_new,\n",
    "        ωx_new, ωy_new, ωz_new\n",
    "    ]\n",
    "end"
   ]
  },
  {
   "cell_type": "code",
   "execution_count": 25,
   "metadata": {},
   "outputs": [],
   "source": [
    "@model function drone_model_3d(drone, environment, initial_state, goal, horizon, dt)\n",
    "    # Extract properties\n",
    "    g = get_gravity(environment)\n",
    "    m = drone.mass\n",
    "    \n",
    "    # Initial state prior\n",
    "    s[1] ~ MvNormal(mean = initial_state, covariance = 1e-5 * I)\n",
    "    \n",
    "    for i in 1:horizon\n",
    "        # Prior on motor actions (mean compensates for gravity)\n",
    "        hover_force = m * g / 4\n",
    "        u[i] ~ MvNormal(μ = [hover_force, hover_force, hover_force, hover_force], Σ = diageye(4))\n",
    "        \n",
    "        # State transition\n",
    "        s[i + 1] ~ MvNormal(\n",
    "            μ = state_transition_3d(s[i], u[i], drone, environment, dt),\n",
    "            Σ = 1e-10 * I\n",
    "        )\n",
    "    end\n",
    "    \n",
    "    s[end] ~ MvNormal(mean = goal, covariance = 1e-5 * diageye(12))\n",
    "end"
   ]
  },
  {
   "cell_type": "code",
   "execution_count": 26,
   "metadata": {},
   "outputs": [
    {
     "data": {
      "text/plain": [
       "drone_meta_3d (generic function with 1 method)"
      ]
     },
     "metadata": {},
     "output_type": "display_data"
    }
   ],
   "source": [
    "@meta function drone_meta_3d()\n",
    "    state_transition_3d() -> Unscented()\n",
    "end"
   ]
  },
  {
   "cell_type": "code",
   "execution_count": 27,
   "metadata": {},
   "outputs": [
    {
     "data": {
      "text/plain": [
       "move_to_target_3d (generic function with 1 method)"
      ]
     },
     "metadata": {},
     "output_type": "display_data"
    }
   ],
   "source": [
    "function move_to_target_3d(drone::Drone3D, env::Environment, start::State3D, target, horizon, dt)\n",
    "    results = infer(\n",
    "        model = drone_model_3d(\n",
    "            drone = drone,\n",
    "            environment = env,\n",
    "            horizon = horizon,\n",
    "            dt = dt\n",
    "        ),\n",
    "        data = (\n",
    "            initial_state = collect(get_state(start)),\n",
    "            goal = [target[1], target[2], target[3], 0, 0, 0, 0, 0, 0, 0, 0, 0],\n",
    "        ),\n",
    "        meta = drone_meta_3d(),\n",
    "        returnvars = (s = KeepLast(), u = KeepLast())\n",
    "    )\n",
    "    \n",
    "    return results\n",
    "end"
   ]
  },
  {
   "cell_type": "code",
   "execution_count": 54,
   "metadata": {},
   "outputs": [
    {
     "data": {
      "text/plain": [
       "move_through_waypoints (generic function with 3 methods)"
      ]
     },
     "metadata": {},
     "output_type": "display_data"
    }
   ],
   "source": [
    "function move_through_waypoints(drone::Drone3D, env::Environment, start::State3D, waypoints, steps_per_segment=40, dt=0.05)\n",
    "    current_state = start\n",
    "    all_results = []\n",
    "    all_states = []\n",
    "    \n",
    "    # Move through each waypoint\n",
    "    for (i, target) in enumerate(waypoints)\n",
    "        println(\"Moving to waypoint $i: $target\")\n",
    "        \n",
    "        # Get results for this segment\n",
    "        results = move_to_target_3d(drone, env, current_state, target, steps_per_segment, dt)\n",
    "        push!(all_results, results)\n",
    "        \n",
    "        # Extract final state for next segment\n",
    "        final_states = hcat(map(p -> mean(p), results.posteriors[:s])...)\n",
    "        final_state = State3D(final_states[:, end]...)\n",
    "        push!(all_states, final_states)\n",
    "        \n",
    "        # Update current state\n",
    "        current_state = final_state\n",
    "    end\n",
    "    \n",
    "    # Combine all states for animation\n",
    "    combined_states = hcat(all_states...)\n",
    "    \n",
    "    return combined_states, waypoints\n",
    "end"
   ]
  },
  {
   "cell_type": "code",
   "execution_count": 55,
   "metadata": {},
   "outputs": [
    {
     "data": {
      "text/plain": [
       "plot_drone_3d! (generic function with 1 method)"
      ]
     },
     "metadata": {},
     "output_type": "display_data"
    }
   ],
   "source": [
    "# Visualization function for 3D drone\n",
    "function plot_drone_3d!(p, drone::Drone3D, state::State3D; color=:black)\n",
    "    x, y, z, _, _, _, ϕ, θ, ψ, _, _, _ = get_state(state)\n",
    "    _, _, radius, arm_length, _ = get_properties(drone)\n",
    "    \n",
    "    # Create rotation matrix\n",
    "    R = rotation_matrix(ψ, θ, ϕ)\n",
    "    \n",
    "    # Define arm endpoints in body frame (relative to center)\n",
    "    arm_endpoints = [\n",
    "        [arm_length, 0, 0],   # Right arm (X configuration)\n",
    "        [0, arm_length, 0],   # Front arm\n",
    "        [-arm_length, 0, 0],  # Left arm\n",
    "        [0, -arm_length, 0]   # Back arm\n",
    "    ]\n",
    "    \n",
    "    # Transform arm endpoints to world frame\n",
    "    world_endpoints = []\n",
    "    for endpoint in arm_endpoints\n",
    "        # Convert endpoint to column vector for matrix multiplication\n",
    "        endpoint_vec = reshape(endpoint, :, 1)\n",
    "        # Apply rotation and translation\n",
    "        world_point = R * endpoint_vec + [x, y, z]\n",
    "        push!(world_endpoints, vec(world_point))\n",
    "    end\n",
    "    \n",
    "    # Plot center\n",
    "    scatter!(p, [x], [y], [z], color=color, label=false, markersize=5)\n",
    "    \n",
    "    # Plot arms and motors\n",
    "    for endpoint in world_endpoints\n",
    "        # Draw arm\n",
    "        plot!(p, [x, endpoint[1]], [y, endpoint[2]], [z, endpoint[3]], \n",
    "              color=color, label=false, linewidth=2)\n",
    "        # Draw motor\n",
    "        scatter!(p, [endpoint[1]], [endpoint[2]], [endpoint[3]], \n",
    "                color=color, label=false, markersize=3)\n",
    "    end\n",
    "end"
   ]
  },
  {
   "cell_type": "code",
   "execution_count": 66,
   "metadata": {},
   "outputs": [
    {
     "data": {
      "text/plain": [
       "animate_drone_3d_multi (generic function with 1 method)"
      ]
     },
     "metadata": {},
     "output_type": "display_data"
    }
   ],
   "source": [
    "function animate_drone_3d_multi(drone::Drone3D, states, targets; fps=30)\n",
    "    # Note: The rain animation is purely for visualization aesthetics\n",
    "    # and does not affect the drone's dynamics or trajectory planning\n",
    "    \n",
    "    # Create initial rain streaks\n",
    "    function generate_raindrops(n=50)\n",
    "        x = 4 * rand(n) .- 2  # range [-2, 2]\n",
    "        y = 4 * rand(n) .- 2\n",
    "        z1 = 2 .+ 4 * rand(n)  # start higher up to have some offscreen\n",
    "        z2 = z1 .- 0.3  # fixed length rain streaks\n",
    "        return (x, y, z1, z2)\n",
    "    end\n",
    "    \n",
    "    # Initialize raindrops\n",
    "    raindrops = generate_raindrops()\n",
    "    \n",
    "    animation = @animate for k in 1:size(states,2)\n",
    "        # Update raindrop positions\n",
    "        fall_speed = 0.1\n",
    "        z1 = raindrops[3] .- fall_speed\n",
    "        z2 = raindrops[4] .- fall_speed\n",
    "        \n",
    "        # Regenerate raindrops that have fallen below view\n",
    "        below_view = findall(z2 .<= -2)\n",
    "        if !isempty(below_view)\n",
    "            new_drops = generate_raindrops(length(below_view))\n",
    "            raindrops[1][below_view] = new_drops[1]\n",
    "            raindrops[2][below_view] = new_drops[2]\n",
    "            z1[below_view] = new_drops[3]\n",
    "            z2[below_view] = new_drops[4]\n",
    "        end\n",
    "        \n",
    "        # Update raindrops state\n",
    "        raindrops = (raindrops[1], raindrops[2], z1, z2)\n",
    "        \n",
    "        p = plot3d(\n",
    "            xlims=(-2, 2), ylims=(-2, 2), zlims=(-2, 2),\n",
    "            xlabel=\"X\", ylabel=\"Y\", zlabel=\"Z\",\n",
    "            camera=(45, 30),\n",
    "            title=\"Multi-Waypoint Drone Flight\",\n",
    "            background=:white\n",
    "        )\n",
    "        \n",
    "        # Draw rain streaks\n",
    "        for i in 1:length(raindrops[1])\n",
    "            if raindrops[4][i] > -2  # only draw if in view\n",
    "                plot!(p, [raindrops[1][i], raindrops[1][i]], \n",
    "                        [raindrops[2][i], raindrops[2][i]], \n",
    "                        [raindrops[3][i], raindrops[4][i]],\n",
    "                     color=:grey, \n",
    "                     linestyle=:dash,\n",
    "                     alpha=0.6,\n",
    "                     legend=false,\n",
    "                     linewidth=1)\n",
    "            end\n",
    "        end\n",
    "        \n",
    "        # Plot all targets\n",
    "        for (i, target) in enumerate(targets)\n",
    "            scatter!(p, [target[1]], [target[2]], [target[3]], \n",
    "                    label=i == 1 ? \"waypoints\" : false, \n",
    "                    color=:red,\n",
    "                    markersize=i == 1 ? 5 : 3)\n",
    "            \n",
    "            # Connect waypoints with lines\n",
    "            if i > 1\n",
    "                prev_target = targets[i-1]\n",
    "                plot!(p, [prev_target[1], target[1]], \n",
    "                         [prev_target[2], target[2]], \n",
    "                         [prev_target[3], target[3]],\n",
    "                     color=:red, linestyle=:dash, label=false, linewidth=1)\n",
    "            end\n",
    "        end\n",
    "        \n",
    "        # Plot drone\n",
    "        plot_drone_3d!(p, drone_3d, State3D(states[:, k]...))\n",
    "        \n",
    "        # Add trajectory trace (last 100 points)\n",
    "        trace_start = max(1, k-100)\n",
    "        if k > 1\n",
    "            plot!(p, states[1,trace_start:k], states[2,trace_start:k], states[3,trace_start:k],\n",
    "                  color=:blue, label=false, linewidth=1, linealpha=0.5)\n",
    "        end\n",
    "    end\n",
    "\n",
    "    gif(animation, \"drone_3d_multi.gif\", fps=fps, show_msg = false)\n",
    "\n",
    "    nothing\n",
    "end"
   ]
  },
  {
   "cell_type": "code",
   "execution_count": 67,
   "metadata": {},
   "outputs": [
    {
     "name": "stdout",
     "output_type": "stream",
     "text": [
      "Moving to waypoint 1: [1.0, 1.0, 1.0]\n",
      "Moving to waypoint 2: [-1.0, 1.0, 1.0]\n",
      "Moving to waypoint 3: [-1.0, -1.0, 1.0]\n",
      "Moving to waypoint 4: [1.0, -1.0, 1.0]\n",
      "Moving to waypoint 5: [0.0, 0.0, 0.0]\n"
     ]
    }
   ],
   "source": [
    "# Create drone instance\n",
    "drone_3d = Drone3D(\n",
    "    mass = 1.0,\n",
    "    inertia = diagm([0.1, 0.1, 0.15]),  # 3×3 diagonal inertia matrix\n",
    "    radius = 0.1,\n",
    "    arm_length = 0.2,\n",
    "    force_limit = 15.0\n",
    ")\n",
    "\n",
    "env = Environment()\n",
    "\n",
    "# Initial state\n",
    "start = State3D(\n",
    "    0.0, 0.0, 0.0,  # position (x, y, z)\n",
    "    0.0, 0.0, 0.0,  # velocity (vx, vy, vz)\n",
    "    0.0, 0.0, 0.0,  # orientation (ϕ, θ, ψ)\n",
    "    0.0, 0.0, 0.0   # angular velocity (ωx, ωy, ωz)\n",
    ")\n",
    "\n",
    "# Define a sequence of waypoints for a square pattern\n",
    "waypoints = [\n",
    "    [1.0, 1.0, 1.0],    # Front-right corner\n",
    "    [-1.0, 1.0, 1.0],   # Front-left corner\n",
    "    [-1.0, -1.0, 1.0],  # Back-left corner\n",
    "    [1.0, -1.0, 1.0],   # Back-right corner\n",
    "    [0.0, 0.0, 0.0]     # Land at center\n",
    "]\n",
    "\n",
    "# Run simulation through all waypoints\n",
    "combined_states, targets = move_through_waypoints(drone_3d, env, start, waypoints);"
   ]
  },
  {
   "cell_type": "code",
   "execution_count": 68,
   "metadata": {},
   "outputs": [],
   "source": [
    "animate_drone_3d_multi(drone_3d, combined_states, targets)"
   ]
  },
  {
   "cell_type": "markdown",
   "metadata": {},
   "source": [
    "![](drone_3d_multi.gif)"
   ]
  }
 ],
 "metadata": {
  "kernelspec": {
   "display_name": "Julia 1.11.2",
   "language": "julia",
   "name": "julia-1.11"
  },
  "language_info": {
   "file_extension": ".jl",
   "mimetype": "application/julia",
   "name": "julia",
   "version": "1.11.2"
  }
 },
 "nbformat": 4,
 "nbformat_minor": 4
}
